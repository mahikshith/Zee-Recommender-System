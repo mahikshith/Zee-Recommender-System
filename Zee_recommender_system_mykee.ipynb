{
 "cells": [
  {
   "cell_type": "markdown",
   "metadata": {},
   "source": [
    "## ZEE Recommender System\n",
    "\n",
    "Problem statement : \n",
    "\n",
    "Build a recommender system that's going to recommend movies to a user based on ratings given by a user and other users similar to them in order to improve user experience."
   ]
  },
  {
   "cell_type": "code",
   "execution_count": 1,
   "metadata": {},
   "outputs": [],
   "source": [
    "# importing the libraries \n",
    "import pandas as pd\n",
    "import numpy as np\n",
    "import matplotlib.pyplot as plt\n",
    "import seaborn as sns\n",
    "from sklearn.metrics.pairwise import cosine_similarity\n",
    "from sklearn.neighbors import NearestNeighbors \n",
    "import warnings \n",
    "from sklearn.metrics import mean_squared_error,mean_absolute_percentage_error"
   ]
  },
  {
   "cell_type": "code",
   "execution_count": 2,
   "metadata": {},
   "outputs": [],
   "source": [
    "warnings.filterwarnings('ignore')"
   ]
  },
  {
   "cell_type": "code",
   "execution_count": 3,
   "metadata": {},
   "outputs": [],
   "source": [
    "# reading the data \n",
    "\n",
    "movies = pd.read_fwf('zee-movies.dat',encoding='ISO-8859-1')\n",
    "users = pd.read_fwf('zee-users.dat',encoding='ISO-8859-1')\n",
    "reviews = pd.read_fwf('zee-ratings.dat',encoding='ISO-8859-1')"
   ]
  },
  {
   "cell_type": "code",
   "execution_count": 4,
   "metadata": {},
   "outputs": [
    {
     "data": {
      "text/html": [
       "<div>\n",
       "<style scoped>\n",
       "    .dataframe tbody tr th:only-of-type {\n",
       "        vertical-align: middle;\n",
       "    }\n",
       "\n",
       "    .dataframe tbody tr th {\n",
       "        vertical-align: top;\n",
       "    }\n",
       "\n",
       "    .dataframe thead th {\n",
       "        text-align: right;\n",
       "    }\n",
       "</style>\n",
       "<table border=\"1\" class=\"dataframe\">\n",
       "  <thead>\n",
       "    <tr style=\"text-align: right;\">\n",
       "      <th></th>\n",
       "      <th>Movie ID::Title::Genres</th>\n",
       "      <th>Unnamed: 1</th>\n",
       "      <th>Unnamed: 2</th>\n",
       "    </tr>\n",
       "  </thead>\n",
       "  <tbody>\n",
       "    <tr>\n",
       "      <th>0</th>\n",
       "      <td>1::Toy Story (1995)::Animation|Children's|Comedy</td>\n",
       "      <td>NaN</td>\n",
       "      <td>NaN</td>\n",
       "    </tr>\n",
       "    <tr>\n",
       "      <th>1</th>\n",
       "      <td>2::Jumanji (1995)::Adventure|Children's|Fantasy</td>\n",
       "      <td>NaN</td>\n",
       "      <td>NaN</td>\n",
       "    </tr>\n",
       "    <tr>\n",
       "      <th>2</th>\n",
       "      <td>3::Grumpier Old Men (1995)::Comedy|Romance</td>\n",
       "      <td>NaN</td>\n",
       "      <td>NaN</td>\n",
       "    </tr>\n",
       "    <tr>\n",
       "      <th>3</th>\n",
       "      <td>4::Waiting to Exhale (1995)::Comedy|Drama</td>\n",
       "      <td>NaN</td>\n",
       "      <td>NaN</td>\n",
       "    </tr>\n",
       "  </tbody>\n",
       "</table>\n",
       "</div>"
      ],
      "text/plain": [
       "                            Movie ID::Title::Genres Unnamed: 1 Unnamed: 2\n",
       "0  1::Toy Story (1995)::Animation|Children's|Comedy        NaN        NaN\n",
       "1   2::Jumanji (1995)::Adventure|Children's|Fantasy        NaN        NaN\n",
       "2        3::Grumpier Old Men (1995)::Comedy|Romance        NaN        NaN\n",
       "3         4::Waiting to Exhale (1995)::Comedy|Drama        NaN        NaN"
      ]
     },
     "execution_count": 4,
     "metadata": {},
     "output_type": "execute_result"
    }
   ],
   "source": [
    "movies.head(4)"
   ]
  },
  {
   "cell_type": "code",
   "execution_count": 5,
   "metadata": {},
   "outputs": [
    {
     "data": {
      "text/html": [
       "<div>\n",
       "<style scoped>\n",
       "    .dataframe tbody tr th:only-of-type {\n",
       "        vertical-align: middle;\n",
       "    }\n",
       "\n",
       "    .dataframe tbody tr th {\n",
       "        vertical-align: top;\n",
       "    }\n",
       "\n",
       "    .dataframe thead th {\n",
       "        text-align: right;\n",
       "    }\n",
       "</style>\n",
       "<table border=\"1\" class=\"dataframe\">\n",
       "  <thead>\n",
       "    <tr style=\"text-align: right;\">\n",
       "      <th></th>\n",
       "      <th>Movie ID::Title::Genres</th>\n",
       "    </tr>\n",
       "  </thead>\n",
       "  <tbody>\n",
       "    <tr>\n",
       "      <th>0</th>\n",
       "      <td>1::Toy Story (1995)::Animation|Children's|Comedy</td>\n",
       "    </tr>\n",
       "    <tr>\n",
       "      <th>1</th>\n",
       "      <td>2::Jumanji (1995)::Adventure|Children's|Fantasy</td>\n",
       "    </tr>\n",
       "    <tr>\n",
       "      <th>2</th>\n",
       "      <td>3::Grumpier Old Men (1995)::Comedy|Romance</td>\n",
       "    </tr>\n",
       "    <tr>\n",
       "      <th>3</th>\n",
       "      <td>4::Waiting to Exhale (1995)::Comedy|Drama</td>\n",
       "    </tr>\n",
       "  </tbody>\n",
       "</table>\n",
       "</div>"
      ],
      "text/plain": [
       "                            Movie ID::Title::Genres\n",
       "0  1::Toy Story (1995)::Animation|Children's|Comedy\n",
       "1   2::Jumanji (1995)::Adventure|Children's|Fantasy\n",
       "2        3::Grumpier Old Men (1995)::Comedy|Romance\n",
       "3         4::Waiting to Exhale (1995)::Comedy|Drama"
      ]
     },
     "execution_count": 5,
     "metadata": {},
     "output_type": "execute_result"
    }
   ],
   "source": [
    "# drop unnamed columns\n",
    "movies.drop(['Unnamed: 1','Unnamed: 2'],axis=1,inplace=True)\n",
    "movies.head(4)"
   ]
  },
  {
   "cell_type": "code",
   "execution_count": 6,
   "metadata": {},
   "outputs": [],
   "source": [
    "# split the columns and expand into new columns\n",
    "movies = movies['Movie ID::Title::Genres'].str.split('::',expand=True)"
   ]
  },
  {
   "cell_type": "code",
   "execution_count": 7,
   "metadata": {},
   "outputs": [],
   "source": [
    "movies.columns = ['movie_id','title','genres']"
   ]
  },
  {
   "cell_type": "code",
   "execution_count": 8,
   "metadata": {},
   "outputs": [
    {
     "data": {
      "text/html": [
       "<div>\n",
       "<style scoped>\n",
       "    .dataframe tbody tr th:only-of-type {\n",
       "        vertical-align: middle;\n",
       "    }\n",
       "\n",
       "    .dataframe tbody tr th {\n",
       "        vertical-align: top;\n",
       "    }\n",
       "\n",
       "    .dataframe thead th {\n",
       "        text-align: right;\n",
       "    }\n",
       "</style>\n",
       "<table border=\"1\" class=\"dataframe\">\n",
       "  <thead>\n",
       "    <tr style=\"text-align: right;\">\n",
       "      <th></th>\n",
       "      <th>movie_id</th>\n",
       "      <th>title</th>\n",
       "      <th>genres</th>\n",
       "    </tr>\n",
       "  </thead>\n",
       "  <tbody>\n",
       "    <tr>\n",
       "      <th>0</th>\n",
       "      <td>1</td>\n",
       "      <td>Toy Story (1995)</td>\n",
       "      <td>Animation|Children's|Comedy</td>\n",
       "    </tr>\n",
       "    <tr>\n",
       "      <th>1</th>\n",
       "      <td>2</td>\n",
       "      <td>Jumanji (1995)</td>\n",
       "      <td>Adventure|Children's|Fantasy</td>\n",
       "    </tr>\n",
       "    <tr>\n",
       "      <th>2</th>\n",
       "      <td>3</td>\n",
       "      <td>Grumpier Old Men (1995)</td>\n",
       "      <td>Comedy|Romance</td>\n",
       "    </tr>\n",
       "    <tr>\n",
       "      <th>3</th>\n",
       "      <td>4</td>\n",
       "      <td>Waiting to Exhale (1995)</td>\n",
       "      <td>Comedy|Drama</td>\n",
       "    </tr>\n",
       "  </tbody>\n",
       "</table>\n",
       "</div>"
      ],
      "text/plain": [
       "  movie_id                     title                        genres\n",
       "0        1          Toy Story (1995)   Animation|Children's|Comedy\n",
       "1        2            Jumanji (1995)  Adventure|Children's|Fantasy\n",
       "2        3   Grumpier Old Men (1995)                Comedy|Romance\n",
       "3        4  Waiting to Exhale (1995)                  Comedy|Drama"
      ]
     },
     "execution_count": 8,
     "metadata": {},
     "output_type": "execute_result"
    }
   ],
   "source": [
    "movies.head(4)"
   ]
  },
  {
   "cell_type": "code",
   "execution_count": 9,
   "metadata": {},
   "outputs": [
    {
     "data": {
      "text/html": [
       "<div>\n",
       "<style scoped>\n",
       "    .dataframe tbody tr th:only-of-type {\n",
       "        vertical-align: middle;\n",
       "    }\n",
       "\n",
       "    .dataframe tbody tr th {\n",
       "        vertical-align: top;\n",
       "    }\n",
       "\n",
       "    .dataframe thead th {\n",
       "        text-align: right;\n",
       "    }\n",
       "</style>\n",
       "<table border=\"1\" class=\"dataframe\">\n",
       "  <thead>\n",
       "    <tr style=\"text-align: right;\">\n",
       "      <th></th>\n",
       "      <th>user_id</th>\n",
       "      <th>movie_id</th>\n",
       "      <th>rating</th>\n",
       "      <th>timestamp</th>\n",
       "    </tr>\n",
       "  </thead>\n",
       "  <tbody>\n",
       "    <tr>\n",
       "      <th>0</th>\n",
       "      <td>1</td>\n",
       "      <td>1193</td>\n",
       "      <td>5</td>\n",
       "      <td>978300760</td>\n",
       "    </tr>\n",
       "    <tr>\n",
       "      <th>1</th>\n",
       "      <td>1</td>\n",
       "      <td>661</td>\n",
       "      <td>3</td>\n",
       "      <td>978302109</td>\n",
       "    </tr>\n",
       "    <tr>\n",
       "      <th>2</th>\n",
       "      <td>1</td>\n",
       "      <td>914</td>\n",
       "      <td>3</td>\n",
       "      <td>978301968</td>\n",
       "    </tr>\n",
       "    <tr>\n",
       "      <th>3</th>\n",
       "      <td>1</td>\n",
       "      <td>3408</td>\n",
       "      <td>4</td>\n",
       "      <td>978300275</td>\n",
       "    </tr>\n",
       "  </tbody>\n",
       "</table>\n",
       "</div>"
      ],
      "text/plain": [
       "  user_id movie_id rating  timestamp\n",
       "0       1     1193      5  978300760\n",
       "1       1      661      3  978302109\n",
       "2       1      914      3  978301968\n",
       "3       1     3408      4  978300275"
      ]
     },
     "execution_count": 9,
     "metadata": {},
     "output_type": "execute_result"
    }
   ],
   "source": [
    "# splitting the reviews \n",
    "reviews = reviews['UserID::MovieID::Rating::Timestamp'].str.split('::',expand=True)\n",
    "reviews.columns = ['user_id','movie_id','rating','timestamp']\n",
    "reviews.head(4)"
   ]
  },
  {
   "cell_type": "code",
   "execution_count": 10,
   "metadata": {},
   "outputs": [
    {
     "data": {
      "text/html": [
       "<div>\n",
       "<style scoped>\n",
       "    .dataframe tbody tr th:only-of-type {\n",
       "        vertical-align: middle;\n",
       "    }\n",
       "\n",
       "    .dataframe tbody tr th {\n",
       "        vertical-align: top;\n",
       "    }\n",
       "\n",
       "    .dataframe thead th {\n",
       "        text-align: right;\n",
       "    }\n",
       "</style>\n",
       "<table border=\"1\" class=\"dataframe\">\n",
       "  <thead>\n",
       "    <tr style=\"text-align: right;\">\n",
       "      <th></th>\n",
       "      <th>user_id</th>\n",
       "      <th>gender</th>\n",
       "      <th>age</th>\n",
       "      <th>occupation</th>\n",
       "      <th>zip_code</th>\n",
       "    </tr>\n",
       "  </thead>\n",
       "  <tbody>\n",
       "    <tr>\n",
       "      <th>0</th>\n",
       "      <td>1</td>\n",
       "      <td>F</td>\n",
       "      <td>1</td>\n",
       "      <td>10</td>\n",
       "      <td>48067</td>\n",
       "    </tr>\n",
       "    <tr>\n",
       "      <th>1</th>\n",
       "      <td>2</td>\n",
       "      <td>M</td>\n",
       "      <td>56</td>\n",
       "      <td>16</td>\n",
       "      <td>70072</td>\n",
       "    </tr>\n",
       "    <tr>\n",
       "      <th>2</th>\n",
       "      <td>3</td>\n",
       "      <td>M</td>\n",
       "      <td>25</td>\n",
       "      <td>15</td>\n",
       "      <td>55117</td>\n",
       "    </tr>\n",
       "    <tr>\n",
       "      <th>3</th>\n",
       "      <td>4</td>\n",
       "      <td>M</td>\n",
       "      <td>45</td>\n",
       "      <td>7</td>\n",
       "      <td>02460</td>\n",
       "    </tr>\n",
       "  </tbody>\n",
       "</table>\n",
       "</div>"
      ],
      "text/plain": [
       "  user_id gender age occupation zip_code\n",
       "0       1      F   1         10    48067\n",
       "1       2      M  56         16    70072\n",
       "2       3      M  25         15    55117\n",
       "3       4      M  45          7    02460"
      ]
     },
     "execution_count": 10,
     "metadata": {},
     "output_type": "execute_result"
    }
   ],
   "source": [
    "# split users and expand into new columns\n",
    "users = users['UserID::Gender::Age::Occupation::Zip-code'].str.split('::',expand=True)\n",
    "users.columns = ['user_id','gender','age','occupation','zip_code']\n",
    "users.head(4)"
   ]
  },
  {
   "cell_type": "code",
   "execution_count": 11,
   "metadata": {},
   "outputs": [
    {
     "name": "stdout",
     "output_type": "stream",
     "text": [
      "<class 'pandas.core.frame.DataFrame'>\n",
      "RangeIndex: 6040 entries, 0 to 6039\n",
      "Data columns (total 5 columns):\n",
      " #   Column      Non-Null Count  Dtype \n",
      "---  ------      --------------  ----- \n",
      " 0   user_id     6040 non-null   object\n",
      " 1   gender      6040 non-null   object\n",
      " 2   age         6040 non-null   object\n",
      " 3   occupation  6040 non-null   object\n",
      " 4   zip_code    6040 non-null   object\n",
      "dtypes: object(5)\n",
      "memory usage: 236.1+ KB\n"
     ]
    }
   ],
   "source": [
    "users.info()"
   ]
  },
  {
   "cell_type": "code",
   "execution_count": 12,
   "metadata": {},
   "outputs": [
    {
     "data": {
      "text/plain": [
       "25    2096\n",
       "35    1193\n",
       "18    1103\n",
       "45     550\n",
       "50     496\n",
       "56     380\n",
       "1      222\n",
       "Name: age, dtype: int64"
      ]
     },
     "execution_count": 12,
     "metadata": {},
     "output_type": "execute_result"
    }
   ],
   "source": [
    "users[\"age\"].value_counts()"
   ]
  },
  {
   "cell_type": "code",
   "execution_count": 13,
   "metadata": {},
   "outputs": [],
   "source": [
    "users.replace({\"age\" : {\"1\":\"Under 18\",\"18\":\"18-24\",\n",
    "                        \"25\":\"25-34\",\"35\":\"35-44\",\n",
    "                        \"45\":\"45-49\",\"50\":\"50-55\",\"56\":\"56 Above\"}} , inplace = True)\n",
    "\n"
   ]
  },
  {
   "cell_type": "markdown",
   "metadata": {},
   "source": [
    "- Occupation is chosen from the following choices:\n",
    "\n",
    "\t*  0:  \"other\" or not specified\n",
    "\t*  1:  \"academic/educator\"\n",
    "\t*  2:  \"artist\"\n",
    "\t*  3:  \"clerical/admin\"\n",
    "\t*  4:  \"college/grad student\"\n",
    "\t*  5:  \"customer service\"\n",
    "\t*  6:  \"doctor/health care\"\n",
    "\t*  7:  \"executive/managerial\"\n",
    "\t*  8:  \"farmer\"\n",
    "\t*  9:  \"homemaker\"\n",
    "\t* 10:  \"K-12 student\"\n",
    "\t* 11:  \"lawyer\"\n",
    "\t* 12:  \"programmer\"\n",
    "\t* 13:  \"retired\"\n",
    "\t* 14:  \"sales/marketing\"\n",
    "\t* 15:  \"scientist\"\n",
    "\t* 16:  \"self-employed\"\n",
    "\t* 17:  \"technician/engineer\"\n",
    "\t* 18:  \"tradesman/craftsman\"\n",
    "\t* 19:  \"unemployed\"\n",
    "\t* 20:  \"writer\""
   ]
  },
  {
   "cell_type": "code",
   "execution_count": 14,
   "metadata": {},
   "outputs": [],
   "source": [
    "users.replace({\"occupation\": {\n",
    "    \"0\":\"other\",\"1\":\"academic/educator\",\"2\":\"artist\",\"3\":\"clerical/admin\",\n",
    "    \"4\":\"college/grad student\",\"5\":\"customer service\",\"6\":\"doctor/health care\",\n",
    "    \"7\":\"executive/managerial\",\"8\":\"farmer\",\"9\":\"homemaker\",\"10\":\"K-12 student\",\n",
    "    \"11\":\"lawyer\",\"12\":\"programmer\",\"13\":\"retired\",\"14\":\"sales/marketing\",\n",
    "    \"15\":\"scientist\",\"16\":\"self-employed\",\"17\":\"technician/engineer\",\n",
    "    \"18\":\"tradesman/craftsman\",\"19\":\"unemployed\",\"20\":\"writer\"}},inplace=True)\n"
   ]
  },
  {
   "cell_type": "markdown",
   "metadata": {},
   "source": [
    "## Data pre-processing"
   ]
  },
  {
   "cell_type": "code",
   "execution_count": 15,
   "metadata": {},
   "outputs": [
    {
     "name": "stdout",
     "output_type": "stream",
     "text": [
      "(6040, 5) (3883, 3) (1000209, 4)\n"
     ]
    }
   ],
   "source": [
    "print(users.shape , movies.shape , reviews.shape)"
   ]
  },
  {
   "cell_type": "code",
   "execution_count": 16,
   "metadata": {},
   "outputs": [
    {
     "data": {
      "text/plain": [
       "Index(['movie_id', 'title', 'genres'], dtype='object')"
      ]
     },
     "execution_count": 16,
     "metadata": {},
     "output_type": "execute_result"
    }
   ],
   "source": [
    "movies.columns"
   ]
  },
  {
   "cell_type": "code",
   "execution_count": 17,
   "metadata": {},
   "outputs": [
    {
     "data": {
      "text/plain": [
       "Index(['user_id', 'movie_id', 'rating', 'timestamp'], dtype='object')"
      ]
     },
     "execution_count": 17,
     "metadata": {},
     "output_type": "execute_result"
    }
   ],
   "source": [
    "# we can merge movies and reviews\n",
    "reviews.columns"
   ]
  },
  {
   "cell_type": "code",
   "execution_count": 18,
   "metadata": {},
   "outputs": [
    {
     "data": {
      "text/html": [
       "<div>\n",
       "<style scoped>\n",
       "    .dataframe tbody tr th:only-of-type {\n",
       "        vertical-align: middle;\n",
       "    }\n",
       "\n",
       "    .dataframe tbody tr th {\n",
       "        vertical-align: top;\n",
       "    }\n",
       "\n",
       "    .dataframe thead th {\n",
       "        text-align: right;\n",
       "    }\n",
       "</style>\n",
       "<table border=\"1\" class=\"dataframe\">\n",
       "  <thead>\n",
       "    <tr style=\"text-align: right;\">\n",
       "      <th></th>\n",
       "      <th>movie_id</th>\n",
       "      <th>title</th>\n",
       "      <th>genres</th>\n",
       "    </tr>\n",
       "  </thead>\n",
       "  <tbody>\n",
       "    <tr>\n",
       "      <th>0</th>\n",
       "      <td>1</td>\n",
       "      <td>Toy Story (1995)</td>\n",
       "      <td>Animation|Children's|Comedy</td>\n",
       "    </tr>\n",
       "    <tr>\n",
       "      <th>1</th>\n",
       "      <td>2</td>\n",
       "      <td>Jumanji (1995)</td>\n",
       "      <td>Adventure|Children's|Fantasy</td>\n",
       "    </tr>\n",
       "    <tr>\n",
       "      <th>2</th>\n",
       "      <td>3</td>\n",
       "      <td>Grumpier Old Men (1995)</td>\n",
       "      <td>Comedy|Romance</td>\n",
       "    </tr>\n",
       "  </tbody>\n",
       "</table>\n",
       "</div>"
      ],
      "text/plain": [
       "  movie_id                    title                        genres\n",
       "0        1         Toy Story (1995)   Animation|Children's|Comedy\n",
       "1        2           Jumanji (1995)  Adventure|Children's|Fantasy\n",
       "2        3  Grumpier Old Men (1995)                Comedy|Romance"
      ]
     },
     "execution_count": 18,
     "metadata": {},
     "output_type": "execute_result"
    }
   ],
   "source": [
    "movies.head(3)"
   ]
  },
  {
   "cell_type": "code",
   "execution_count": 19,
   "metadata": {},
   "outputs": [
    {
     "data": {
      "text/html": [
       "<div>\n",
       "<style scoped>\n",
       "    .dataframe tbody tr th:only-of-type {\n",
       "        vertical-align: middle;\n",
       "    }\n",
       "\n",
       "    .dataframe tbody tr th {\n",
       "        vertical-align: top;\n",
       "    }\n",
       "\n",
       "    .dataframe thead th {\n",
       "        text-align: right;\n",
       "    }\n",
       "</style>\n",
       "<table border=\"1\" class=\"dataframe\">\n",
       "  <thead>\n",
       "    <tr style=\"text-align: right;\">\n",
       "      <th></th>\n",
       "      <th>movie_id</th>\n",
       "      <th>title</th>\n",
       "      <th>genres</th>\n",
       "      <th>year</th>\n",
       "    </tr>\n",
       "  </thead>\n",
       "  <tbody>\n",
       "    <tr>\n",
       "      <th>0</th>\n",
       "      <td>1</td>\n",
       "      <td>Toy Story (1995)</td>\n",
       "      <td>Animation|Children's|Comedy</td>\n",
       "      <td>1995</td>\n",
       "    </tr>\n",
       "    <tr>\n",
       "      <th>1</th>\n",
       "      <td>2</td>\n",
       "      <td>Jumanji (1995)</td>\n",
       "      <td>Adventure|Children's|Fantasy</td>\n",
       "      <td>1995</td>\n",
       "    </tr>\n",
       "    <tr>\n",
       "      <th>2</th>\n",
       "      <td>3</td>\n",
       "      <td>Grumpier Old Men (1995)</td>\n",
       "      <td>Comedy|Romance</td>\n",
       "      <td>1995</td>\n",
       "    </tr>\n",
       "  </tbody>\n",
       "</table>\n",
       "</div>"
      ],
      "text/plain": [
       "  movie_id                    title                        genres  year\n",
       "0        1         Toy Story (1995)   Animation|Children's|Comedy  1995\n",
       "1        2           Jumanji (1995)  Adventure|Children's|Fantasy  1995\n",
       "2        3  Grumpier Old Men (1995)                Comedy|Romance  1995"
      ]
     },
     "execution_count": 19,
     "metadata": {},
     "output_type": "execute_result"
    }
   ],
   "source": [
    "# extract year from title\n",
    "movies['year'] = movies['title'].str.extract('.*\\((.*)\\).*')\n",
    "movies.head(3)"
   ]
  },
  {
   "cell_type": "code",
   "execution_count": 20,
   "metadata": {},
   "outputs": [],
   "source": [
    "# replace year with empty string and then strip it\n",
    "movies['title'] = movies['title'].str.replace('(\\(\\d\\d\\d\\d\\))', '') \n",
    "movies['title'] = movies['title'].apply(lambda x: x.strip())"
   ]
  },
  {
   "cell_type": "code",
   "execution_count": 21,
   "metadata": {},
   "outputs": [
    {
     "data": {
      "text/html": [
       "<div>\n",
       "<style scoped>\n",
       "    .dataframe tbody tr th:only-of-type {\n",
       "        vertical-align: middle;\n",
       "    }\n",
       "\n",
       "    .dataframe tbody tr th {\n",
       "        vertical-align: top;\n",
       "    }\n",
       "\n",
       "    .dataframe thead th {\n",
       "        text-align: right;\n",
       "    }\n",
       "</style>\n",
       "<table border=\"1\" class=\"dataframe\">\n",
       "  <thead>\n",
       "    <tr style=\"text-align: right;\">\n",
       "      <th></th>\n",
       "      <th>movie_id</th>\n",
       "      <th>title</th>\n",
       "      <th>genres</th>\n",
       "      <th>year</th>\n",
       "    </tr>\n",
       "  </thead>\n",
       "  <tbody>\n",
       "    <tr>\n",
       "      <th>1639</th>\n",
       "      <td>1685</td>\n",
       "      <td>I Love You, I Love You Not</td>\n",
       "      <td>Romance</td>\n",
       "      <td>1996</td>\n",
       "    </tr>\n",
       "    <tr>\n",
       "      <th>614</th>\n",
       "      <td>618</td>\n",
       "      <td>Two Much</td>\n",
       "      <td>Comedy|Romance</td>\n",
       "      <td>1996</td>\n",
       "    </tr>\n",
       "    <tr>\n",
       "      <th>1318</th>\n",
       "      <td>1339</td>\n",
       "      <td>Bram Stoker's Dracula</td>\n",
       "      <td>Horror|Romance</td>\n",
       "      <td>1992</td>\n",
       "    </tr>\n",
       "    <tr>\n",
       "      <th>3156</th>\n",
       "      <td>3225</td>\n",
       "      <td>Down to You</td>\n",
       "      <td>Comedy|Romance</td>\n",
       "      <td>2000</td>\n",
       "    </tr>\n",
       "    <tr>\n",
       "      <th>2528</th>\n",
       "      <td>2597</td>\n",
       "      <td>Lost &amp; Found</td>\n",
       "      <td>Comedy|Romance</td>\n",
       "      <td>1999</td>\n",
       "    </tr>\n",
       "    <tr>\n",
       "      <th>1294</th>\n",
       "      <td>1314</td>\n",
       "      <td>Breathing Room</td>\n",
       "      <td>Romance</td>\n",
       "      <td>1996</td>\n",
       "    </tr>\n",
       "    <tr>\n",
       "      <th>457</th>\n",
       "      <td>461</td>\n",
       "      <td>Go Fish</td>\n",
       "      <td>Drama|Romance</td>\n",
       "      <td>1994</td>\n",
       "    </tr>\n",
       "    <tr>\n",
       "      <th>742</th>\n",
       "      <td>752</td>\n",
       "      <td>Vermont Is For Lovers</td>\n",
       "      <td>Comedy|Romance</td>\n",
       "      <td>1992</td>\n",
       "    </tr>\n",
       "    <tr>\n",
       "      <th>2872</th>\n",
       "      <td>2941</td>\n",
       "      <td>South Pacific</td>\n",
       "      <td>Musical|Romance|War</td>\n",
       "      <td>1958</td>\n",
       "    </tr>\n",
       "    <tr>\n",
       "      <th>1976</th>\n",
       "      <td>2045</td>\n",
       "      <td>Far Off Place, A</td>\n",
       "      <td>Adventure|Children's|Drama|Romance</td>\n",
       "      <td>1993</td>\n",
       "    </tr>\n",
       "    <tr>\n",
       "      <th>3034</th>\n",
       "      <td>3103</td>\n",
       "      <td>Stanley &amp; Iris</td>\n",
       "      <td>Drama|Romance</td>\n",
       "      <td>1990</td>\n",
       "    </tr>\n",
       "    <tr>\n",
       "      <th>1479</th>\n",
       "      <td>1514</td>\n",
       "      <td>Temptress Moon (Feng Yue)</td>\n",
       "      <td>Romance</td>\n",
       "      <td>1996</td>\n",
       "    </tr>\n",
       "    <tr>\n",
       "      <th>2099</th>\n",
       "      <td>2168</td>\n",
       "      <td>Dance with Me</td>\n",
       "      <td>Drama|Romance</td>\n",
       "      <td>1998</td>\n",
       "    </tr>\n",
       "    <tr>\n",
       "      <th>1078</th>\n",
       "      <td>1094</td>\n",
       "      <td>Crying Game, The</td>\n",
       "      <td>Drama|Romance|War</td>\n",
       "      <td>1992</td>\n",
       "    </tr>\n",
       "    <tr>\n",
       "      <th>1714</th>\n",
       "      <td>1770</td>\n",
       "      <td>B. Monkey</td>\n",
       "      <td>Romance|Thriller</td>\n",
       "      <td>1998</td>\n",
       "    </tr>\n",
       "  </tbody>\n",
       "</table>\n",
       "</div>"
      ],
      "text/plain": [
       "     movie_id                       title                              genres  \\\n",
       "1639     1685  I Love You, I Love You Not                             Romance   \n",
       "614       618                    Two Much                      Comedy|Romance   \n",
       "1318     1339       Bram Stoker's Dracula                      Horror|Romance   \n",
       "3156     3225                 Down to You                      Comedy|Romance   \n",
       "2528     2597                Lost & Found                      Comedy|Romance   \n",
       "1294     1314              Breathing Room                             Romance   \n",
       "457       461                     Go Fish                       Drama|Romance   \n",
       "742       752       Vermont Is For Lovers                      Comedy|Romance   \n",
       "2872     2941               South Pacific                 Musical|Romance|War   \n",
       "1976     2045            Far Off Place, A  Adventure|Children's|Drama|Romance   \n",
       "3034     3103              Stanley & Iris                       Drama|Romance   \n",
       "1479     1514   Temptress Moon (Feng Yue)                             Romance   \n",
       "2099     2168               Dance with Me                       Drama|Romance   \n",
       "1078     1094            Crying Game, The                   Drama|Romance|War   \n",
       "1714     1770                   B. Monkey                    Romance|Thriller   \n",
       "\n",
       "      year  \n",
       "1639  1996  \n",
       "614   1996  \n",
       "1318  1992  \n",
       "3156  2000  \n",
       "2528  1999  \n",
       "1294  1996  \n",
       "457   1994  \n",
       "742   1992  \n",
       "2872  1958  \n",
       "1976  1993  \n",
       "3034  1990  \n",
       "1479  1996  \n",
       "2099  1998  \n",
       "1078  1992  \n",
       "1714  1998  "
      ]
     },
     "execution_count": 21,
     "metadata": {},
     "output_type": "execute_result"
    }
   ],
   "source": [
    "# check if genres contain \"ro\"\n",
    "movies[movies['genres'].str.contains(\"Ro\",na=False)].sample(15)"
   ]
  },
  {
   "cell_type": "code",
   "execution_count": 22,
   "metadata": {},
   "outputs": [],
   "source": [
    "# movies['genres'].value_counts()[movies['genres'].value_counts() == 1]"
   ]
  },
  {
   "cell_type": "markdown",
   "metadata": {},
   "source": [
    "There are lot of values in  genres column with incomplete text , let's replace them  with original genre"
   ]
  },
  {
   "cell_type": "code",
   "execution_count": 23,
   "metadata": {},
   "outputs": [],
   "source": [
    "df_mov = movies.copy() \n",
    "df_mov.dropna(inplace=True) "
   ]
  },
  {
   "cell_type": "code",
   "execution_count": 24,
   "metadata": {},
   "outputs": [],
   "source": [
    "df_mov['genres'] = df_mov['genres'].str.split('|')"
   ]
  },
  {
   "cell_type": "code",
   "execution_count": 25,
   "metadata": {},
   "outputs": [],
   "source": [
    "df_mov = df_mov.explode('genres')\n"
   ]
  },
  {
   "cell_type": "code",
   "execution_count": 26,
   "metadata": {},
   "outputs": [
    {
     "data": {
      "text/plain": [
       "Drama       1576\n",
       "Comedy      1184\n",
       "Action       500\n",
       "Thriller     484\n",
       "Romance      453\n",
       "            ... \n",
       "Childr         1\n",
       "Music          1\n",
       "Wester         1\n",
       "Chil           1\n",
       "Horr           1\n",
       "Name: genres, Length: 63, dtype: int64"
      ]
     },
     "execution_count": 26,
     "metadata": {},
     "output_type": "execute_result"
    }
   ],
   "source": [
    "df_mov[\"genres\"].value_counts()"
   ]
  },
  {
   "cell_type": "markdown",
   "metadata": {},
   "source": [
    "- Genres are pipe-separated and are selected from the following genres:\n",
    "\n",
    "\t* Action\n",
    "\t* Adventure\n",
    "\t* Animation\n",
    "\t* Children's\n",
    "\t* Comedy\n",
    "\t* Crime\n",
    "\t* Documentary\n",
    "\t* Drama\n",
    "\t* Fantasy\n",
    "\t* Film-Noir\n",
    "\t* Horror\n",
    "\t* Musical\n",
    "\t* Mystery\n",
    "\t* Romance\n",
    "\t* Sci-Fi\n",
    "\t* Thriller\n",
    "\t* War\n",
    "\t* Western"
   ]
  },
  {
   "cell_type": "markdown",
   "metadata": {},
   "source": [
    "Manual pre-processing is needed for genre column"
   ]
  },
  {
   "cell_type": "code",
   "execution_count": 27,
   "metadata": {},
   "outputs": [
    {
     "data": {
      "text/html": [
       "<div>\n",
       "<style scoped>\n",
       "    .dataframe tbody tr th:only-of-type {\n",
       "        vertical-align: middle;\n",
       "    }\n",
       "\n",
       "    .dataframe tbody tr th {\n",
       "        vertical-align: top;\n",
       "    }\n",
       "\n",
       "    .dataframe thead th {\n",
       "        text-align: right;\n",
       "    }\n",
       "</style>\n",
       "<table border=\"1\" class=\"dataframe\">\n",
       "  <thead>\n",
       "    <tr style=\"text-align: right;\">\n",
       "      <th></th>\n",
       "      <th>movie_id</th>\n",
       "      <th>title</th>\n",
       "      <th>genres</th>\n",
       "      <th>year</th>\n",
       "    </tr>\n",
       "  </thead>\n",
       "  <tbody>\n",
       "    <tr>\n",
       "      <th>2</th>\n",
       "      <td>3</td>\n",
       "      <td>Grumpier Old Men</td>\n",
       "      <td>Romance</td>\n",
       "      <td>1995</td>\n",
       "    </tr>\n",
       "    <tr>\n",
       "      <th>6</th>\n",
       "      <td>7</td>\n",
       "      <td>Sabrina</td>\n",
       "      <td>Romance</td>\n",
       "      <td>1995</td>\n",
       "    </tr>\n",
       "    <tr>\n",
       "      <th>10</th>\n",
       "      <td>11</td>\n",
       "      <td>American President, The</td>\n",
       "      <td>Romance</td>\n",
       "      <td>1995</td>\n",
       "    </tr>\n",
       "    <tr>\n",
       "      <th>14</th>\n",
       "      <td>15</td>\n",
       "      <td>Cutthroat Island</td>\n",
       "      <td>Romance</td>\n",
       "      <td>1995</td>\n",
       "    </tr>\n",
       "    <tr>\n",
       "      <th>16</th>\n",
       "      <td>17</td>\n",
       "      <td>Sense and Sensibility</td>\n",
       "      <td>Romance</td>\n",
       "      <td>1995</td>\n",
       "    </tr>\n",
       "    <tr>\n",
       "      <th>...</th>\n",
       "      <td>...</td>\n",
       "      <td>...</td>\n",
       "      <td>...</td>\n",
       "      <td>...</td>\n",
       "    </tr>\n",
       "    <tr>\n",
       "      <th>3785</th>\n",
       "      <td>3855</td>\n",
       "      <td>Affair of Love, An (Une Liaison Pornographique)</td>\n",
       "      <td>Rom</td>\n",
       "      <td>1999</td>\n",
       "    </tr>\n",
       "    <tr>\n",
       "      <th>3804</th>\n",
       "      <td>3874</td>\n",
       "      <td>Couch in New York, A</td>\n",
       "      <td>Romance</td>\n",
       "      <td>1996</td>\n",
       "    </tr>\n",
       "    <tr>\n",
       "      <th>3815</th>\n",
       "      <td>3885</td>\n",
       "      <td>Love &amp; Sex</td>\n",
       "      <td>Romance</td>\n",
       "      <td>2000</td>\n",
       "    </tr>\n",
       "    <tr>\n",
       "      <th>3818</th>\n",
       "      <td>3888</td>\n",
       "      <td>Skipped Parts</td>\n",
       "      <td>Romance</td>\n",
       "      <td>2000</td>\n",
       "    </tr>\n",
       "    <tr>\n",
       "      <th>3839</th>\n",
       "      <td>3909</td>\n",
       "      <td>Woman on Top</td>\n",
       "      <td>Romance</td>\n",
       "      <td>2000</td>\n",
       "    </tr>\n",
       "  </tbody>\n",
       "</table>\n",
       "<p>461 rows × 4 columns</p>\n",
       "</div>"
      ],
      "text/plain": [
       "     movie_id                                            title   genres  year\n",
       "2           3                                 Grumpier Old Men  Romance  1995\n",
       "6           7                                          Sabrina  Romance  1995\n",
       "10         11                          American President, The  Romance  1995\n",
       "14         15                                 Cutthroat Island  Romance  1995\n",
       "16         17                            Sense and Sensibility  Romance  1995\n",
       "...       ...                                              ...      ...   ...\n",
       "3785     3855  Affair of Love, An (Une Liaison Pornographique)      Rom  1999\n",
       "3804     3874                             Couch in New York, A  Romance  1996\n",
       "3815     3885                                       Love & Sex  Romance  2000\n",
       "3818     3888                                    Skipped Parts  Romance  2000\n",
       "3839     3909                                     Woman on Top  Romance  2000\n",
       "\n",
       "[461 rows x 4 columns]"
      ]
     },
     "execution_count": 27,
     "metadata": {},
     "output_type": "execute_result"
    }
   ],
   "source": [
    "# check for romance - ro , romance , roman etc \n",
    "df_mov[df_mov[\"genres\"].str.contains(\"Ro\",na=False)]"
   ]
  },
  {
   "cell_type": "code",
   "execution_count": 28,
   "metadata": {},
   "outputs": [],
   "source": [
    "df_mov[df_mov[\"genres\"].str.contains(\"Ro\",na=False)][\"genres\"].value_counts().index\n",
    "#romance\n",
    "df_mov['genres'] = df_mov['genres'].replace(['Rom', 'Roman', 'Roma', 'Ro','R'], 'romance')\n",
    "\n",
    "df_mov[df_mov[\"genres\"].str.contains(\"Ch\",na=False)][\"genres\"].value_counts().index\n",
    "#  children\n",
    "df_mov[\"genres\"] = df_mov[\"genres\"].replace([\"Children's\", 'Childre', 'Children', 'Chil', 'Childr', 'Children''Chi'], \"children\")\n",
    "df_mov[df_mov[\"genres\"].str.contains(\"Fan\",na=False)][\"genres\"].value_counts().index\n",
    "# replacing with fantasy\n",
    "df_mov[\"genres\"] = df_mov[\"genres\"].replace(['Fantas', 'Fantas', 'Fantasy','Fant'], 'fantasy')\n",
    "df_mov[df_mov[\"genres\"].str.contains(\"Dr\",na=False)][\"genres\"].value_counts().index\n",
    "#drama\n",
    "df_mov[\"genres\"] = df_mov[\"genres\"].replace(['Dram', 'Dram', 'Drama', 'Dr'], 'drama')\n",
    "# documentary\n",
    "df_mov[df_mov[\"genres\"].str.contains(\"Doc\",na=False)][\"genres\"].value_counts().index\n",
    "df_mov[\"genres\"] = df_mov[\"genres\"].replace(['Documenta', 'Document', 'Docu', 'Documen','Documentary'], 'documentary')\n",
    "df_mov[df_mov[\"genres\"].str.contains(\"Ad\",na=False)][\"genres\"].value_counts().index\n",
    "# replacing with adventure\n",
    "df_mov[\"genres\"] = df_mov[\"genres\"].replace(['Adv', 'Adventu', 'Adventur', 'Advent','Adventure'], 'adventure')\n",
    "\n",
    "df_mov[df_mov[\"genres\"].str.contains(\"An\",na=False)][\"genres\"].value_counts().index\n",
    "# replacing with animation\n",
    "df_mov[\"genres\"] = df_mov[\"genres\"].replace(['Animati', 'Animation'], 'animation')\n",
    "df_mov[df_mov[\"genres\"].str.contains(\"Co\",na=False)][\"genres\"].value_counts().index\n",
    "\n",
    "df_mov[\"genres\"] = df_mov[\"genres\"].replace(['Come', 'Comed', 'Com','Comedy'], 'comedy')\n",
    "df_mov[df_mov[\"genres\"].str.contains(\"Cr\",na=False)][\"genres\"].value_counts().index\n",
    "# replacing with crime\n",
    "df_mov[\"genres\"] = df_mov[\"genres\"].replace(['Cr','Crime','Crim','Crime'], 'crime')\n",
    "\n",
    "# film noir \n",
    "df_mov[df_mov[\"genres\"].str.contains(\"Fi\",na=False)][\"genres\"].value_counts().index\n",
    "\n",
    "df_mov[\"genres\"] = df_mov[\"genres\"].replace(['Fi','Film-Noir'], 'film-noir')\n",
    "# horror\n",
    "df_mov[df_mov[\"genres\"].str.contains(\"Ho\",na=False)][\"genres\"].value_counts().index\n",
    "\n",
    "df_mov[\"genres\"] = df_mov[\"genres\"].replace(['Horror', 'Horro', 'Horr'], 'horror')\n",
    "df_mov[df_mov[\"genres\"].str.contains(\"Mu\",na=False)][\"genres\"].value_counts().index\n",
    "#music\n",
    "df_mov[\"genres\"] = df_mov[\"genres\"].replace(['Musical', 'Music', 'Mus', 'Musical'], 'musical')\n",
    "\n",
    "df_mov[df_mov[\"genres\"].str.contains(\"My\",na=False)][\"genres\"].value_counts().index\n",
    "#mystery\n",
    "df_mov[\"genres\"] = df_mov[\"genres\"].replace(['My', 'Myst', 'Myster','Mystery'], 'mystery')\n",
    "\n",
    "df_mov[df_mov[\"genres\"].str.contains(\"Sci\",na=False)][\"genres\"].value_counts().index\n",
    "# sci-fi\n",
    "df_mov[\"genres\"] = df_mov[\"genres\"].replace(['Sci-Fi', 'Sci-', 'Sci', 'Sci-F'], 'sci-fi')\n",
    "\n",
    "df_mov[df_mov[\"genres\"].str.contains(\"Th\",na=False)][\"genres\"].value_counts().index \n",
    "# thriller\n",
    "df_mov[\"genres\"] = df_mov[\"genres\"].replace(['Thriller', 'Thri', 'Th', 'Thrille'], 'thriller')\n",
    "\n",
    "df_mov[df_mov[\"genres\"].str.contains(\"Wa\",na=False)][\"genres\"].value_counts().index\n",
    "# war\n",
    "df_mov[\"genres\"] = df_mov[\"genres\"].replace(['War', 'Wa'], 'war')\n",
    "\n",
    "df_mov[df_mov[\"genres\"].str.contains(\"We\",na=False)][\"genres\"].value_counts().index\n",
    "# western\n",
    "df_mov[\"genres\"] = df_mov[\"genres\"].replace(['Western', 'Wester', 'We'], 'western')\n",
    "\n",
    "df_mov[df_mov[\"genres\"].str.contains(\"Ac\",na=False)][\"genres\"].value_counts().index\n",
    "# action\n",
    "df_mov[\"genres\"] = df_mov[\"genres\"].replace(['Action', 'Ac','Acti'], 'action')\n",
    "\n",
    "df_mov[\"genres\"] = df_mov[\"genres\"].replace([\"Children's\", 'Childre', 'Children', 'Chil', 'Childr', 'Children','Chi',\"Children'\"], \"children\")\n",
    "df_mov[\"genres\"] = df_mov[\"genres\"].replace(['Romance','romance'],'romance')\n",
    "\n",
    "# everything else with na   \n",
    "df_mov[\"genres\"] = df_mov[\"genres\"].replace(['D', 'S', 'A', 'F',''], 'na')"
   ]
  },
  {
   "cell_type": "code",
   "execution_count": 29,
   "metadata": {},
   "outputs": [
    {
     "data": {
      "text/plain": [
       "<AxesSubplot: >"
      ]
     },
     "execution_count": 29,
     "metadata": {},
     "output_type": "execute_result"
    },
    {
     "data": {
      "image/png": "[encoded data removed]",
      "text/plain": [
       "<Figure size 640x480 with 1 Axes>"
      ]
     },
     "metadata": {},
     "output_type": "display_data"
    }
   ],
   "source": [
    "df_mov[\"genres\"].value_counts().plot(kind='bar')"
   ]
  },
  {
   "cell_type": "code",
   "execution_count": 30,
   "metadata": {},
   "outputs": [
    {
     "data": {
      "text/html": [
       "<div>\n",
       "<style scoped>\n",
       "    .dataframe tbody tr th:only-of-type {\n",
       "        vertical-align: middle;\n",
       "    }\n",
       "\n",
       "    .dataframe tbody tr th {\n",
       "        vertical-align: top;\n",
       "    }\n",
       "\n",
       "    .dataframe thead th {\n",
       "        text-align: right;\n",
       "    }\n",
       "</style>\n",
       "<table border=\"1\" class=\"dataframe\">\n",
       "  <thead>\n",
       "    <tr style=\"text-align: right;\">\n",
       "      <th></th>\n",
       "      <th>movie_id</th>\n",
       "      <th>title</th>\n",
       "      <th>genres</th>\n",
       "      <th>year</th>\n",
       "    </tr>\n",
       "  </thead>\n",
       "  <tbody>\n",
       "    <tr>\n",
       "      <th>0</th>\n",
       "      <td>1</td>\n",
       "      <td>Toy Story</td>\n",
       "      <td>animation</td>\n",
       "      <td>1995</td>\n",
       "    </tr>\n",
       "    <tr>\n",
       "      <th>0</th>\n",
       "      <td>1</td>\n",
       "      <td>Toy Story</td>\n",
       "      <td>children</td>\n",
       "      <td>1995</td>\n",
       "    </tr>\n",
       "    <tr>\n",
       "      <th>0</th>\n",
       "      <td>1</td>\n",
       "      <td>Toy Story</td>\n",
       "      <td>comedy</td>\n",
       "      <td>1995</td>\n",
       "    </tr>\n",
       "    <tr>\n",
       "      <th>1</th>\n",
       "      <td>2</td>\n",
       "      <td>Jumanji</td>\n",
       "      <td>adventure</td>\n",
       "      <td>1995</td>\n",
       "    </tr>\n",
       "  </tbody>\n",
       "</table>\n",
       "</div>"
      ],
      "text/plain": [
       "  movie_id      title     genres  year\n",
       "0        1  Toy Story  animation  1995\n",
       "0        1  Toy Story   children  1995\n",
       "0        1  Toy Story     comedy  1995\n",
       "1        2    Jumanji  adventure  1995"
      ]
     },
     "execution_count": 30,
     "metadata": {},
     "output_type": "execute_result"
    }
   ],
   "source": [
    "df_mov.head(4)"
   ]
  },
  {
   "cell_type": "code",
   "execution_count": 31,
   "metadata": {},
   "outputs": [
    {
     "data": {
      "text/html": [
       "<div>\n",
       "<style scoped>\n",
       "    .dataframe tbody tr th:only-of-type {\n",
       "        vertical-align: middle;\n",
       "    }\n",
       "\n",
       "    .dataframe tbody tr th {\n",
       "        vertical-align: top;\n",
       "    }\n",
       "\n",
       "    .dataframe thead th {\n",
       "        text-align: right;\n",
       "    }\n",
       "</style>\n",
       "<table border=\"1\" class=\"dataframe\">\n",
       "  <thead>\n",
       "    <tr style=\"text-align: right;\">\n",
       "      <th></th>\n",
       "      <th>user_id</th>\n",
       "      <th>movie_id</th>\n",
       "      <th>rating</th>\n",
       "      <th>timestamp</th>\n",
       "    </tr>\n",
       "  </thead>\n",
       "  <tbody>\n",
       "    <tr>\n",
       "      <th>0</th>\n",
       "      <td>1</td>\n",
       "      <td>1193</td>\n",
       "      <td>5</td>\n",
       "      <td>978300760</td>\n",
       "    </tr>\n",
       "    <tr>\n",
       "      <th>1</th>\n",
       "      <td>1</td>\n",
       "      <td>661</td>\n",
       "      <td>3</td>\n",
       "      <td>978302109</td>\n",
       "    </tr>\n",
       "    <tr>\n",
       "      <th>2</th>\n",
       "      <td>1</td>\n",
       "      <td>914</td>\n",
       "      <td>3</td>\n",
       "      <td>978301968</td>\n",
       "    </tr>\n",
       "    <tr>\n",
       "      <th>3</th>\n",
       "      <td>1</td>\n",
       "      <td>3408</td>\n",
       "      <td>4</td>\n",
       "      <td>978300275</td>\n",
       "    </tr>\n",
       "  </tbody>\n",
       "</table>\n",
       "</div>"
      ],
      "text/plain": [
       "  user_id movie_id rating  timestamp\n",
       "0       1     1193      5  978300760\n",
       "1       1      661      3  978302109\n",
       "2       1      914      3  978301968\n",
       "3       1     3408      4  978300275"
      ]
     },
     "execution_count": 31,
     "metadata": {},
     "output_type": "execute_result"
    }
   ],
   "source": [
    "reviews.head(4)"
   ]
  },
  {
   "cell_type": "code",
   "execution_count": 32,
   "metadata": {},
   "outputs": [
    {
     "data": {
      "text/html": [
       "<div>\n",
       "<style scoped>\n",
       "    .dataframe tbody tr th:only-of-type {\n",
       "        vertical-align: middle;\n",
       "    }\n",
       "\n",
       "    .dataframe tbody tr th {\n",
       "        vertical-align: top;\n",
       "    }\n",
       "\n",
       "    .dataframe thead th {\n",
       "        text-align: right;\n",
       "    }\n",
       "</style>\n",
       "<table border=\"1\" class=\"dataframe\">\n",
       "  <thead>\n",
       "    <tr style=\"text-align: right;\">\n",
       "      <th></th>\n",
       "      <th>movie_id</th>\n",
       "      <th>title</th>\n",
       "      <th>genres</th>\n",
       "      <th>year</th>\n",
       "      <th>user_id</th>\n",
       "      <th>rating</th>\n",
       "      <th>timestamp</th>\n",
       "    </tr>\n",
       "  </thead>\n",
       "  <tbody>\n",
       "    <tr>\n",
       "      <th>0</th>\n",
       "      <td>1</td>\n",
       "      <td>Toy Story</td>\n",
       "      <td>animation</td>\n",
       "      <td>1995</td>\n",
       "      <td>1</td>\n",
       "      <td>5</td>\n",
       "      <td>978824268</td>\n",
       "    </tr>\n",
       "    <tr>\n",
       "      <th>1</th>\n",
       "      <td>1</td>\n",
       "      <td>Toy Story</td>\n",
       "      <td>animation</td>\n",
       "      <td>1995</td>\n",
       "      <td>6</td>\n",
       "      <td>4</td>\n",
       "      <td>978237008</td>\n",
       "    </tr>\n",
       "    <tr>\n",
       "      <th>2</th>\n",
       "      <td>1</td>\n",
       "      <td>Toy Story</td>\n",
       "      <td>animation</td>\n",
       "      <td>1995</td>\n",
       "      <td>8</td>\n",
       "      <td>4</td>\n",
       "      <td>978233496</td>\n",
       "    </tr>\n",
       "    <tr>\n",
       "      <th>3</th>\n",
       "      <td>1</td>\n",
       "      <td>Toy Story</td>\n",
       "      <td>animation</td>\n",
       "      <td>1995</td>\n",
       "      <td>9</td>\n",
       "      <td>5</td>\n",
       "      <td>978225952</td>\n",
       "    </tr>\n",
       "  </tbody>\n",
       "</table>\n",
       "</div>"
      ],
      "text/plain": [
       "  movie_id      title     genres  year user_id rating  timestamp\n",
       "0        1  Toy Story  animation  1995       1      5  978824268\n",
       "1        1  Toy Story  animation  1995       6      4  978237008\n",
       "2        1  Toy Story  animation  1995       8      4  978233496\n",
       "3        1  Toy Story  animation  1995       9      5  978225952"
      ]
     },
     "execution_count": 32,
     "metadata": {},
     "output_type": "execute_result"
    }
   ],
   "source": [
    "df_1 = pd.merge(df_mov, reviews, on='movie_id') \n",
    "df_1.head(4)"
   ]
  },
  {
   "cell_type": "code",
   "execution_count": 33,
   "metadata": {},
   "outputs": [
    {
     "data": {
      "text/plain": [
       "(2060031, 7)"
      ]
     },
     "execution_count": 33,
     "metadata": {},
     "output_type": "execute_result"
    }
   ],
   "source": [
    "df_1.shape"
   ]
  },
  {
   "cell_type": "code",
   "execution_count": 34,
   "metadata": {},
   "outputs": [
    {
     "data": {
      "text/html": [
       "<div>\n",
       "<style scoped>\n",
       "    .dataframe tbody tr th:only-of-type {\n",
       "        vertical-align: middle;\n",
       "    }\n",
       "\n",
       "    .dataframe tbody tr th {\n",
       "        vertical-align: top;\n",
       "    }\n",
       "\n",
       "    .dataframe thead th {\n",
       "        text-align: right;\n",
       "    }\n",
       "</style>\n",
       "<table border=\"1\" class=\"dataframe\">\n",
       "  <thead>\n",
       "    <tr style=\"text-align: right;\">\n",
       "      <th></th>\n",
       "      <th>user_id</th>\n",
       "      <th>gender</th>\n",
       "      <th>age</th>\n",
       "      <th>occupation</th>\n",
       "      <th>zip_code</th>\n",
       "    </tr>\n",
       "  </thead>\n",
       "  <tbody>\n",
       "    <tr>\n",
       "      <th>0</th>\n",
       "      <td>1</td>\n",
       "      <td>F</td>\n",
       "      <td>Under 18</td>\n",
       "      <td>K-12 student</td>\n",
       "      <td>48067</td>\n",
       "    </tr>\n",
       "    <tr>\n",
       "      <th>1</th>\n",
       "      <td>2</td>\n",
       "      <td>M</td>\n",
       "      <td>56 Above</td>\n",
       "      <td>self-employed</td>\n",
       "      <td>70072</td>\n",
       "    </tr>\n",
       "    <tr>\n",
       "      <th>2</th>\n",
       "      <td>3</td>\n",
       "      <td>M</td>\n",
       "      <td>25-34</td>\n",
       "      <td>scientist</td>\n",
       "      <td>55117</td>\n",
       "    </tr>\n",
       "    <tr>\n",
       "      <th>3</th>\n",
       "      <td>4</td>\n",
       "      <td>M</td>\n",
       "      <td>45-49</td>\n",
       "      <td>executive/managerial</td>\n",
       "      <td>02460</td>\n",
       "    </tr>\n",
       "  </tbody>\n",
       "</table>\n",
       "</div>"
      ],
      "text/plain": [
       "  user_id gender       age            occupation zip_code\n",
       "0       1      F  Under 18          K-12 student    48067\n",
       "1       2      M  56 Above         self-employed    70072\n",
       "2       3      M     25-34             scientist    55117\n",
       "3       4      M     45-49  executive/managerial    02460"
      ]
     },
     "execution_count": 34,
     "metadata": {},
     "output_type": "execute_result"
    }
   ],
   "source": [
    "users.head(4)"
   ]
  },
  {
   "cell_type": "code",
   "execution_count": 35,
   "metadata": {},
   "outputs": [],
   "source": [
    "mix_df = pd.merge(df_1, users, on='user_id',how='inner')"
   ]
  },
  {
   "cell_type": "code",
   "execution_count": 36,
   "metadata": {},
   "outputs": [
    {
     "data": {
      "text/html": [
       "<div>\n",
       "<style scoped>\n",
       "    .dataframe tbody tr th:only-of-type {\n",
       "        vertical-align: middle;\n",
       "    }\n",
       "\n",
       "    .dataframe tbody tr th {\n",
       "        vertical-align: top;\n",
       "    }\n",
       "\n",
       "    .dataframe thead th {\n",
       "        text-align: right;\n",
       "    }\n",
       "</style>\n",
       "<table border=\"1\" class=\"dataframe\">\n",
       "  <thead>\n",
       "    <tr style=\"text-align: right;\">\n",
       "      <th></th>\n",
       "      <th>movie_id</th>\n",
       "      <th>title</th>\n",
       "      <th>genres</th>\n",
       "      <th>year</th>\n",
       "      <th>user_id</th>\n",
       "      <th>rating</th>\n",
       "      <th>timestamp</th>\n",
       "      <th>gender</th>\n",
       "      <th>age</th>\n",
       "      <th>occupation</th>\n",
       "      <th>zip_code</th>\n",
       "    </tr>\n",
       "  </thead>\n",
       "  <tbody>\n",
       "    <tr>\n",
       "      <th>0</th>\n",
       "      <td>1</td>\n",
       "      <td>Toy Story</td>\n",
       "      <td>animation</td>\n",
       "      <td>1995</td>\n",
       "      <td>1</td>\n",
       "      <td>5</td>\n",
       "      <td>978824268</td>\n",
       "      <td>F</td>\n",
       "      <td>Under 18</td>\n",
       "      <td>K-12 student</td>\n",
       "      <td>48067</td>\n",
       "    </tr>\n",
       "    <tr>\n",
       "      <th>1</th>\n",
       "      <td>1</td>\n",
       "      <td>Toy Story</td>\n",
       "      <td>children</td>\n",
       "      <td>1995</td>\n",
       "      <td>1</td>\n",
       "      <td>5</td>\n",
       "      <td>978824268</td>\n",
       "      <td>F</td>\n",
       "      <td>Under 18</td>\n",
       "      <td>K-12 student</td>\n",
       "      <td>48067</td>\n",
       "    </tr>\n",
       "    <tr>\n",
       "      <th>2</th>\n",
       "      <td>1</td>\n",
       "      <td>Toy Story</td>\n",
       "      <td>comedy</td>\n",
       "      <td>1995</td>\n",
       "      <td>1</td>\n",
       "      <td>5</td>\n",
       "      <td>978824268</td>\n",
       "      <td>F</td>\n",
       "      <td>Under 18</td>\n",
       "      <td>K-12 student</td>\n",
       "      <td>48067</td>\n",
       "    </tr>\n",
       "    <tr>\n",
       "      <th>3</th>\n",
       "      <td>48</td>\n",
       "      <td>Pocahontas</td>\n",
       "      <td>animation</td>\n",
       "      <td>1995</td>\n",
       "      <td>1</td>\n",
       "      <td>5</td>\n",
       "      <td>978824351</td>\n",
       "      <td>F</td>\n",
       "      <td>Under 18</td>\n",
       "      <td>K-12 student</td>\n",
       "      <td>48067</td>\n",
       "    </tr>\n",
       "  </tbody>\n",
       "</table>\n",
       "</div>"
      ],
      "text/plain": [
       "  movie_id       title     genres  year user_id rating  timestamp gender  \\\n",
       "0        1   Toy Story  animation  1995       1      5  978824268      F   \n",
       "1        1   Toy Story   children  1995       1      5  978824268      F   \n",
       "2        1   Toy Story     comedy  1995       1      5  978824268      F   \n",
       "3       48  Pocahontas  animation  1995       1      5  978824351      F   \n",
       "\n",
       "        age    occupation zip_code  \n",
       "0  Under 18  K-12 student    48067  \n",
       "1  Under 18  K-12 student    48067  \n",
       "2  Under 18  K-12 student    48067  \n",
       "3  Under 18  K-12 student    48067  "
      ]
     },
     "execution_count": 36,
     "metadata": {},
     "output_type": "execute_result"
    }
   ],
   "source": [
    "mix_df.head(4)"
   ]
  },
  {
   "cell_type": "code",
   "execution_count": 37,
   "metadata": {},
   "outputs": [
    {
     "data": {
      "text/plain": [
       "movie_id      0\n",
       "title         0\n",
       "genres        0\n",
       "year          0\n",
       "user_id       0\n",
       "rating        0\n",
       "timestamp     0\n",
       "gender        0\n",
       "age           0\n",
       "occupation    0\n",
       "zip_code      0\n",
       "dtype: int64"
      ]
     },
     "execution_count": 37,
     "metadata": {},
     "output_type": "execute_result"
    }
   ],
   "source": [
    "mix_df.isna().sum()"
   ]
  },
  {
   "cell_type": "code",
   "execution_count": 38,
   "metadata": {},
   "outputs": [
    {
     "name": "stdout",
     "output_type": "stream",
     "text": [
      "<class 'pandas.core.frame.DataFrame'>\n",
      "Int64Index: 2060031 entries, 0 to 2060030\n",
      "Data columns (total 11 columns):\n",
      " #   Column      Dtype \n",
      "---  ------      ----- \n",
      " 0   movie_id    object\n",
      " 1   title       object\n",
      " 2   genres      object\n",
      " 3   year        object\n",
      " 4   user_id     object\n",
      " 5   rating      object\n",
      " 6   timestamp   object\n",
      " 7   gender      object\n",
      " 8   age         object\n",
      " 9   occupation  object\n",
      " 10  zip_code    object\n",
      "dtypes: object(11)\n",
      "memory usage: 188.6+ MB\n"
     ]
    }
   ],
   "source": [
    "mix_df.info()"
   ]
  },
  {
   "cell_type": "code",
   "execution_count": 39,
   "metadata": {},
   "outputs": [],
   "source": [
    "mix_df[\"rating\"] = mix_df[\"rating\"].astype('int32')\n",
    "\n",
    "mix_df[\"datetime\"] = pd.to_datetime(mix_df['timestamp'], unit='s')"
   ]
  },
  {
   "cell_type": "code",
   "execution_count": 40,
   "metadata": {},
   "outputs": [],
   "source": [
    "mix_df[\"year\"] = mix_df[\"year\"].astype('int32')"
   ]
  },
  {
   "cell_type": "code",
   "execution_count": 41,
   "metadata": {},
   "outputs": [
    {
     "data": {
      "text/plain": [
       "<AxesSubplot: >"
      ]
     },
     "execution_count": 41,
     "metadata": {},
     "output_type": "execute_result"
    },
    {
     "data": {
      "image/png": "[encoded data removed]",
      "text/plain": [
       "<Figure size 640x480 with 1 Axes>"
      ]
     },
     "metadata": {},
     "output_type": "display_data"
    }
   ],
   "source": [
    "mix_df[\"year\"].value_counts().nlargest(10).plot(kind='bar')"
   ]
  },
  {
   "cell_type": "code",
   "execution_count": 42,
   "metadata": {},
   "outputs": [
    {
     "name": "stdout",
     "output_type": "stream",
     "text": [
      "1919 2000\n"
     ]
    }
   ],
   "source": [
    "print(mix_df[\"year\"].min(), mix_df[\"year\"].max())"
   ]
  },
  {
   "cell_type": "markdown",
   "metadata": {},
   "source": [
    "Data contanis movies released from 1919 to 2000"
   ]
  },
  {
   "cell_type": "code",
   "execution_count": 43,
   "metadata": {},
   "outputs": [],
   "source": [
    "# let's bin the data for every ten years \n",
    "bins = [1919, 1929, 1939, 1949, 1959, 1969, 1979, 1989, 2000] \n",
    "labels = ['20s', '30s', '40s', '50s', '60s', '70s', '80s', '90s'] \n",
    "mix_df[\"release_bins\"] = pd.cut(mix_df[\"year\"], bins=bins, labels=labels,include_lowest=True)"
   ]
  },
  {
   "cell_type": "code",
   "execution_count": 44,
   "metadata": {},
   "outputs": [
    {
     "data": {
      "text/html": [
       "<div>\n",
       "<style scoped>\n",
       "    .dataframe tbody tr th:only-of-type {\n",
       "        vertical-align: middle;\n",
       "    }\n",
       "\n",
       "    .dataframe tbody tr th {\n",
       "        vertical-align: top;\n",
       "    }\n",
       "\n",
       "    .dataframe thead th {\n",
       "        text-align: right;\n",
       "    }\n",
       "</style>\n",
       "<table border=\"1\" class=\"dataframe\">\n",
       "  <thead>\n",
       "    <tr style=\"text-align: right;\">\n",
       "      <th></th>\n",
       "      <th>movie_id</th>\n",
       "      <th>title</th>\n",
       "      <th>genres</th>\n",
       "      <th>year</th>\n",
       "      <th>user_id</th>\n",
       "      <th>rating</th>\n",
       "      <th>timestamp</th>\n",
       "      <th>gender</th>\n",
       "      <th>age</th>\n",
       "      <th>occupation</th>\n",
       "      <th>zip_code</th>\n",
       "      <th>datetime</th>\n",
       "      <th>release_bins</th>\n",
       "    </tr>\n",
       "  </thead>\n",
       "  <tbody>\n",
       "    <tr>\n",
       "      <th>0</th>\n",
       "      <td>1</td>\n",
       "      <td>Toy Story</td>\n",
       "      <td>animation</td>\n",
       "      <td>1995</td>\n",
       "      <td>1</td>\n",
       "      <td>5</td>\n",
       "      <td>978824268</td>\n",
       "      <td>F</td>\n",
       "      <td>Under 18</td>\n",
       "      <td>K-12 student</td>\n",
       "      <td>48067</td>\n",
       "      <td>2001-01-06 23:37:48</td>\n",
       "      <td>90s</td>\n",
       "    </tr>\n",
       "    <tr>\n",
       "      <th>1</th>\n",
       "      <td>1</td>\n",
       "      <td>Toy Story</td>\n",
       "      <td>children</td>\n",
       "      <td>1995</td>\n",
       "      <td>1</td>\n",
       "      <td>5</td>\n",
       "      <td>978824268</td>\n",
       "      <td>F</td>\n",
       "      <td>Under 18</td>\n",
       "      <td>K-12 student</td>\n",
       "      <td>48067</td>\n",
       "      <td>2001-01-06 23:37:48</td>\n",
       "      <td>90s</td>\n",
       "    </tr>\n",
       "    <tr>\n",
       "      <th>2</th>\n",
       "      <td>1</td>\n",
       "      <td>Toy Story</td>\n",
       "      <td>comedy</td>\n",
       "      <td>1995</td>\n",
       "      <td>1</td>\n",
       "      <td>5</td>\n",
       "      <td>978824268</td>\n",
       "      <td>F</td>\n",
       "      <td>Under 18</td>\n",
       "      <td>K-12 student</td>\n",
       "      <td>48067</td>\n",
       "      <td>2001-01-06 23:37:48</td>\n",
       "      <td>90s</td>\n",
       "    </tr>\n",
       "  </tbody>\n",
       "</table>\n",
       "</div>"
      ],
      "text/plain": [
       "  movie_id      title     genres  year user_id  rating  timestamp gender  \\\n",
       "0        1  Toy Story  animation  1995       1       5  978824268      F   \n",
       "1        1  Toy Story   children  1995       1       5  978824268      F   \n",
       "2        1  Toy Story     comedy  1995       1       5  978824268      F   \n",
       "\n",
       "        age    occupation zip_code            datetime release_bins  \n",
       "0  Under 18  K-12 student    48067 2001-01-06 23:37:48          90s  \n",
       "1  Under 18  K-12 student    48067 2001-01-06 23:37:48          90s  \n",
       "2  Under 18  K-12 student    48067 2001-01-06 23:37:48          90s  "
      ]
     },
     "execution_count": 44,
     "metadata": {},
     "output_type": "execute_result"
    }
   ],
   "source": [
    "mix_df.head(3)"
   ]
  },
  {
   "cell_type": "code",
   "execution_count": 45,
   "metadata": {},
   "outputs": [
    {
     "data": {
      "text/plain": [
       "(48, 13)"
      ]
     },
     "execution_count": 45,
     "metadata": {},
     "output_type": "execute_result"
    }
   ],
   "source": [
    "mix_df[mix_df[\"year\"] == 1919].shape"
   ]
  },
  {
   "cell_type": "code",
   "execution_count": 46,
   "metadata": {},
   "outputs": [
    {
     "data": {
      "text/plain": [
       "movie_id        0\n",
       "title           0\n",
       "genres          0\n",
       "year            0\n",
       "user_id         0\n",
       "rating          0\n",
       "timestamp       0\n",
       "gender          0\n",
       "age             0\n",
       "occupation      0\n",
       "zip_code        0\n",
       "datetime        0\n",
       "release_bins    0\n",
       "dtype: int64"
      ]
     },
     "execution_count": 46,
     "metadata": {},
     "output_type": "execute_result"
    }
   ],
   "source": [
    "mix_df.isna().sum()"
   ]
  },
  {
   "cell_type": "markdown",
   "metadata": {},
   "source": [
    "Analysis of features :"
   ]
  },
  {
   "cell_type": "code",
   "execution_count": 47,
   "metadata": {},
   "outputs": [
    {
     "name": "stdout",
     "output_type": "stream",
     "text": [
      "<class 'pandas.core.frame.DataFrame'>\n",
      "Int64Index: 2060031 entries, 0 to 2060030\n",
      "Data columns (total 13 columns):\n",
      " #   Column        Dtype         \n",
      "---  ------        -----         \n",
      " 0   movie_id      object        \n",
      " 1   title         object        \n",
      " 2   genres        object        \n",
      " 3   year          int32         \n",
      " 4   user_id       object        \n",
      " 5   rating        int32         \n",
      " 6   timestamp     object        \n",
      " 7   gender        object        \n",
      " 8   age           object        \n",
      " 9   occupation    object        \n",
      " 10  zip_code      object        \n",
      " 11  datetime      datetime64[ns]\n",
      " 12  release_bins  category      \n",
      "dtypes: category(1), datetime64[ns](1), int32(2), object(9)\n",
      "memory usage: 190.6+ MB\n"
     ]
    }
   ],
   "source": [
    "mix_df.info()"
   ]
  },
  {
   "cell_type": "code",
   "execution_count": 48,
   "metadata": {},
   "outputs": [
    {
     "data": {
      "text/plain": [
       "6040"
      ]
     },
     "execution_count": 48,
     "metadata": {},
     "output_type": "execute_result"
    }
   ],
   "source": [
    "mix_df[\"user_id\"].nunique()"
   ]
  },
  {
   "cell_type": "code",
   "execution_count": 49,
   "metadata": {},
   "outputs": [],
   "source": [
    "user_avg_rating = mix_df[[\"user_id\",\"rating\"]].groupby(\"user_id\").mean()"
   ]
  },
  {
   "cell_type": "code",
   "execution_count": 50,
   "metadata": {},
   "outputs": [
    {
     "data": {
      "text/plain": [
       "Text(0.5, 1.0, 'User Average Rating Distribution')"
      ]
     },
     "execution_count": 50,
     "metadata": {},
     "output_type": "execute_result"
    },
    {
     "data": {
      "image/png": "[encoded data removed]",
      "text/plain": [
       "<Figure size 640x480 with 1 Axes>"
      ]
     },
     "metadata": {},
     "output_type": "display_data"
    }
   ],
   "source": [
    "user_avg_rating.plot(kind='hist',bins=100)\n",
    "plt.title(\"User Average Rating Distribution\")"
   ]
  },
  {
   "cell_type": "code",
   "execution_count": 51,
   "metadata": {},
   "outputs": [
    {
     "data": {
      "text/html": [
       "<div>\n",
       "<style scoped>\n",
       "    .dataframe tbody tr th:only-of-type {\n",
       "        vertical-align: middle;\n",
       "    }\n",
       "\n",
       "    .dataframe tbody tr th {\n",
       "        vertical-align: top;\n",
       "    }\n",
       "\n",
       "    .dataframe thead th {\n",
       "        text-align: right;\n",
       "    }\n",
       "</style>\n",
       "<table border=\"1\" class=\"dataframe\">\n",
       "  <thead>\n",
       "    <tr style=\"text-align: right;\">\n",
       "      <th></th>\n",
       "      <th>rating</th>\n",
       "    </tr>\n",
       "    <tr>\n",
       "      <th>gender</th>\n",
       "      <th></th>\n",
       "    </tr>\n",
       "  </thead>\n",
       "  <tbody>\n",
       "    <tr>\n",
       "      <th>F</th>\n",
       "      <td>3.617644</td>\n",
       "    </tr>\n",
       "    <tr>\n",
       "      <th>M</th>\n",
       "      <td>3.562274</td>\n",
       "    </tr>\n",
       "  </tbody>\n",
       "</table>\n",
       "</div>"
      ],
      "text/plain": [
       "          rating\n",
       "gender          \n",
       "F       3.617644\n",
       "M       3.562274"
      ]
     },
     "execution_count": 51,
     "metadata": {},
     "output_type": "execute_result"
    }
   ],
   "source": [
    "mix_df[[\"gender\",\"rating\"]].groupby(\"gender\").mean()"
   ]
  },
  {
   "cell_type": "code",
   "execution_count": 52,
   "metadata": {},
   "outputs": [
    {
     "data": {
      "text/plain": [
       "0"
      ]
     },
     "execution_count": 52,
     "metadata": {},
     "output_type": "execute_result"
    }
   ],
   "source": [
    "mix_df.duplicated().sum() # no duplicates"
   ]
  },
  {
   "cell_type": "code",
   "execution_count": 53,
   "metadata": {},
   "outputs": [
    {
     "data": {
      "text/plain": [
       "25-34       815051\n",
       "35-44       409326\n",
       "18-24       383715\n",
       "45-49       170335\n",
       "50-55       146883\n",
       "56 Above     77252\n",
       "Under 18     57469\n",
       "Name: age, dtype: int64"
      ]
     },
     "execution_count": 53,
     "metadata": {},
     "output_type": "execute_result"
    }
   ],
   "source": [
    "mix_df[\"age\"].value_counts()"
   ]
  },
  {
   "cell_type": "code",
   "execution_count": 54,
   "metadata": {},
   "outputs": [
    {
     "data": {
      "text/plain": [
       "<AxesSubplot: >"
      ]
     },
     "execution_count": 54,
     "metadata": {},
     "output_type": "execute_result"
    },
    {
     "data": {
      "image/png": "[encoded data removed]",
      "text/plain": [
       "<Figure size 640x480 with 1 Axes>"
      ]
     },
     "metadata": {},
     "output_type": "display_data"
    }
   ],
   "source": [
    "mix_df[\"age\"].hist()"
   ]
  },
  {
   "cell_type": "code",
   "execution_count": 55,
   "metadata": {},
   "outputs": [
    {
     "data": {
      "text/html": [
       "<div>\n",
       "<style scoped>\n",
       "    .dataframe tbody tr th:only-of-type {\n",
       "        vertical-align: middle;\n",
       "    }\n",
       "\n",
       "    .dataframe tbody tr th {\n",
       "        vertical-align: top;\n",
       "    }\n",
       "\n",
       "    .dataframe thead th {\n",
       "        text-align: right;\n",
       "    }\n",
       "</style>\n",
       "<table border=\"1\" class=\"dataframe\">\n",
       "  <thead>\n",
       "    <tr style=\"text-align: right;\">\n",
       "      <th></th>\n",
       "      <th>rating</th>\n",
       "    </tr>\n",
       "    <tr>\n",
       "      <th>age</th>\n",
       "      <th></th>\n",
       "    </tr>\n",
       "  </thead>\n",
       "  <tbody>\n",
       "    <tr>\n",
       "      <th>18-24</th>\n",
       "      <td>3.500369</td>\n",
       "    </tr>\n",
       "    <tr>\n",
       "      <th>25-34</th>\n",
       "      <td>3.538820</td>\n",
       "    </tr>\n",
       "    <tr>\n",
       "      <th>35-44</th>\n",
       "      <td>3.617596</td>\n",
       "    </tr>\n",
       "    <tr>\n",
       "      <th>45-49</th>\n",
       "      <td>3.637268</td>\n",
       "    </tr>\n",
       "    <tr>\n",
       "      <th>50-55</th>\n",
       "      <td>3.712615</td>\n",
       "    </tr>\n",
       "    <tr>\n",
       "      <th>56 Above</th>\n",
       "      <td>3.754311</td>\n",
       "    </tr>\n",
       "    <tr>\n",
       "      <th>Under 18</th>\n",
       "      <td>3.528198</td>\n",
       "    </tr>\n",
       "  </tbody>\n",
       "</table>\n",
       "</div>"
      ],
      "text/plain": [
       "            rating\n",
       "age               \n",
       "18-24     3.500369\n",
       "25-34     3.538820\n",
       "35-44     3.617596\n",
       "45-49     3.637268\n",
       "50-55     3.712615\n",
       "56 Above  3.754311\n",
       "Under 18  3.528198"
      ]
     },
     "execution_count": 55,
     "metadata": {},
     "output_type": "execute_result"
    }
   ],
   "source": [
    "# average rating by age \n",
    "mix_df[[\"age\",\"rating\"]].groupby(\"age\").mean()"
   ]
  },
  {
   "cell_type": "code",
   "execution_count": 56,
   "metadata": {},
   "outputs": [
    {
     "data": {
      "text/plain": [
       "<AxesSubplot: ylabel='gender'>"
      ]
     },
     "execution_count": 56,
     "metadata": {},
     "output_type": "execute_result"
    },
    {
     "data": {
      "image/png": "[encoded data removed]",
      "text/plain": [
       "<Figure size 640x480 with 1 Axes>"
      ]
     },
     "metadata": {},
     "output_type": "display_data"
    }
   ],
   "source": [
    "# gender distribution\n",
    "mix_df[\"gender\"].value_counts().plot(kind='pie', autopct='%1.1f%%')"
   ]
  },
  {
   "cell_type": "code",
   "execution_count": 57,
   "metadata": {},
   "outputs": [
    {
     "data": {
      "text/plain": [
       "<AxesSubplot: >"
      ]
     },
     "execution_count": 57,
     "metadata": {},
     "output_type": "execute_result"
    },
    {
     "data": {
      "image/png": "[encoded data removed]",
      "text/plain": [
       "<Figure size 640x480 with 1 Axes>"
      ]
     },
     "metadata": {},
     "output_type": "display_data"
    }
   ],
   "source": [
    "# occupation \n",
    "mix_df[\"occupation\"].value_counts().plot(kind='bar')"
   ]
  },
  {
   "cell_type": "code",
   "execution_count": 58,
   "metadata": {},
   "outputs": [
    {
     "data": {
      "text/plain": [
       "<AxesSubplot: >"
      ]
     },
     "execution_count": 58,
     "metadata": {},
     "output_type": "execute_result"
    },
    {
     "data": {
      "image/png": "[encoded data removed]",
      "text/plain": [
       "<Figure size 640x480 with 1 Axes>"
      ]
     },
     "metadata": {},
     "output_type": "display_data"
    }
   ],
   "source": [
    "# relese year bin \n",
    "mix_df[\"release_bins\"].value_counts().plot(kind='bar')"
   ]
  },
  {
   "cell_type": "markdown",
   "metadata": {},
   "source": [
    "Grouping the data to check their relationship"
   ]
  },
  {
   "cell_type": "code",
   "execution_count": 59,
   "metadata": {},
   "outputs": [
    {
     "data": {
      "text/plain": [
       "title\n",
       "Men in Black                          10152\n",
       "Princess Bride, The                    9272\n",
       "L.A. Confidential                      9152\n",
       "E.T. the Extra-Terrestrial             9076\n",
       "Star Wars: Episode IV - A New Hope     8973\n",
       "Alien                                  8096\n",
       "Jurassic Park                          8016\n",
       "Total Recall                           7984\n",
       "Saving Private Ryan                    7959\n",
       "Terminator 2: Judgment Day             7947\n",
       "Name: rating, dtype: int64"
      ]
     },
     "execution_count": 59,
     "metadata": {},
     "output_type": "execute_result"
    }
   ],
   "source": [
    "# let's see most rated movie \n",
    "mix_df.groupby(\"title\")[\"rating\"].count().sort_values(ascending=False).head(10)"
   ]
  },
  {
   "cell_type": "code",
   "execution_count": 60,
   "metadata": {},
   "outputs": [
    {
     "data": {
      "text/plain": [
       "array([1995, 1977, 1993, 1992, 1937, 1991, 1996, 1964, 1939, 1958, 1950,\n",
       "       1941, 1965, 1982, 1975, 1987, 1962, 1989, 1985, 1959, 1997, 1998,\n",
       "       1988, 1942, 1947, 1999, 1980, 1983, 1986, 1990, 2000, 1994, 1978,\n",
       "       1961, 1984, 1972, 1976, 1981, 1973, 1974, 1940, 1952, 1954, 1953,\n",
       "       1944, 1968, 1957, 1946, 1949, 1951, 1963, 1971, 1979, 1967, 1966,\n",
       "       1948, 1933, 1970, 1969, 1930, 1955, 1956, 1920, 1925, 1938, 1960,\n",
       "       1935, 1932, 1931, 1945, 1943, 1934, 1936, 1929, 1926, 1927, 1922,\n",
       "       1919, 1921, 1923, 1928])"
      ]
     },
     "execution_count": 60,
     "metadata": {},
     "output_type": "execute_result"
    }
   ],
   "source": [
    "mix_df[\"year\"].unique()"
   ]
  },
  {
   "cell_type": "code",
   "execution_count": 61,
   "metadata": {},
   "outputs": [
    {
     "data": {
      "text/html": [
       "<div>\n",
       "<style scoped>\n",
       "    .dataframe tbody tr th:only-of-type {\n",
       "        vertical-align: middle;\n",
       "    }\n",
       "\n",
       "    .dataframe tbody tr th {\n",
       "        vertical-align: top;\n",
       "    }\n",
       "\n",
       "    .dataframe thead tr th {\n",
       "        text-align: left;\n",
       "    }\n",
       "\n",
       "    .dataframe thead tr:last-of-type th {\n",
       "        text-align: right;\n",
       "    }\n",
       "</style>\n",
       "<table border=\"1\" class=\"dataframe\">\n",
       "  <thead>\n",
       "    <tr>\n",
       "      <th></th>\n",
       "      <th colspan=\"2\" halign=\"left\">rating</th>\n",
       "    </tr>\n",
       "    <tr>\n",
       "      <th></th>\n",
       "      <th>mean</th>\n",
       "      <th>count</th>\n",
       "    </tr>\n",
       "    <tr>\n",
       "      <th>title</th>\n",
       "      <th></th>\n",
       "      <th></th>\n",
       "    </tr>\n",
       "  </thead>\n",
       "  <tbody>\n",
       "    <tr>\n",
       "      <th>$1,000,000 Duck</th>\n",
       "      <td>3.027027</td>\n",
       "      <td>74</td>\n",
       "    </tr>\n",
       "    <tr>\n",
       "      <th>'Night Mother</th>\n",
       "      <td>3.371429</td>\n",
       "      <td>70</td>\n",
       "    </tr>\n",
       "    <tr>\n",
       "      <th>'Til There Was You</th>\n",
       "      <td>2.692308</td>\n",
       "      <td>104</td>\n",
       "    </tr>\n",
       "    <tr>\n",
       "      <th>'burbs, The</th>\n",
       "      <td>2.910891</td>\n",
       "      <td>303</td>\n",
       "    </tr>\n",
       "    <tr>\n",
       "      <th>...And Justice for All</th>\n",
       "      <td>3.713568</td>\n",
       "      <td>398</td>\n",
       "    </tr>\n",
       "    <tr>\n",
       "      <th>1-900</th>\n",
       "      <td>2.500000</td>\n",
       "      <td>2</td>\n",
       "    </tr>\n",
       "    <tr>\n",
       "      <th>10 Things I Hate About You</th>\n",
       "      <td>3.422857</td>\n",
       "      <td>1400</td>\n",
       "    </tr>\n",
       "    <tr>\n",
       "      <th>101 Dalmatians</th>\n",
       "      <td>3.381055</td>\n",
       "      <td>1858</td>\n",
       "    </tr>\n",
       "    <tr>\n",
       "      <th>12 Angry Men</th>\n",
       "      <td>4.295455</td>\n",
       "      <td>616</td>\n",
       "    </tr>\n",
       "    <tr>\n",
       "      <th>13th Warrior, The</th>\n",
       "      <td>3.158667</td>\n",
       "      <td>2250</td>\n",
       "    </tr>\n",
       "  </tbody>\n",
       "</table>\n",
       "</div>"
      ],
      "text/plain": [
       "                              rating      \n",
       "                                mean count\n",
       "title                                     \n",
       "$1,000,000 Duck             3.027027    74\n",
       "'Night Mother               3.371429    70\n",
       "'Til There Was You          2.692308   104\n",
       "'burbs, The                 2.910891   303\n",
       "...And Justice for All      3.713568   398\n",
       "1-900                       2.500000     2\n",
       "10 Things I Hate About You  3.422857  1400\n",
       "101 Dalmatians              3.381055  1858\n",
       "12 Angry Men                4.295455   616\n",
       "13th Warrior, The           3.158667  2250"
      ]
     },
     "execution_count": 61,
     "metadata": {},
     "output_type": "execute_result"
    }
   ],
   "source": [
    "# avg rating ,count  per movie \n",
    "mix_df[[\"title\",\"rating\"]].groupby(\"title\").agg([\"mean\",\"count\"]).head(10)"
   ]
  },
  {
   "cell_type": "markdown",
   "metadata": {},
   "source": [
    "## Recommender Systems :\n",
    "\n",
    "### Collaborative Filtering approach :\n",
    "\n",
    "It is based on how user interacted with the item aka movie in this business case.\n",
    "* user-item interaction matrix "
   ]
  },
  {
   "cell_type": "code",
   "execution_count": 62,
   "metadata": {},
   "outputs": [
    {
     "data": {
      "text/html": [
       "<div>\n",
       "<style scoped>\n",
       "    .dataframe tbody tr th:only-of-type {\n",
       "        vertical-align: middle;\n",
       "    }\n",
       "\n",
       "    .dataframe tbody tr th {\n",
       "        vertical-align: top;\n",
       "    }\n",
       "\n",
       "    .dataframe thead th {\n",
       "        text-align: right;\n",
       "    }\n",
       "</style>\n",
       "<table border=\"1\" class=\"dataframe\">\n",
       "  <thead>\n",
       "    <tr style=\"text-align: right;\">\n",
       "      <th></th>\n",
       "      <th>movie_id</th>\n",
       "      <th>title</th>\n",
       "      <th>genres</th>\n",
       "      <th>year</th>\n",
       "      <th>user_id</th>\n",
       "      <th>rating</th>\n",
       "      <th>timestamp</th>\n",
       "      <th>gender</th>\n",
       "      <th>age</th>\n",
       "      <th>occupation</th>\n",
       "      <th>zip_code</th>\n",
       "      <th>datetime</th>\n",
       "      <th>release_bins</th>\n",
       "    </tr>\n",
       "  </thead>\n",
       "  <tbody>\n",
       "    <tr>\n",
       "      <th>0</th>\n",
       "      <td>1</td>\n",
       "      <td>Toy Story</td>\n",
       "      <td>animation</td>\n",
       "      <td>1995</td>\n",
       "      <td>1</td>\n",
       "      <td>5</td>\n",
       "      <td>978824268</td>\n",
       "      <td>F</td>\n",
       "      <td>Under 18</td>\n",
       "      <td>K-12 student</td>\n",
       "      <td>48067</td>\n",
       "      <td>2001-01-06 23:37:48</td>\n",
       "      <td>90s</td>\n",
       "    </tr>\n",
       "    <tr>\n",
       "      <th>1</th>\n",
       "      <td>1</td>\n",
       "      <td>Toy Story</td>\n",
       "      <td>children</td>\n",
       "      <td>1995</td>\n",
       "      <td>1</td>\n",
       "      <td>5</td>\n",
       "      <td>978824268</td>\n",
       "      <td>F</td>\n",
       "      <td>Under 18</td>\n",
       "      <td>K-12 student</td>\n",
       "      <td>48067</td>\n",
       "      <td>2001-01-06 23:37:48</td>\n",
       "      <td>90s</td>\n",
       "    </tr>\n",
       "    <tr>\n",
       "      <th>2</th>\n",
       "      <td>1</td>\n",
       "      <td>Toy Story</td>\n",
       "      <td>comedy</td>\n",
       "      <td>1995</td>\n",
       "      <td>1</td>\n",
       "      <td>5</td>\n",
       "      <td>978824268</td>\n",
       "      <td>F</td>\n",
       "      <td>Under 18</td>\n",
       "      <td>K-12 student</td>\n",
       "      <td>48067</td>\n",
       "      <td>2001-01-06 23:37:48</td>\n",
       "      <td>90s</td>\n",
       "    </tr>\n",
       "    <tr>\n",
       "      <th>3</th>\n",
       "      <td>48</td>\n",
       "      <td>Pocahontas</td>\n",
       "      <td>animation</td>\n",
       "      <td>1995</td>\n",
       "      <td>1</td>\n",
       "      <td>5</td>\n",
       "      <td>978824351</td>\n",
       "      <td>F</td>\n",
       "      <td>Under 18</td>\n",
       "      <td>K-12 student</td>\n",
       "      <td>48067</td>\n",
       "      <td>2001-01-06 23:39:11</td>\n",
       "      <td>90s</td>\n",
       "    </tr>\n",
       "    <tr>\n",
       "      <th>4</th>\n",
       "      <td>48</td>\n",
       "      <td>Pocahontas</td>\n",
       "      <td>children</td>\n",
       "      <td>1995</td>\n",
       "      <td>1</td>\n",
       "      <td>5</td>\n",
       "      <td>978824351</td>\n",
       "      <td>F</td>\n",
       "      <td>Under 18</td>\n",
       "      <td>K-12 student</td>\n",
       "      <td>48067</td>\n",
       "      <td>2001-01-06 23:39:11</td>\n",
       "      <td>90s</td>\n",
       "    </tr>\n",
       "    <tr>\n",
       "      <th>5</th>\n",
       "      <td>48</td>\n",
       "      <td>Pocahontas</td>\n",
       "      <td>musical</td>\n",
       "      <td>1995</td>\n",
       "      <td>1</td>\n",
       "      <td>5</td>\n",
       "      <td>978824351</td>\n",
       "      <td>F</td>\n",
       "      <td>Under 18</td>\n",
       "      <td>K-12 student</td>\n",
       "      <td>48067</td>\n",
       "      <td>2001-01-06 23:39:11</td>\n",
       "      <td>90s</td>\n",
       "    </tr>\n",
       "    <tr>\n",
       "      <th>6</th>\n",
       "      <td>48</td>\n",
       "      <td>Pocahontas</td>\n",
       "      <td>romance</td>\n",
       "      <td>1995</td>\n",
       "      <td>1</td>\n",
       "      <td>5</td>\n",
       "      <td>978824351</td>\n",
       "      <td>F</td>\n",
       "      <td>Under 18</td>\n",
       "      <td>K-12 student</td>\n",
       "      <td>48067</td>\n",
       "      <td>2001-01-06 23:39:11</td>\n",
       "      <td>90s</td>\n",
       "    </tr>\n",
       "    <tr>\n",
       "      <th>7</th>\n",
       "      <td>150</td>\n",
       "      <td>Apollo 13</td>\n",
       "      <td>drama</td>\n",
       "      <td>1995</td>\n",
       "      <td>1</td>\n",
       "      <td>5</td>\n",
       "      <td>978301777</td>\n",
       "      <td>F</td>\n",
       "      <td>Under 18</td>\n",
       "      <td>K-12 student</td>\n",
       "      <td>48067</td>\n",
       "      <td>2000-12-31 22:29:37</td>\n",
       "      <td>90s</td>\n",
       "    </tr>\n",
       "    <tr>\n",
       "      <th>8</th>\n",
       "      <td>260</td>\n",
       "      <td>Star Wars: Episode IV - A New Hope</td>\n",
       "      <td>action</td>\n",
       "      <td>1977</td>\n",
       "      <td>1</td>\n",
       "      <td>4</td>\n",
       "      <td>978300760</td>\n",
       "      <td>F</td>\n",
       "      <td>Under 18</td>\n",
       "      <td>K-12 student</td>\n",
       "      <td>48067</td>\n",
       "      <td>2000-12-31 22:12:40</td>\n",
       "      <td>70s</td>\n",
       "    </tr>\n",
       "    <tr>\n",
       "      <th>9</th>\n",
       "      <td>260</td>\n",
       "      <td>Star Wars: Episode IV - A New Hope</td>\n",
       "      <td>adventure</td>\n",
       "      <td>1977</td>\n",
       "      <td>1</td>\n",
       "      <td>4</td>\n",
       "      <td>978300760</td>\n",
       "      <td>F</td>\n",
       "      <td>Under 18</td>\n",
       "      <td>K-12 student</td>\n",
       "      <td>48067</td>\n",
       "      <td>2000-12-31 22:12:40</td>\n",
       "      <td>70s</td>\n",
       "    </tr>\n",
       "    <tr>\n",
       "      <th>10</th>\n",
       "      <td>260</td>\n",
       "      <td>Star Wars: Episode IV - A New Hope</td>\n",
       "      <td>fantasy</td>\n",
       "      <td>1977</td>\n",
       "      <td>1</td>\n",
       "      <td>4</td>\n",
       "      <td>978300760</td>\n",
       "      <td>F</td>\n",
       "      <td>Under 18</td>\n",
       "      <td>K-12 student</td>\n",
       "      <td>48067</td>\n",
       "      <td>2000-12-31 22:12:40</td>\n",
       "      <td>70s</td>\n",
       "    </tr>\n",
       "    <tr>\n",
       "      <th>11</th>\n",
       "      <td>527</td>\n",
       "      <td>Schindler's List</td>\n",
       "      <td>drama</td>\n",
       "      <td>1993</td>\n",
       "      <td>1</td>\n",
       "      <td>5</td>\n",
       "      <td>978824195</td>\n",
       "      <td>F</td>\n",
       "      <td>Under 18</td>\n",
       "      <td>K-12 student</td>\n",
       "      <td>48067</td>\n",
       "      <td>2001-01-06 23:36:35</td>\n",
       "      <td>90s</td>\n",
       "    </tr>\n",
       "    <tr>\n",
       "      <th>12</th>\n",
       "      <td>527</td>\n",
       "      <td>Schindler's List</td>\n",
       "      <td>war</td>\n",
       "      <td>1993</td>\n",
       "      <td>1</td>\n",
       "      <td>5</td>\n",
       "      <td>978824195</td>\n",
       "      <td>F</td>\n",
       "      <td>Under 18</td>\n",
       "      <td>K-12 student</td>\n",
       "      <td>48067</td>\n",
       "      <td>2001-01-06 23:36:35</td>\n",
       "      <td>90s</td>\n",
       "    </tr>\n",
       "    <tr>\n",
       "      <th>13</th>\n",
       "      <td>531</td>\n",
       "      <td>Secret Garden, The</td>\n",
       "      <td>children</td>\n",
       "      <td>1993</td>\n",
       "      <td>1</td>\n",
       "      <td>4</td>\n",
       "      <td>978302149</td>\n",
       "      <td>F</td>\n",
       "      <td>Under 18</td>\n",
       "      <td>K-12 student</td>\n",
       "      <td>48067</td>\n",
       "      <td>2000-12-31 22:35:49</td>\n",
       "      <td>90s</td>\n",
       "    </tr>\n",
       "    <tr>\n",
       "      <th>14</th>\n",
       "      <td>531</td>\n",
       "      <td>Secret Garden, The</td>\n",
       "      <td>drama</td>\n",
       "      <td>1993</td>\n",
       "      <td>1</td>\n",
       "      <td>4</td>\n",
       "      <td>978302149</td>\n",
       "      <td>F</td>\n",
       "      <td>Under 18</td>\n",
       "      <td>K-12 student</td>\n",
       "      <td>48067</td>\n",
       "      <td>2000-12-31 22:35:49</td>\n",
       "      <td>90s</td>\n",
       "    </tr>\n",
       "  </tbody>\n",
       "</table>\n",
       "</div>"
      ],
      "text/plain": [
       "   movie_id                               title     genres  year user_id  \\\n",
       "0         1                           Toy Story  animation  1995       1   \n",
       "1         1                           Toy Story   children  1995       1   \n",
       "2         1                           Toy Story     comedy  1995       1   \n",
       "3        48                          Pocahontas  animation  1995       1   \n",
       "4        48                          Pocahontas   children  1995       1   \n",
       "5        48                          Pocahontas    musical  1995       1   \n",
       "6        48                          Pocahontas    romance  1995       1   \n",
       "7       150                           Apollo 13      drama  1995       1   \n",
       "8       260  Star Wars: Episode IV - A New Hope     action  1977       1   \n",
       "9       260  Star Wars: Episode IV - A New Hope  adventure  1977       1   \n",
       "10      260  Star Wars: Episode IV - A New Hope    fantasy  1977       1   \n",
       "11      527                    Schindler's List      drama  1993       1   \n",
       "12      527                    Schindler's List        war  1993       1   \n",
       "13      531                  Secret Garden, The   children  1993       1   \n",
       "14      531                  Secret Garden, The      drama  1993       1   \n",
       "\n",
       "    rating  timestamp gender       age    occupation zip_code  \\\n",
       "0        5  978824268      F  Under 18  K-12 student    48067   \n",
       "1        5  978824268      F  Under 18  K-12 student    48067   \n",
       "2        5  978824268      F  Under 18  K-12 student    48067   \n",
       "3        5  978824351      F  Under 18  K-12 student    48067   \n",
       "4        5  978824351      F  Under 18  K-12 student    48067   \n",
       "5        5  978824351      F  Under 18  K-12 student    48067   \n",
       "6        5  978824351      F  Under 18  K-12 student    48067   \n",
       "7        5  978301777      F  Under 18  K-12 student    48067   \n",
       "8        4  978300760      F  Under 18  K-12 student    48067   \n",
       "9        4  978300760      F  Under 18  K-12 student    48067   \n",
       "10       4  978300760      F  Under 18  K-12 student    48067   \n",
       "11       5  978824195      F  Under 18  K-12 student    48067   \n",
       "12       5  978824195      F  Under 18  K-12 student    48067   \n",
       "13       4  978302149      F  Under 18  K-12 student    48067   \n",
       "14       4  978302149      F  Under 18  K-12 student    48067   \n",
       "\n",
       "              datetime release_bins  \n",
       "0  2001-01-06 23:37:48          90s  \n",
       "1  2001-01-06 23:37:48          90s  \n",
       "2  2001-01-06 23:37:48          90s  \n",
       "3  2001-01-06 23:39:11          90s  \n",
       "4  2001-01-06 23:39:11          90s  \n",
       "5  2001-01-06 23:39:11          90s  \n",
       "6  2001-01-06 23:39:11          90s  \n",
       "7  2000-12-31 22:29:37          90s  \n",
       "8  2000-12-31 22:12:40          70s  \n",
       "9  2000-12-31 22:12:40          70s  \n",
       "10 2000-12-31 22:12:40          70s  \n",
       "11 2001-01-06 23:36:35          90s  \n",
       "12 2001-01-06 23:36:35          90s  \n",
       "13 2000-12-31 22:35:49          90s  \n",
       "14 2000-12-31 22:35:49          90s  "
      ]
     },
     "execution_count": 62,
     "metadata": {},
     "output_type": "execute_result"
    }
   ],
   "source": [
    "mix_df.head(15)\n",
    "\n",
    "# un explode the generes \n"
   ]
  },
  {
   "cell_type": "code",
   "execution_count": 63,
   "metadata": {},
   "outputs": [],
   "source": [
    "# pivot table with user id and movie id \n",
    "piv = mix_df.pivot_table(index='user_id',columns='title',values='rating',aggfunc='mean')"
   ]
  },
  {
   "cell_type": "code",
   "execution_count": 64,
   "metadata": {},
   "outputs": [
    {
     "data": {
      "text/plain": [
       "(6040, 3640)"
      ]
     },
     "execution_count": 64,
     "metadata": {},
     "output_type": "execute_result"
    }
   ],
   "source": [
    "piv.fillna(0,inplace=True) \n",
    "piv.shape"
   ]
  },
  {
   "cell_type": "code",
   "execution_count": 65,
   "metadata": {},
   "outputs": [
    {
     "data": {
      "text/html": [
       "<div>\n",
       "<style scoped>\n",
       "    .dataframe tbody tr th:only-of-type {\n",
       "        vertical-align: middle;\n",
       "    }\n",
       "\n",
       "    .dataframe tbody tr th {\n",
       "        vertical-align: top;\n",
       "    }\n",
       "\n",
       "    .dataframe thead th {\n",
       "        text-align: right;\n",
       "    }\n",
       "</style>\n",
       "<table border=\"1\" class=\"dataframe\">\n",
       "  <thead>\n",
       "    <tr style=\"text-align: right;\">\n",
       "      <th>title</th>\n",
       "      <th>$1,000,000 Duck</th>\n",
       "      <th>'Night Mother</th>\n",
       "      <th>'Til There Was You</th>\n",
       "      <th>'burbs, The</th>\n",
       "      <th>...And Justice for All</th>\n",
       "      <th>1-900</th>\n",
       "      <th>10 Things I Hate About You</th>\n",
       "      <th>101 Dalmatians</th>\n",
       "      <th>12 Angry Men</th>\n",
       "      <th>13th Warrior, The</th>\n",
       "      <th>...</th>\n",
       "      <th>Young Poisoner's Handbook, The</th>\n",
       "      <th>Young Sherlock Holmes</th>\n",
       "      <th>Young and Innocent</th>\n",
       "      <th>Your Friends and Neighbors</th>\n",
       "      <th>Zachariah</th>\n",
       "      <th>Zed &amp; Two Noughts, A</th>\n",
       "      <th>Zero Effect</th>\n",
       "      <th>Zero Kelvin (Kjærlighetens kjøtere)</th>\n",
       "      <th>Zeus and Roxanne</th>\n",
       "      <th>eXistenZ</th>\n",
       "    </tr>\n",
       "    <tr>\n",
       "      <th>user_id</th>\n",
       "      <th></th>\n",
       "      <th></th>\n",
       "      <th></th>\n",
       "      <th></th>\n",
       "      <th></th>\n",
       "      <th></th>\n",
       "      <th></th>\n",
       "      <th></th>\n",
       "      <th></th>\n",
       "      <th></th>\n",
       "      <th></th>\n",
       "      <th></th>\n",
       "      <th></th>\n",
       "      <th></th>\n",
       "      <th></th>\n",
       "      <th></th>\n",
       "      <th></th>\n",
       "      <th></th>\n",
       "      <th></th>\n",
       "      <th></th>\n",
       "      <th></th>\n",
       "    </tr>\n",
       "  </thead>\n",
       "  <tbody>\n",
       "    <tr>\n",
       "      <th>1</th>\n",
       "      <td>0.0</td>\n",
       "      <td>0.0</td>\n",
       "      <td>0.0</td>\n",
       "      <td>0.0</td>\n",
       "      <td>0.0</td>\n",
       "      <td>0.0</td>\n",
       "      <td>0.0</td>\n",
       "      <td>0.0</td>\n",
       "      <td>0.0</td>\n",
       "      <td>0.0</td>\n",
       "      <td>...</td>\n",
       "      <td>0.0</td>\n",
       "      <td>0.0</td>\n",
       "      <td>0.0</td>\n",
       "      <td>0.0</td>\n",
       "      <td>0.0</td>\n",
       "      <td>0.0</td>\n",
       "      <td>0.0</td>\n",
       "      <td>0.0</td>\n",
       "      <td>0.0</td>\n",
       "      <td>0.0</td>\n",
       "    </tr>\n",
       "    <tr>\n",
       "      <th>10</th>\n",
       "      <td>0.0</td>\n",
       "      <td>0.0</td>\n",
       "      <td>0.0</td>\n",
       "      <td>4.0</td>\n",
       "      <td>0.0</td>\n",
       "      <td>0.0</td>\n",
       "      <td>0.0</td>\n",
       "      <td>0.0</td>\n",
       "      <td>3.0</td>\n",
       "      <td>4.0</td>\n",
       "      <td>...</td>\n",
       "      <td>0.0</td>\n",
       "      <td>0.0</td>\n",
       "      <td>0.0</td>\n",
       "      <td>0.0</td>\n",
       "      <td>0.0</td>\n",
       "      <td>0.0</td>\n",
       "      <td>0.0</td>\n",
       "      <td>0.0</td>\n",
       "      <td>0.0</td>\n",
       "      <td>0.0</td>\n",
       "    </tr>\n",
       "    <tr>\n",
       "      <th>100</th>\n",
       "      <td>0.0</td>\n",
       "      <td>0.0</td>\n",
       "      <td>0.0</td>\n",
       "      <td>0.0</td>\n",
       "      <td>0.0</td>\n",
       "      <td>0.0</td>\n",
       "      <td>0.0</td>\n",
       "      <td>0.0</td>\n",
       "      <td>0.0</td>\n",
       "      <td>0.0</td>\n",
       "      <td>...</td>\n",
       "      <td>0.0</td>\n",
       "      <td>0.0</td>\n",
       "      <td>0.0</td>\n",
       "      <td>0.0</td>\n",
       "      <td>0.0</td>\n",
       "      <td>0.0</td>\n",
       "      <td>0.0</td>\n",
       "      <td>0.0</td>\n",
       "      <td>0.0</td>\n",
       "      <td>0.0</td>\n",
       "    </tr>\n",
       "  </tbody>\n",
       "</table>\n",
       "<p>3 rows × 3640 columns</p>\n",
       "</div>"
      ],
      "text/plain": [
       "title    $1,000,000 Duck  'Night Mother  'Til There Was You  'burbs, The  \\\n",
       "user_id                                                                    \n",
       "1                    0.0            0.0                 0.0          0.0   \n",
       "10                   0.0            0.0                 0.0          4.0   \n",
       "100                  0.0            0.0                 0.0          0.0   \n",
       "\n",
       "title    ...And Justice for All  1-900  10 Things I Hate About You  \\\n",
       "user_id                                                              \n",
       "1                           0.0    0.0                         0.0   \n",
       "10                          0.0    0.0                         0.0   \n",
       "100                         0.0    0.0                         0.0   \n",
       "\n",
       "title    101 Dalmatians  12 Angry Men  13th Warrior, The  ...  \\\n",
       "user_id                                                   ...   \n",
       "1                   0.0           0.0                0.0  ...   \n",
       "10                  0.0           3.0                4.0  ...   \n",
       "100                 0.0           0.0                0.0  ...   \n",
       "\n",
       "title    Young Poisoner's Handbook, The  Young Sherlock Holmes  \\\n",
       "user_id                                                          \n",
       "1                                   0.0                    0.0   \n",
       "10                                  0.0                    0.0   \n",
       "100                                 0.0                    0.0   \n",
       "\n",
       "title    Young and Innocent  Your Friends and Neighbors  Zachariah  \\\n",
       "user_id                                                              \n",
       "1                       0.0                         0.0        0.0   \n",
       "10                      0.0                         0.0        0.0   \n",
       "100                     0.0                         0.0        0.0   \n",
       "\n",
       "title    Zed & Two Noughts, A  Zero Effect  \\\n",
       "user_id                                      \n",
       "1                         0.0          0.0   \n",
       "10                        0.0          0.0   \n",
       "100                       0.0          0.0   \n",
       "\n",
       "title    Zero Kelvin (Kjærlighetens kjøtere)  Zeus and Roxanne  eXistenZ  \n",
       "user_id                                                                   \n",
       "1                                        0.0               0.0       0.0  \n",
       "10                                       0.0               0.0       0.0  \n",
       "100                                      0.0               0.0       0.0  \n",
       "\n",
       "[3 rows x 3640 columns]"
      ]
     },
     "execution_count": 65,
     "metadata": {},
     "output_type": "execute_result"
    }
   ],
   "source": [
    "piv.head(3)"
   ]
  },
  {
   "cell_type": "markdown",
   "metadata": {},
   "source": [
    "### item- item based approach with corelation :"
   ]
  },
  {
   "cell_type": "code",
   "execution_count": 66,
   "metadata": {},
   "outputs": [],
   "source": [
    "# pearson correlation by taking input form the user :\n",
    "\n",
    "# movie_name = input(\" Enter your favourite movie name:  \")\n"
   ]
  },
  {
   "cell_type": "markdown",
   "metadata": {},
   "source": [
    "Let's try out with the movie \"Liar Liar\""
   ]
  },
  {
   "cell_type": "code",
   "execution_count": 67,
   "metadata": {},
   "outputs": [],
   "source": [
    "# finding the columns of the movie name\n",
    "co = piv.corrwith(piv['Liar Liar'])"
   ]
  },
  {
   "cell_type": "code",
   "execution_count": 68,
   "metadata": {},
   "outputs": [
    {
     "data": {
      "text/html": [
       "<div>\n",
       "<style scoped>\n",
       "    .dataframe tbody tr th:only-of-type {\n",
       "        vertical-align: middle;\n",
       "    }\n",
       "\n",
       "    .dataframe tbody tr th {\n",
       "        vertical-align: top;\n",
       "    }\n",
       "\n",
       "    .dataframe thead th {\n",
       "        text-align: right;\n",
       "    }\n",
       "</style>\n",
       "<table border=\"1\" class=\"dataframe\">\n",
       "  <thead>\n",
       "    <tr style=\"text-align: right;\">\n",
       "      <th></th>\n",
       "      <th>correlation</th>\n",
       "    </tr>\n",
       "  </thead>\n",
       "  <tbody>\n",
       "    <tr>\n",
       "      <th>Liar Liar</th>\n",
       "      <td>1.000000</td>\n",
       "    </tr>\n",
       "    <tr>\n",
       "      <th>Mrs. Doubtfire</th>\n",
       "      <td>0.499927</td>\n",
       "    </tr>\n",
       "    <tr>\n",
       "      <th>Dumb &amp; Dumber</th>\n",
       "      <td>0.459601</td>\n",
       "    </tr>\n",
       "    <tr>\n",
       "      <th>Ace Ventura: Pet Detective</th>\n",
       "      <td>0.458654</td>\n",
       "    </tr>\n",
       "    <tr>\n",
       "      <th>Home Alone</th>\n",
       "      <td>0.455967</td>\n",
       "    </tr>\n",
       "    <tr>\n",
       "      <th>Wedding Singer, The</th>\n",
       "      <td>0.429222</td>\n",
       "    </tr>\n",
       "    <tr>\n",
       "      <th>Wayne's World</th>\n",
       "      <td>0.424552</td>\n",
       "    </tr>\n",
       "    <tr>\n",
       "      <th>Cable Guy, The</th>\n",
       "      <td>0.420942</td>\n",
       "    </tr>\n",
       "    <tr>\n",
       "      <th>Tommy Boy</th>\n",
       "      <td>0.413143</td>\n",
       "    </tr>\n",
       "    <tr>\n",
       "      <th>Austin Powers: International Man of Mystery</th>\n",
       "      <td>0.411105</td>\n",
       "    </tr>\n",
       "  </tbody>\n",
       "</table>\n",
       "</div>"
      ],
      "text/plain": [
       "                                             correlation\n",
       "Liar Liar                                       1.000000\n",
       "Mrs. Doubtfire                                  0.499927\n",
       "Dumb & Dumber                                   0.459601\n",
       "Ace Ventura: Pet Detective                      0.458654\n",
       "Home Alone                                      0.455967\n",
       "Wedding Singer, The                             0.429222\n",
       "Wayne's World                                   0.424552\n",
       "Cable Guy, The                                  0.420942\n",
       "Tommy Boy                                       0.413143\n",
       "Austin Powers: International Man of Mystery     0.411105"
      ]
     },
     "execution_count": 68,
     "metadata": {},
     "output_type": "execute_result"
    }
   ],
   "source": [
    "# data frame for correlation\n",
    "corr_df = pd.DataFrame(co,columns=['correlation'])\n",
    "corr_df.sort_values(by='correlation',ascending=False).head(10)"
   ]
  },
  {
   "cell_type": "code",
   "execution_count": 69,
   "metadata": {},
   "outputs": [],
   "source": [
    "find_index = corr_df.sort_values(by='correlation',ascending=False).head(10).index"
   ]
  },
  {
   "cell_type": "code",
   "execution_count": 70,
   "metadata": {},
   "outputs": [
    {
     "data": {
      "text/html": [
       "<div>\n",
       "<style scoped>\n",
       "    .dataframe tbody tr th:only-of-type {\n",
       "        vertical-align: middle;\n",
       "    }\n",
       "\n",
       "    .dataframe tbody tr th {\n",
       "        vertical-align: top;\n",
       "    }\n",
       "\n",
       "    .dataframe thead th {\n",
       "        text-align: right;\n",
       "    }\n",
       "</style>\n",
       "<table border=\"1\" class=\"dataframe\">\n",
       "  <thead>\n",
       "    <tr style=\"text-align: right;\">\n",
       "      <th></th>\n",
       "      <th>title</th>\n",
       "      <th>genres</th>\n",
       "      <th>year</th>\n",
       "    </tr>\n",
       "  </thead>\n",
       "  <tbody>\n",
       "    <tr>\n",
       "      <th>228</th>\n",
       "      <td>Dumb &amp; Dumber</td>\n",
       "      <td>Comedy</td>\n",
       "      <td>1994</td>\n",
       "    </tr>\n",
       "    <tr>\n",
       "      <th>329</th>\n",
       "      <td>Tommy Boy</td>\n",
       "      <td>Comedy</td>\n",
       "      <td>1995</td>\n",
       "    </tr>\n",
       "    <tr>\n",
       "      <th>340</th>\n",
       "      <td>Ace Ventura: Pet Detective</td>\n",
       "      <td>Comedy</td>\n",
       "      <td>1994</td>\n",
       "    </tr>\n",
       "    <tr>\n",
       "      <th>496</th>\n",
       "      <td>Mrs. Doubtfire</td>\n",
       "      <td>Comedy</td>\n",
       "      <td>1993</td>\n",
       "    </tr>\n",
       "    <tr>\n",
       "      <th>582</th>\n",
       "      <td>Home Alone</td>\n",
       "      <td>Children's|Comedy</td>\n",
       "      <td>1990</td>\n",
       "    </tr>\n",
       "    <tr>\n",
       "      <th>774</th>\n",
       "      <td>Cable Guy, The</td>\n",
       "      <td>Comedy</td>\n",
       "      <td>1996</td>\n",
       "    </tr>\n",
       "    <tr>\n",
       "      <th>1455</th>\n",
       "      <td>Liar Liar</td>\n",
       "      <td>Comedy</td>\n",
       "      <td>1997</td>\n",
       "    </tr>\n",
       "    <tr>\n",
       "      <th>1482</th>\n",
       "      <td>Austin Powers: International Man of Mystery</td>\n",
       "      <td>Comedy</td>\n",
       "      <td>1997</td>\n",
       "    </tr>\n",
       "    <tr>\n",
       "      <th>1720</th>\n",
       "      <td>Wedding Singer, The</td>\n",
       "      <td>Comedy|Romance</td>\n",
       "      <td>1998</td>\n",
       "    </tr>\n",
       "    <tr>\n",
       "      <th>3184</th>\n",
       "      <td>Wayne's World</td>\n",
       "      <td>Comedy</td>\n",
       "      <td>1992</td>\n",
       "    </tr>\n",
       "  </tbody>\n",
       "</table>\n",
       "</div>"
      ],
      "text/plain": [
       "                                            title             genres  year\n",
       "228                                 Dumb & Dumber             Comedy  1994\n",
       "329                                     Tommy Boy             Comedy  1995\n",
       "340                    Ace Ventura: Pet Detective             Comedy  1994\n",
       "496                                Mrs. Doubtfire             Comedy  1993\n",
       "582                                    Home Alone  Children's|Comedy  1990\n",
       "774                                Cable Guy, The             Comedy  1996\n",
       "1455                                    Liar Liar             Comedy  1997\n",
       "1482  Austin Powers: International Man of Mystery             Comedy  1997\n",
       "1720                          Wedding Singer, The     Comedy|Romance  1998\n",
       "3184                                Wayne's World             Comedy  1992"
      ]
     },
     "execution_count": 70,
     "metadata": {},
     "output_type": "execute_result"
    }
   ],
   "source": [
    "# find the genre for find_index movies \n",
    "\n",
    "movies[movies['title'].isin(find_index)][[\"title\",\"genres\",\"year\"]]\n",
    "\n"
   ]
  },
  {
   "cell_type": "markdown",
   "metadata": {},
   "source": [
    "As we can see if the user enters the movie 'Liar Liar' , we can get the top 10 movies that are similar to it with pearson correlation and also look at the genres."
   ]
  },
  {
   "cell_type": "code",
   "execution_count": 71,
   "metadata": {},
   "outputs": [
    {
     "data": {
      "text/plain": [
       "user_id\n",
       "1778    5.0\n",
       "1506    5.0\n",
       "2198    5.0\n",
       "4028    5.0\n",
       "1524    5.0\n",
       "3834    5.0\n",
       "3111    5.0\n",
       "809     5.0\n",
       "3113    5.0\n",
       "3716    5.0\n",
       "Name: Liar Liar, dtype: float64"
      ]
     },
     "execution_count": 71,
     "metadata": {},
     "output_type": "execute_result"
    }
   ],
   "source": [
    "piv[\"Liar Liar\"].sort_values(ascending=False).head(10)"
   ]
  },
  {
   "cell_type": "markdown",
   "metadata": {},
   "source": [
    "This Item -Item based approach is done on  movies -movies  based on the ratings given by the user. \n",
    "\n",
    "Similarly let's do it with cosine similarity"
   ]
  },
  {
   "cell_type": "markdown",
   "metadata": {},
   "source": [
    "Cosine -similarity b/w movies :\n",
    "\n",
    "Similarity Matrix for every movie with every other movie"
   ]
  },
  {
   "cell_type": "code",
   "execution_count": 72,
   "metadata": {},
   "outputs": [
    {
     "data": {
      "text/plain": [
       "array([[1.        , 0.07235746, 0.03701053, ..., 0.        , 0.12024178,\n",
       "        0.02700277],\n",
       "       [0.07235746, 1.        , 0.11528952, ..., 0.        , 0.        ,\n",
       "        0.07780705],\n",
       "       [0.03701053, 0.11528952, 1.        , ..., 0.        , 0.04752635,\n",
       "        0.0632837 ],\n",
       "       ...,\n",
       "       [0.        , 0.        , 0.        , ..., 1.        , 0.        ,\n",
       "        0.04564448],\n",
       "       [0.12024178, 0.        , 0.04752635, ..., 0.        , 1.        ,\n",
       "        0.04433508],\n",
       "       [0.02700277, 0.07780705, 0.0632837 , ..., 0.04564448, 0.04433508,\n",
       "        1.        ]])"
      ]
     },
     "execution_count": 72,
     "metadata": {},
     "output_type": "execute_result"
    }
   ],
   "source": [
    "# cosine similarity \n",
    "cos_sim =  cosine_similarity(piv.T) \n",
    "cos_sim"
   ]
  },
  {
   "cell_type": "code",
   "execution_count": 73,
   "metadata": {},
   "outputs": [
    {
     "data": {
      "text/html": [
       "<div>\n",
       "<style scoped>\n",
       "    .dataframe tbody tr th:only-of-type {\n",
       "        vertical-align: middle;\n",
       "    }\n",
       "\n",
       "    .dataframe tbody tr th {\n",
       "        vertical-align: top;\n",
       "    }\n",
       "\n",
       "    .dataframe thead th {\n",
       "        text-align: right;\n",
       "    }\n",
       "</style>\n",
       "<table border=\"1\" class=\"dataframe\">\n",
       "  <thead>\n",
       "    <tr style=\"text-align: right;\">\n",
       "      <th>title</th>\n",
       "      <th>$1,000,000 Duck</th>\n",
       "      <th>'Night Mother</th>\n",
       "      <th>'Til There Was You</th>\n",
       "      <th>'burbs, The</th>\n",
       "      <th>...And Justice for All</th>\n",
       "      <th>1-900</th>\n",
       "      <th>10 Things I Hate About You</th>\n",
       "      <th>101 Dalmatians</th>\n",
       "      <th>12 Angry Men</th>\n",
       "      <th>13th Warrior, The</th>\n",
       "      <th>...</th>\n",
       "      <th>Young Poisoner's Handbook, The</th>\n",
       "      <th>Young Sherlock Holmes</th>\n",
       "      <th>Young and Innocent</th>\n",
       "      <th>Your Friends and Neighbors</th>\n",
       "      <th>Zachariah</th>\n",
       "      <th>Zed &amp; Two Noughts, A</th>\n",
       "      <th>Zero Effect</th>\n",
       "      <th>Zero Kelvin (Kjærlighetens kjøtere)</th>\n",
       "      <th>Zeus and Roxanne</th>\n",
       "      <th>eXistenZ</th>\n",
       "    </tr>\n",
       "    <tr>\n",
       "      <th>title</th>\n",
       "      <th></th>\n",
       "      <th></th>\n",
       "      <th></th>\n",
       "      <th></th>\n",
       "      <th></th>\n",
       "      <th></th>\n",
       "      <th></th>\n",
       "      <th></th>\n",
       "      <th></th>\n",
       "      <th></th>\n",
       "      <th></th>\n",
       "      <th></th>\n",
       "      <th></th>\n",
       "      <th></th>\n",
       "      <th></th>\n",
       "      <th></th>\n",
       "      <th></th>\n",
       "      <th></th>\n",
       "      <th></th>\n",
       "      <th></th>\n",
       "      <th></th>\n",
       "    </tr>\n",
       "  </thead>\n",
       "  <tbody>\n",
       "    <tr>\n",
       "      <th>$1,000,000 Duck</th>\n",
       "      <td>1.000000</td>\n",
       "      <td>0.072357</td>\n",
       "      <td>0.037011</td>\n",
       "      <td>0.079291</td>\n",
       "      <td>0.060838</td>\n",
       "      <td>0.00000</td>\n",
       "      <td>0.058619</td>\n",
       "      <td>0.189843</td>\n",
       "      <td>0.094785</td>\n",
       "      <td>0.058418</td>\n",
       "      <td>...</td>\n",
       "      <td>0.038725</td>\n",
       "      <td>0.076474</td>\n",
       "      <td>0.000000</td>\n",
       "      <td>0.044074</td>\n",
       "      <td>0.0</td>\n",
       "      <td>0.045280</td>\n",
       "      <td>0.039395</td>\n",
       "      <td>0.0</td>\n",
       "      <td>0.120242</td>\n",
       "      <td>0.027003</td>\n",
       "    </tr>\n",
       "    <tr>\n",
       "      <th>'Night Mother</th>\n",
       "      <td>0.072357</td>\n",
       "      <td>1.000000</td>\n",
       "      <td>0.115290</td>\n",
       "      <td>0.115545</td>\n",
       "      <td>0.159526</td>\n",
       "      <td>0.00000</td>\n",
       "      <td>0.076798</td>\n",
       "      <td>0.137135</td>\n",
       "      <td>0.111413</td>\n",
       "      <td>0.046135</td>\n",
       "      <td>...</td>\n",
       "      <td>0.053010</td>\n",
       "      <td>0.087828</td>\n",
       "      <td>0.063758</td>\n",
       "      <td>0.135962</td>\n",
       "      <td>0.0</td>\n",
       "      <td>0.091150</td>\n",
       "      <td>0.074787</td>\n",
       "      <td>0.0</td>\n",
       "      <td>0.000000</td>\n",
       "      <td>0.077807</td>\n",
       "    </tr>\n",
       "    <tr>\n",
       "      <th>'Til There Was You</th>\n",
       "      <td>0.037011</td>\n",
       "      <td>0.115290</td>\n",
       "      <td>1.000000</td>\n",
       "      <td>0.098756</td>\n",
       "      <td>0.066301</td>\n",
       "      <td>0.08025</td>\n",
       "      <td>0.127895</td>\n",
       "      <td>0.128523</td>\n",
       "      <td>0.079115</td>\n",
       "      <td>0.066598</td>\n",
       "      <td>...</td>\n",
       "      <td>0.029200</td>\n",
       "      <td>0.062893</td>\n",
       "      <td>0.000000</td>\n",
       "      <td>0.079187</td>\n",
       "      <td>0.0</td>\n",
       "      <td>0.022594</td>\n",
       "      <td>0.079261</td>\n",
       "      <td>0.0</td>\n",
       "      <td>0.047526</td>\n",
       "      <td>0.063284</td>\n",
       "    </tr>\n",
       "    <tr>\n",
       "      <th>'burbs, The</th>\n",
       "      <td>0.079291</td>\n",
       "      <td>0.115545</td>\n",
       "      <td>0.098756</td>\n",
       "      <td>1.000000</td>\n",
       "      <td>0.143620</td>\n",
       "      <td>0.00000</td>\n",
       "      <td>0.192191</td>\n",
       "      <td>0.250140</td>\n",
       "      <td>0.170719</td>\n",
       "      <td>0.197808</td>\n",
       "      <td>...</td>\n",
       "      <td>0.113386</td>\n",
       "      <td>0.207897</td>\n",
       "      <td>0.019962</td>\n",
       "      <td>0.138064</td>\n",
       "      <td>0.0</td>\n",
       "      <td>0.055704</td>\n",
       "      <td>0.161174</td>\n",
       "      <td>0.0</td>\n",
       "      <td>0.033567</td>\n",
       "      <td>0.110525</td>\n",
       "    </tr>\n",
       "  </tbody>\n",
       "</table>\n",
       "<p>4 rows × 3640 columns</p>\n",
       "</div>"
      ],
      "text/plain": [
       "title               $1,000,000 Duck  'Night Mother  'Til There Was You  \\\n",
       "title                                                                    \n",
       "$1,000,000 Duck            1.000000       0.072357            0.037011   \n",
       "'Night Mother              0.072357       1.000000            0.115290   \n",
       "'Til There Was You         0.037011       0.115290            1.000000   \n",
       "'burbs, The                0.079291       0.115545            0.098756   \n",
       "\n",
       "title               'burbs, The  ...And Justice for All    1-900  \\\n",
       "title                                                              \n",
       "$1,000,000 Duck        0.079291                0.060838  0.00000   \n",
       "'Night Mother          0.115545                0.159526  0.00000   \n",
       "'Til There Was You     0.098756                0.066301  0.08025   \n",
       "'burbs, The            1.000000                0.143620  0.00000   \n",
       "\n",
       "title               10 Things I Hate About You  101 Dalmatians  12 Angry Men  \\\n",
       "title                                                                          \n",
       "$1,000,000 Duck                       0.058619        0.189843      0.094785   \n",
       "'Night Mother                         0.076798        0.137135      0.111413   \n",
       "'Til There Was You                    0.127895        0.128523      0.079115   \n",
       "'burbs, The                           0.192191        0.250140      0.170719   \n",
       "\n",
       "title               13th Warrior, The  ...  Young Poisoner's Handbook, The  \\\n",
       "title                                  ...                                   \n",
       "$1,000,000 Duck              0.058418  ...                        0.038725   \n",
       "'Night Mother                0.046135  ...                        0.053010   \n",
       "'Til There Was You           0.066598  ...                        0.029200   \n",
       "'burbs, The                  0.197808  ...                        0.113386   \n",
       "\n",
       "title               Young Sherlock Holmes  Young and Innocent  \\\n",
       "title                                                           \n",
       "$1,000,000 Duck                  0.076474            0.000000   \n",
       "'Night Mother                    0.087828            0.063758   \n",
       "'Til There Was You               0.062893            0.000000   \n",
       "'burbs, The                      0.207897            0.019962   \n",
       "\n",
       "title               Your Friends and Neighbors  Zachariah  \\\n",
       "title                                                       \n",
       "$1,000,000 Duck                       0.044074        0.0   \n",
       "'Night Mother                         0.135962        0.0   \n",
       "'Til There Was You                    0.079187        0.0   \n",
       "'burbs, The                           0.138064        0.0   \n",
       "\n",
       "title               Zed & Two Noughts, A  Zero Effect  \\\n",
       "title                                                   \n",
       "$1,000,000 Duck                 0.045280     0.039395   \n",
       "'Night Mother                   0.091150     0.074787   \n",
       "'Til There Was You              0.022594     0.079261   \n",
       "'burbs, The                     0.055704     0.161174   \n",
       "\n",
       "title               Zero Kelvin (Kjærlighetens kjøtere)  Zeus and Roxanne  \\\n",
       "title                                                                       \n",
       "$1,000,000 Duck                                     0.0          0.120242   \n",
       "'Night Mother                                       0.0          0.000000   \n",
       "'Til There Was You                                  0.0          0.047526   \n",
       "'burbs, The                                         0.0          0.033567   \n",
       "\n",
       "title               eXistenZ  \n",
       "title                         \n",
       "$1,000,000 Duck     0.027003  \n",
       "'Night Mother       0.077807  \n",
       "'Til There Was You  0.063284  \n",
       "'burbs, The         0.110525  \n",
       "\n",
       "[4 rows x 3640 columns]"
      ]
     },
     "execution_count": 73,
     "metadata": {},
     "output_type": "execute_result"
    }
   ],
   "source": [
    "# dataframe for cosine similarity \n",
    "cos_sim_df = pd.DataFrame(cos_sim, index = piv.columns, columns = piv.columns)\n",
    "cos_sim_df.head(4)"
   ]
  },
  {
   "cell_type": "code",
   "execution_count": 74,
   "metadata": {},
   "outputs": [
    {
     "data": {
      "text/plain": [
       "title\n",
       "Liar Liar                                      1.000000\n",
       "Mrs. Doubtfire                                 0.557067\n",
       "Ace Ventura: Pet Detective                     0.516861\n",
       "Dumb & Dumber                                  0.512585\n",
       "Home Alone                                     0.511204\n",
       "Wayne's World                                  0.499368\n",
       "Wedding Singer, The                            0.497076\n",
       "Austin Powers: International Man of Mystery    0.489473\n",
       "There's Something About Mary                   0.483263\n",
       "League of Their Own, A                         0.482074\n",
       "Name: Liar Liar, dtype: float64"
      ]
     },
     "execution_count": 74,
     "metadata": {},
     "output_type": "execute_result"
    }
   ],
   "source": [
    "cos_sim_df[\"Liar Liar\"].sort_values(ascending=False).head(10)"
   ]
  },
  {
   "cell_type": "markdown",
   "metadata": {},
   "source": [
    "Cosine -similarity b/w movies :\n",
    "\n",
    "Similarity Matrix for every movie with every other movie"
   ]
  },
  {
   "cell_type": "code",
   "execution_count": 75,
   "metadata": {},
   "outputs": [
    {
     "data": {
      "text/html": [
       "<div>\n",
       "<style scoped>\n",
       "    .dataframe tbody tr th:only-of-type {\n",
       "        vertical-align: middle;\n",
       "    }\n",
       "\n",
       "    .dataframe tbody tr th {\n",
       "        vertical-align: top;\n",
       "    }\n",
       "\n",
       "    .dataframe thead th {\n",
       "        text-align: right;\n",
       "    }\n",
       "</style>\n",
       "<table border=\"1\" class=\"dataframe\">\n",
       "  <thead>\n",
       "    <tr style=\"text-align: right;\">\n",
       "      <th></th>\n",
       "      <th>cosine_Similarity</th>\n",
       "    </tr>\n",
       "    <tr>\n",
       "      <th>title</th>\n",
       "      <th></th>\n",
       "    </tr>\n",
       "  </thead>\n",
       "  <tbody>\n",
       "    <tr>\n",
       "      <th>Liar Liar</th>\n",
       "      <td>1.000000</td>\n",
       "    </tr>\n",
       "    <tr>\n",
       "      <th>Mrs. Doubtfire</th>\n",
       "      <td>0.557067</td>\n",
       "    </tr>\n",
       "    <tr>\n",
       "      <th>Ace Ventura: Pet Detective</th>\n",
       "      <td>0.516861</td>\n",
       "    </tr>\n",
       "    <tr>\n",
       "      <th>Dumb &amp; Dumber</th>\n",
       "      <td>0.512585</td>\n",
       "    </tr>\n",
       "    <tr>\n",
       "      <th>Home Alone</th>\n",
       "      <td>0.511204</td>\n",
       "    </tr>\n",
       "    <tr>\n",
       "      <th>Wayne's World</th>\n",
       "      <td>0.499368</td>\n",
       "    </tr>\n",
       "    <tr>\n",
       "      <th>Wedding Singer, The</th>\n",
       "      <td>0.497076</td>\n",
       "    </tr>\n",
       "    <tr>\n",
       "      <th>Austin Powers: International Man of Mystery</th>\n",
       "      <td>0.489473</td>\n",
       "    </tr>\n",
       "    <tr>\n",
       "      <th>There's Something About Mary</th>\n",
       "      <td>0.483263</td>\n",
       "    </tr>\n",
       "    <tr>\n",
       "      <th>League of Their Own, A</th>\n",
       "      <td>0.482074</td>\n",
       "    </tr>\n",
       "  </tbody>\n",
       "</table>\n",
       "</div>"
      ],
      "text/plain": [
       "                                             cosine_Similarity\n",
       "title                                                         \n",
       "Liar Liar                                             1.000000\n",
       "Mrs. Doubtfire                                        0.557067\n",
       "Ace Ventura: Pet Detective                            0.516861\n",
       "Dumb & Dumber                                         0.512585\n",
       "Home Alone                                            0.511204\n",
       "Wayne's World                                         0.499368\n",
       "Wedding Singer, The                                   0.497076\n",
       "Austin Powers: International Man of Mystery           0.489473\n",
       "There's Something About Mary                          0.483263\n",
       "League of Their Own, A                                0.482074"
      ]
     },
     "execution_count": 75,
     "metadata": {},
     "output_type": "execute_result"
    }
   ],
   "source": [
    "cos_sim_df[\"Liar Liar\"].sort_values(ascending=False).head(10).to_frame(\"cosine_Similarity\")"
   ]
  },
  {
   "cell_type": "code",
   "execution_count": 76,
   "metadata": {},
   "outputs": [],
   "source": [
    "# we can also build a user-user similarity with the same approach "
   ]
  },
  {
   "cell_type": "markdown",
   "metadata": {},
   "source": [
    "### Knn- based similarity :"
   ]
  },
  {
   "cell_type": "code",
   "execution_count": 77,
   "metadata": {},
   "outputs": [
    {
     "data": {
      "text/html": [
       "<div>\n",
       "<style scoped>\n",
       "    .dataframe tbody tr th:only-of-type {\n",
       "        vertical-align: middle;\n",
       "    }\n",
       "\n",
       "    .dataframe tbody tr th {\n",
       "        vertical-align: top;\n",
       "    }\n",
       "\n",
       "    .dataframe thead th {\n",
       "        text-align: right;\n",
       "    }\n",
       "</style>\n",
       "<table border=\"1\" class=\"dataframe\">\n",
       "  <thead>\n",
       "    <tr style=\"text-align: right;\">\n",
       "      <th>user_id</th>\n",
       "      <th>1</th>\n",
       "      <th>10</th>\n",
       "      <th>100</th>\n",
       "    </tr>\n",
       "    <tr>\n",
       "      <th>title</th>\n",
       "      <th></th>\n",
       "      <th></th>\n",
       "      <th></th>\n",
       "    </tr>\n",
       "  </thead>\n",
       "  <tbody>\n",
       "    <tr>\n",
       "      <th>$1,000,000 Duck</th>\n",
       "      <td>0.0</td>\n",
       "      <td>0.0</td>\n",
       "      <td>0.0</td>\n",
       "    </tr>\n",
       "    <tr>\n",
       "      <th>'Night Mother</th>\n",
       "      <td>0.0</td>\n",
       "      <td>0.0</td>\n",
       "      <td>0.0</td>\n",
       "    </tr>\n",
       "    <tr>\n",
       "      <th>'Til There Was You</th>\n",
       "      <td>0.0</td>\n",
       "      <td>0.0</td>\n",
       "      <td>0.0</td>\n",
       "    </tr>\n",
       "    <tr>\n",
       "      <th>'burbs, The</th>\n",
       "      <td>0.0</td>\n",
       "      <td>4.0</td>\n",
       "      <td>0.0</td>\n",
       "    </tr>\n",
       "    <tr>\n",
       "      <th>...And Justice for All</th>\n",
       "      <td>0.0</td>\n",
       "      <td>0.0</td>\n",
       "      <td>0.0</td>\n",
       "    </tr>\n",
       "    <tr>\n",
       "      <th>...</th>\n",
       "      <td>...</td>\n",
       "      <td>...</td>\n",
       "      <td>...</td>\n",
       "    </tr>\n",
       "    <tr>\n",
       "      <th>Zed &amp; Two Noughts, A</th>\n",
       "      <td>0.0</td>\n",
       "      <td>0.0</td>\n",
       "      <td>0.0</td>\n",
       "    </tr>\n",
       "    <tr>\n",
       "      <th>Zero Effect</th>\n",
       "      <td>0.0</td>\n",
       "      <td>0.0</td>\n",
       "      <td>0.0</td>\n",
       "    </tr>\n",
       "    <tr>\n",
       "      <th>Zero Kelvin (Kjærlighetens kjøtere)</th>\n",
       "      <td>0.0</td>\n",
       "      <td>0.0</td>\n",
       "      <td>0.0</td>\n",
       "    </tr>\n",
       "    <tr>\n",
       "      <th>Zeus and Roxanne</th>\n",
       "      <td>0.0</td>\n",
       "      <td>0.0</td>\n",
       "      <td>0.0</td>\n",
       "    </tr>\n",
       "    <tr>\n",
       "      <th>eXistenZ</th>\n",
       "      <td>0.0</td>\n",
       "      <td>0.0</td>\n",
       "      <td>0.0</td>\n",
       "    </tr>\n",
       "  </tbody>\n",
       "</table>\n",
       "<p>3640 rows × 3 columns</p>\n",
       "</div>"
      ],
      "text/plain": [
       "user_id                                1   10  100\n",
       "title                                             \n",
       "$1,000,000 Duck                      0.0  0.0  0.0\n",
       "'Night Mother                        0.0  0.0  0.0\n",
       "'Til There Was You                   0.0  0.0  0.0\n",
       "'burbs, The                          0.0  4.0  0.0\n",
       "...And Justice for All               0.0  0.0  0.0\n",
       "...                                  ...  ...  ...\n",
       "Zed & Two Noughts, A                 0.0  0.0  0.0\n",
       "Zero Effect                          0.0  0.0  0.0\n",
       "Zero Kelvin (Kjærlighetens kjøtere)  0.0  0.0  0.0\n",
       "Zeus and Roxanne                     0.0  0.0  0.0\n",
       "eXistenZ                             0.0  0.0  0.0\n",
       "\n",
       "[3640 rows x 3 columns]"
      ]
     },
     "execution_count": 77,
     "metadata": {},
     "output_type": "execute_result"
    }
   ],
   "source": [
    "# Now let's use knn to find similar movies\n",
    "piv.head(3).T"
   ]
  },
  {
   "cell_type": "code",
   "execution_count": 78,
   "metadata": {},
   "outputs": [
    {
     "data": {
      "text/html": [
       "<style>#sk-container-id-1 {color: black;background-color: white;}#sk-container-id-1 pre{padding: 0;}#sk-container-id-1 div.sk-toggleable {background-color: white;}#sk-container-id-1 label.sk-toggleable__label {cursor: pointer;display: block;width: 100%;margin-bottom: 0;padding: 0.3em;box-sizing: border-box;text-align: center;}#sk-container-id-1 label.sk-toggleable__label-arrow:before {content: \"▸\";float: left;margin-right: 0.25em;color: #696969;}#sk-container-id-1 label.sk-toggleable__label-arrow:hover:before {color: black;}#sk-container-id-1 div.sk-estimator:hover label.sk-toggleable__label-arrow:before {color: black;}#sk-container-id-1 div.sk-toggleable__content {max-height: 0;max-width: 0;overflow: hidden;text-align: left;background-color: #f0f8ff;}#sk-container-id-1 div.sk-toggleable__content pre {margin: 0.2em;color: black;border-radius: 0.25em;background-color: #f0f8ff;}#sk-container-id-1 input.sk-toggleable__control:checked~div.sk-toggleable__content {max-height: 200px;max-width: 100%;overflow: auto;}#sk-container-id-1 input.sk-toggleable__control:checked~label.sk-toggleable__label-arrow:before {content: \"▾\";}#sk-container-id-1 div.sk-estimator input.sk-toggleable__control:checked~label.sk-toggleable__label {background-color: #d4ebff;}#sk-container-id-1 div.sk-label input.sk-toggleable__control:checked~label.sk-toggleable__label {background-color: #d4ebff;}#sk-container-id-1 input.sk-hidden--visually {border: 0;clip: rect(1px 1px 1px 1px);clip: rect(1px, 1px, 1px, 1px);height: 1px;margin: -1px;overflow: hidden;padding: 0;position: absolute;width: 1px;}#sk-container-id-1 div.sk-estimator {font-family: monospace;background-color: #f0f8ff;border: 1px dotted black;border-radius: 0.25em;box-sizing: border-box;margin-bottom: 0.5em;}#sk-container-id-1 div.sk-estimator:hover {background-color: #d4ebff;}#sk-container-id-1 div.sk-parallel-item::after {content: \"\";width: 100%;border-bottom: 1px solid gray;flex-grow: 1;}#sk-container-id-1 div.sk-label:hover label.sk-toggleable__label {background-color: #d4ebff;}#sk-container-id-1 div.sk-serial::before {content: \"\";position: absolute;border-left: 1px solid gray;box-sizing: border-box;top: 0;bottom: 0;left: 50%;z-index: 0;}#sk-container-id-1 div.sk-serial {display: flex;flex-direction: column;align-items: center;background-color: white;padding-right: 0.2em;padding-left: 0.2em;position: relative;}#sk-container-id-1 div.sk-item {position: relative;z-index: 1;}#sk-container-id-1 div.sk-parallel {display: flex;align-items: stretch;justify-content: center;background-color: white;position: relative;}#sk-container-id-1 div.sk-item::before, #sk-container-id-1 div.sk-parallel-item::before {content: \"\";position: absolute;border-left: 1px solid gray;box-sizing: border-box;top: 0;bottom: 0;left: 50%;z-index: -1;}#sk-container-id-1 div.sk-parallel-item {display: flex;flex-direction: column;z-index: 1;position: relative;background-color: white;}#sk-container-id-1 div.sk-parallel-item:first-child::after {align-self: flex-end;width: 50%;}#sk-container-id-1 div.sk-parallel-item:last-child::after {align-self: flex-start;width: 50%;}#sk-container-id-1 div.sk-parallel-item:only-child::after {width: 0;}#sk-container-id-1 div.sk-dashed-wrapped {border: 1px dashed gray;margin: 0 0.4em 0.5em 0.4em;box-sizing: border-box;padding-bottom: 0.4em;background-color: white;}#sk-container-id-1 div.sk-label label {font-family: monospace;font-weight: bold;display: inline-block;line-height: 1.2em;}#sk-container-id-1 div.sk-label-container {text-align: center;}#sk-container-id-1 div.sk-container {/* jupyter's `normalize.less` sets `[hidden] { display: none; }` but bootstrap.min.css set `[hidden] { display: none !important; }` so we also need the `!important` here to be able to override the default hidden behavior on the sphinx rendered scikit-learn.org. See: https://github.com/scikit-learn/scikit-learn/issues/21755 */display: inline-block !important;position: relative;}#sk-container-id-1 div.sk-text-repr-fallback {display: none;}</style><div id=\"sk-container-id-1\" class=\"sk-top-container\"><div class=\"sk-text-repr-fallback\"><pre>NearestNeighbors(metric=&#x27;cosine&#x27;, n_jobs=-1, n_neighbors=10)</pre><b>In a Jupyter environment, please rerun this cell to show the HTML representation or trust the notebook. <br />On GitHub, the HTML representation is unable to render, please try loading this page with nbviewer.org.</b></div><div class=\"sk-container\" hidden><div class=\"sk-item\"><div class=\"sk-estimator sk-toggleable\"><input class=\"sk-toggleable__control sk-hidden--visually\" id=\"sk-estimator-id-1\" type=\"checkbox\" checked><label for=\"sk-estimator-id-1\" class=\"sk-toggleable__label sk-toggleable__label-arrow\">NearestNeighbors</label><div class=\"sk-toggleable__content\"><pre>NearestNeighbors(metric=&#x27;cosine&#x27;, n_jobs=-1, n_neighbors=10)</pre></div></div></div></div></div>"
      ],
      "text/plain": [
       "NearestNeighbors(metric='cosine', n_jobs=-1, n_neighbors=10)"
      ]
     },
     "execution_count": 78,
     "metadata": {},
     "output_type": "execute_result"
    }
   ],
   "source": [
    "model = NearestNeighbors(metric = 'cosine',n_neighbors=10,n_jobs=-1)\n",
    "model.fit(piv.T)"
   ]
  },
  {
   "cell_type": "markdown",
   "metadata": {},
   "source": [
    "Passing \"lair lair\" as input"
   ]
  },
  {
   "cell_type": "code",
   "execution_count": 79,
   "metadata": {},
   "outputs": [],
   "source": [
    "distance , indices = model.kneighbors(piv.T.loc[\"Liar Liar\"].values.reshape(1,-1),n_neighbors=10)"
   ]
  },
  {
   "cell_type": "markdown",
   "metadata": {},
   "source": [
    "Remember lesser the distance more similar to the query movie :"
   ]
  },
  {
   "cell_type": "code",
   "execution_count": 80,
   "metadata": {},
   "outputs": [
    {
     "data": {
      "text/html": [
       "<div>\n",
       "<style scoped>\n",
       "    .dataframe tbody tr th:only-of-type {\n",
       "        vertical-align: middle;\n",
       "    }\n",
       "\n",
       "    .dataframe tbody tr th {\n",
       "        vertical-align: top;\n",
       "    }\n",
       "\n",
       "    .dataframe thead th {\n",
       "        text-align: right;\n",
       "    }\n",
       "</style>\n",
       "<table border=\"1\" class=\"dataframe\">\n",
       "  <thead>\n",
       "    <tr style=\"text-align: right;\">\n",
       "      <th></th>\n",
       "      <th>knn_disatnce</th>\n",
       "    </tr>\n",
       "    <tr>\n",
       "      <th>title</th>\n",
       "      <th></th>\n",
       "    </tr>\n",
       "  </thead>\n",
       "  <tbody>\n",
       "    <tr>\n",
       "      <th>Liar Liar</th>\n",
       "      <td>0.000000</td>\n",
       "    </tr>\n",
       "    <tr>\n",
       "      <th>Mrs. Doubtfire</th>\n",
       "      <td>0.442933</td>\n",
       "    </tr>\n",
       "    <tr>\n",
       "      <th>Ace Ventura: Pet Detective</th>\n",
       "      <td>0.483139</td>\n",
       "    </tr>\n",
       "    <tr>\n",
       "      <th>Dumb &amp; Dumber</th>\n",
       "      <td>0.487415</td>\n",
       "    </tr>\n",
       "    <tr>\n",
       "      <th>Home Alone</th>\n",
       "      <td>0.488796</td>\n",
       "    </tr>\n",
       "    <tr>\n",
       "      <th>Wayne's World</th>\n",
       "      <td>0.500632</td>\n",
       "    </tr>\n",
       "    <tr>\n",
       "      <th>Wedding Singer, The</th>\n",
       "      <td>0.502924</td>\n",
       "    </tr>\n",
       "    <tr>\n",
       "      <th>Austin Powers: International Man of Mystery</th>\n",
       "      <td>0.510527</td>\n",
       "    </tr>\n",
       "    <tr>\n",
       "      <th>There's Something About Mary</th>\n",
       "      <td>0.516737</td>\n",
       "    </tr>\n",
       "    <tr>\n",
       "      <th>League of Their Own, A</th>\n",
       "      <td>0.517926</td>\n",
       "    </tr>\n",
       "  </tbody>\n",
       "</table>\n",
       "</div>"
      ],
      "text/plain": [
       "                                             knn_disatnce\n",
       "title                                                    \n",
       "Liar Liar                                        0.000000\n",
       "Mrs. Doubtfire                                   0.442933\n",
       "Ace Ventura: Pet Detective                       0.483139\n",
       "Dumb & Dumber                                    0.487415\n",
       "Home Alone                                       0.488796\n",
       "Wayne's World                                    0.500632\n",
       "Wedding Singer, The                              0.502924\n",
       "Austin Powers: International Man of Mystery      0.510527\n",
       "There's Something About Mary                     0.516737\n",
       "League of Their Own, A                           0.517926"
      ]
     },
     "execution_count": 80,
     "metadata": {},
     "output_type": "execute_result"
    }
   ],
   "source": [
    "# dataframe of similar movies with distance \n",
    "\n",
    "\n",
    "knn_based_similarity = pd.DataFrame(index= piv.columns[indices[0]], data = distance[0], columns=[\"knn_disatnce\"])\n",
    "knn_based_similarity"
   ]
  },
  {
   "cell_type": "markdown",
   "metadata": {},
   "source": [
    "Matrix Factorisation Approach :\n",
    "\n",
    "It reduces the dimensionality of the data by decomposing the data into two matrices."
   ]
  },
  {
   "cell_type": "code",
   "execution_count": 85,
   "metadata": {},
   "outputs": [
    {
     "data": {
      "text/html": [
       "<div>\n",
       "<style scoped>\n",
       "    .dataframe tbody tr th:only-of-type {\n",
       "        vertical-align: middle;\n",
       "    }\n",
       "\n",
       "    .dataframe tbody tr th {\n",
       "        vertical-align: top;\n",
       "    }\n",
       "\n",
       "    .dataframe thead th {\n",
       "        text-align: right;\n",
       "    }\n",
       "</style>\n",
       "<table border=\"1\" class=\"dataframe\">\n",
       "  <thead>\n",
       "    <tr style=\"text-align: right;\">\n",
       "      <th></th>\n",
       "      <th>movie_id</th>\n",
       "      <th>title</th>\n",
       "      <th>genres</th>\n",
       "      <th>year</th>\n",
       "      <th>user_id</th>\n",
       "      <th>rating</th>\n",
       "      <th>timestamp</th>\n",
       "      <th>gender</th>\n",
       "      <th>age</th>\n",
       "      <th>occupation</th>\n",
       "      <th>zip_code</th>\n",
       "      <th>datetime</th>\n",
       "      <th>release_bins</th>\n",
       "    </tr>\n",
       "  </thead>\n",
       "  <tbody>\n",
       "    <tr>\n",
       "      <th>0</th>\n",
       "      <td>1</td>\n",
       "      <td>Toy Story</td>\n",
       "      <td>animation</td>\n",
       "      <td>1995</td>\n",
       "      <td>1</td>\n",
       "      <td>5</td>\n",
       "      <td>978824268</td>\n",
       "      <td>F</td>\n",
       "      <td>Under 18</td>\n",
       "      <td>K-12 student</td>\n",
       "      <td>48067</td>\n",
       "      <td>2001-01-06 23:37:48</td>\n",
       "      <td>90s</td>\n",
       "    </tr>\n",
       "    <tr>\n",
       "      <th>1</th>\n",
       "      <td>1</td>\n",
       "      <td>Toy Story</td>\n",
       "      <td>children</td>\n",
       "      <td>1995</td>\n",
       "      <td>1</td>\n",
       "      <td>5</td>\n",
       "      <td>978824268</td>\n",
       "      <td>F</td>\n",
       "      <td>Under 18</td>\n",
       "      <td>K-12 student</td>\n",
       "      <td>48067</td>\n",
       "      <td>2001-01-06 23:37:48</td>\n",
       "      <td>90s</td>\n",
       "    </tr>\n",
       "    <tr>\n",
       "      <th>2</th>\n",
       "      <td>1</td>\n",
       "      <td>Toy Story</td>\n",
       "      <td>comedy</td>\n",
       "      <td>1995</td>\n",
       "      <td>1</td>\n",
       "      <td>5</td>\n",
       "      <td>978824268</td>\n",
       "      <td>F</td>\n",
       "      <td>Under 18</td>\n",
       "      <td>K-12 student</td>\n",
       "      <td>48067</td>\n",
       "      <td>2001-01-06 23:37:48</td>\n",
       "      <td>90s</td>\n",
       "    </tr>\n",
       "    <tr>\n",
       "      <th>3</th>\n",
       "      <td>48</td>\n",
       "      <td>Pocahontas</td>\n",
       "      <td>animation</td>\n",
       "      <td>1995</td>\n",
       "      <td>1</td>\n",
       "      <td>5</td>\n",
       "      <td>978824351</td>\n",
       "      <td>F</td>\n",
       "      <td>Under 18</td>\n",
       "      <td>K-12 student</td>\n",
       "      <td>48067</td>\n",
       "      <td>2001-01-06 23:39:11</td>\n",
       "      <td>90s</td>\n",
       "    </tr>\n",
       "  </tbody>\n",
       "</table>\n",
       "</div>"
      ],
      "text/plain": [
       "  movie_id       title     genres  year user_id  rating  timestamp gender  \\\n",
       "0        1   Toy Story  animation  1995       1       5  978824268      F   \n",
       "1        1   Toy Story   children  1995       1       5  978824268      F   \n",
       "2        1   Toy Story     comedy  1995       1       5  978824268      F   \n",
       "3       48  Pocahontas  animation  1995       1       5  978824351      F   \n",
       "\n",
       "        age    occupation zip_code            datetime release_bins  \n",
       "0  Under 18  K-12 student    48067 2001-01-06 23:37:48          90s  \n",
       "1  Under 18  K-12 student    48067 2001-01-06 23:37:48          90s  \n",
       "2  Under 18  K-12 student    48067 2001-01-06 23:37:48          90s  \n",
       "3  Under 18  K-12 student    48067 2001-01-06 23:39:11          90s  "
      ]
     },
     "execution_count": 85,
     "metadata": {},
     "output_type": "execute_result"
    }
   ],
   "source": [
    "mix_df.head(4)"
   ]
  },
  {
   "cell_type": "markdown",
   "metadata": {},
   "source": [
    "cmfrec requires user_id , movieid , rating"
   ]
  },
  {
   "cell_type": "code",
   "execution_count": 87,
   "metadata": {},
   "outputs": [
    {
     "data": {
      "text/html": [
       "<div>\n",
       "<style scoped>\n",
       "    .dataframe tbody tr th:only-of-type {\n",
       "        vertical-align: middle;\n",
       "    }\n",
       "\n",
       "    .dataframe tbody tr th {\n",
       "        vertical-align: top;\n",
       "    }\n",
       "\n",
       "    .dataframe thead th {\n",
       "        text-align: right;\n",
       "    }\n",
       "</style>\n",
       "<table border=\"1\" class=\"dataframe\">\n",
       "  <thead>\n",
       "    <tr style=\"text-align: right;\">\n",
       "      <th></th>\n",
       "      <th>UserId</th>\n",
       "      <th>ItemId</th>\n",
       "      <th>Rating</th>\n",
       "    </tr>\n",
       "  </thead>\n",
       "  <tbody>\n",
       "    <tr>\n",
       "      <th>0</th>\n",
       "      <td>1</td>\n",
       "      <td>1</td>\n",
       "      <td>5</td>\n",
       "    </tr>\n",
       "    <tr>\n",
       "      <th>1</th>\n",
       "      <td>1</td>\n",
       "      <td>1</td>\n",
       "      <td>5</td>\n",
       "    </tr>\n",
       "    <tr>\n",
       "      <th>2</th>\n",
       "      <td>1</td>\n",
       "      <td>1</td>\n",
       "      <td>5</td>\n",
       "    </tr>\n",
       "  </tbody>\n",
       "</table>\n",
       "</div>"
      ],
      "text/plain": [
       "  UserId ItemId  Rating\n",
       "0      1      1       5\n",
       "1      1      1       5\n",
       "2      1      1       5"
      ]
     },
     "execution_count": 87,
     "metadata": {},
     "output_type": "execute_result"
    }
   ],
   "source": [
    "user_item = mix_df[[\"user_id\",\"movie_id\",\"rating\"]] \n",
    "user_item.columns = ['UserId','ItemId','Rating'] \n",
    "user_item.head(3)"
   ]
  },
  {
   "cell_type": "code",
   "execution_count": 89,
   "metadata": {},
   "outputs": [
    {
     "name": "stdout",
     "output_type": "stream",
     "text": [
      "6040 3682\n"
     ]
    }
   ],
   "source": [
    "print(user_item[\"UserId\"].nunique() , user_item[\"ItemId\"].nunique())"
   ]
  },
  {
   "cell_type": "markdown",
   "metadata": {},
   "source": [
    "not able to install cmfrec in local machine , works fine in collab"
   ]
  },
  {
   "cell_type": "code",
   "execution_count": null,
   "metadata": {},
   "outputs": [],
   "source": [
    "from cmfrec import CMF\n"
   ]
  },
  {
   "cell_type": "code",
   "execution_count": null,
   "metadata": {},
   "outputs": [],
   "source": [
    "model_cmf = CMF(method=\"als\", k=4, lambda_=0.1, user_bias=False, item_bias=False, verbose=False) \n",
    "model_cmf.fit(user_item) "
   ]
  },
  {
   "cell_type": "code",
   "execution_count": null,
   "metadata": {},
   "outputs": [],
   "source": [
    "model.A_.shape, model.B_.shape\n",
    "#model.A_ gives the embeddings of Users and model.B_ gives the embeddings of Items."
   ]
  },
  {
   "cell_type": "markdown",
   "metadata": {},
   "source": [
    "((6040, 4), (3682, 4))"
   ]
  },
  {
   "cell_type": "code",
   "execution_count": null,
   "metadata": {},
   "outputs": [],
   "source": [
    "# The idea is to center the predicted ratings around the global mean, so that the model is not biased towards over- or under-predicting ratings. By adding the global mean, the model can focus on capturing the relative differences between users and items, rather than trying to predict the absolute ratings.\n",
    "\n",
    "print(model.user_itm.Rating.mean(), model.glob_mean_)  # Average rating and Global Mean\n"
   ]
  },
  {
   "cell_type": "code",
   "execution_count": null,
   "metadata": {},
   "outputs": [],
   "source": [
    "rm__ = np.dot(model.A_, model.B_.T) + model.glob_mean_ \n",
    "#Calculating the predicted ratings\n",
    "\n",
    "rmse = mean_squared_error(rm.values[rm > 0], rm__[rm > 0], squared=False) # calculating rmse value\n",
    "print('Root Mean Squared Error: {:.3f}'.format(rmse)) \n",
    "\n",
    "mape =  mean_absolute_percentage_error(rm.values[rm > 0], rm__[rm > 0]) #calculating mape value\n",
    "print('Mean Absolute Percentage Error: {:.3f}'.format(mape))"
   ]
  },
  {
   "cell_type": "code",
   "execution_count": null,
   "metadata": {},
   "outputs": [],
   "source": [
    "# embeddings for user_similarity \n",
    "\n",
    "user=cosine_similarity(model.A_)\n",
    "\n",
    "user_sim_matrix = pd.DataFrame(user, index=piv.index, columns=piv.index)\n",
    "print(user_sim_matrix.head())  #User similarity matrix using the embeddings from matrix factorization\n",
    "\n",
    "itm=cosine_similarity(model.B_)\n",
    "\n",
    "itm_sim_matrix = pd.DataFrame(itm, index=user_itm['ItemId'].unique(), columns=user_itm['ItemId'].unique())\n",
    "itm_sim_matrix.head()  #Item similarity matrix using the embeddings from matrix factorization\n"
   ]
  },
  {
   "cell_type": "code",
   "execution_count": null,
   "metadata": {},
   "outputs": [],
   "source": [
    "# From piv take the index of movie 'Liar Liar' then we can find co-relation with the itm_sim_matrix \n",
    "# just like we did in co-relation similarity above and add cmrec result to the below table."
   ]
  },
  {
   "cell_type": "markdown",
   "metadata": {},
   "source": [
    "#### comparing the results of  pearson correlation with cosine similarity "
   ]
  },
  {
   "cell_type": "markdown",
   "metadata": {},
   "source": [
    "<div>\n",
    "<style scoped>\n",
    "    .dataframe tbody tr th:only-of-type {\n",
    "        vertical-align: middle;\n",
    "    }\n",
    "\n",
    "    .dataframe tbody tr th {\n",
    "        vertical-align: top;\n",
    "    }\n",
    "\n",
    "    .dataframe thead th {\n",
    "        text-align: right;\n",
    "    }\n",
    "</style>\n",
    "<table border=\"1\" class=\"dataframe\">\n",
    "  <thead>\n",
    "    <tr style=\"text-align: right;\">\n",
    "      <th></th>\n",
    "      <th>correlation</th>\n",
    "    </tr>\n",
    "  </thead>\n",
    "  <tbody>\n",
    "    <tr>\n",
    "      <th>Liar Liar</th>\n",
    "      <td>1.000000</td>\n",
    "    </tr>\n",
    "    <tr>\n",
    "      <th>Mrs. Doubtfire</th>\n",
    "      <td>0.499927</td>\n",
    "    </tr>\n",
    "    <tr>\n",
    "      <th>Dumb &amp; Dumber</th>\n",
    "      <td>0.459601</td>\n",
    "    </tr>\n",
    "    <tr>\n",
    "      <th>Ace Ventura: Pet Detective</th>\n",
    "      <td>0.458654</td>\n",
    "    </tr>\n",
    "    <tr>\n",
    "      <th>Home Alone</th>\n",
    "      <td>0.455967</td>\n",
    "    </tr>\n",
    "    <tr>\n",
    "      <th>Wedding Singer, The</th>\n",
    "      <td>0.429222</td>\n",
    "    </tr>\n",
    "    <tr>\n",
    "      <th>Wayne's World</th>\n",
    "      <td>0.424552</td>\n",
    "    </tr>\n",
    "    <tr>\n",
    "      <th>Cable Guy, The</th>\n",
    "      <td>0.420942</td>\n",
    "    </tr>\n",
    "    <tr>\n",
    "      <th>Tommy Boy</th>\n",
    "      <td>0.413143</td>\n",
    "    </tr>\n",
    "    <tr>\n",
    "      <th>Austin Powers: International Man of Mystery</th>\n",
    "      <td>0.411105</td>\n",
    "    </tr>\n",
    "  </tbody>\n",
    "</table>\n",
    "</div>\n",
    "\n",
    "############################################################################### \n",
    "\n",
    "<div>\n",
    "<style scoped>\n",
    "    .dataframe tbody tr th:only-of-type {\n",
    "        vertical-align: middle;\n",
    "    }\n",
    "\n",
    "    .dataframe tbody tr th {\n",
    "        vertical-align: top;\n",
    "    }\n",
    "\n",
    "    .dataframe thead th {\n",
    "        text-align: right;\n",
    "    }\n",
    "</style>\n",
    "<table border=\"1\" class=\"dataframe\">\n",
    "  <thead>\n",
    "    <tr style=\"text-align: right;\">\n",
    "      <th></th>\n",
    "      <th>cosine_Similarity</th>\n",
    "    </tr>\n",
    "    <tr>\n",
    "      <th>title</th>\n",
    "      <th></th>\n",
    "    </tr>\n",
    "  </thead>\n",
    "  <tbody>\n",
    "    <tr>\n",
    "      <th>Liar Liar</th>\n",
    "      <td>1.000000</td>\n",
    "    </tr>\n",
    "    <tr>\n",
    "      <th>Mrs. Doubtfire</th>\n",
    "      <td>0.557067</td>\n",
    "    </tr>\n",
    "    <tr>\n",
    "      <th>Ace Ventura: Pet Detective</th>\n",
    "      <td>0.516861</td>\n",
    "    </tr>\n",
    "    <tr>\n",
    "      <th>Dumb &amp; Dumber</th>\n",
    "      <td>0.512585</td>\n",
    "    </tr>\n",
    "    <tr>\n",
    "      <th>Home Alone</th>\n",
    "      <td>0.511204</td>\n",
    "    </tr>\n",
    "    <tr>\n",
    "      <th>Wayne's World</th>\n",
    "      <td>0.499368</td>\n",
    "    </tr>\n",
    "    <tr>\n",
    "      <th>Wedding Singer, The</th>\n",
    "      <td>0.497076</td>\n",
    "    </tr>\n",
    "    <tr>\n",
    "      <th>Austin Powers: International Man of Mystery</th>\n",
    "      <td>0.489473</td>\n",
    "    </tr>\n",
    "    <tr>\n",
    "      <th>There's Something About Mary</th>\n",
    "      <td>0.483263</td>\n",
    "    </tr>\n",
    "    <tr>\n",
    "      <th>League of Their Own, A</th>\n",
    "      <td>0.482074</td>\n",
    "    </tr>\n",
    "  </tbody>\n",
    "</table>\n",
    "</div>\n",
    "\n",
    "################################################################# \n",
    "\n",
    "<div>\n",
    "<style scoped>\n",
    "    .dataframe tbody tr th:only-of-type {\n",
    "        vertical-align: middle;\n",
    "    }\n",
    "\n",
    "    .dataframe tbody tr th {\n",
    "        vertical-align: top;\n",
    "    }\n",
    "\n",
    "    .dataframe thead th {\n",
    "        text-align: right;\n",
    "    }\n",
    "</style>\n",
    "<table border=\"1\" class=\"dataframe\">\n",
    "  <thead>\n",
    "    <tr style=\"text-align: right;\">\n",
    "      <th></th>\n",
    "      <th>knn_disatnce</th>\n",
    "    </tr>\n",
    "    <tr>\n",
    "      <th>title</th>\n",
    "      <th></th>\n",
    "    </tr>\n",
    "  </thead>\n",
    "  <tbody>\n",
    "    <tr>\n",
    "      <th>Liar Liar</th>\n",
    "      <td>0.000000</td>\n",
    "    </tr>\n",
    "    <tr>\n",
    "      <th>Mrs. Doubtfire</th>\n",
    "      <td>0.442933</td>\n",
    "    </tr>\n",
    "    <tr>\n",
    "      <th>Ace Ventura: Pet Detective</th>\n",
    "      <td>0.483139</td>\n",
    "    </tr>\n",
    "    <tr>\n",
    "      <th>Dumb &amp; Dumber</th>\n",
    "      <td>0.487415</td>\n",
    "    </tr>\n",
    "    <tr>\n",
    "      <th>Home Alone</th>\n",
    "      <td>0.488796</td>\n",
    "    </tr>\n",
    "    <tr>\n",
    "      <th>Wayne's World</th>\n",
    "      <td>0.500632</td>\n",
    "    </tr>\n",
    "    <tr>\n",
    "      <th>Wedding Singer, The</th>\n",
    "      <td>0.502924</td>\n",
    "    </tr>\n",
    "    <tr>\n",
    "      <th>Austin Powers: International Man of Mystery</th>\n",
    "      <td>0.510527</td>\n",
    "    </tr>\n",
    "    <tr>\n",
    "      <th>There's Something About Mary</th>\n",
    "      <td>0.516737</td>\n",
    "    </tr>\n",
    "    <tr>\n",
    "      <th>League of Their Own, A</th>\n",
    "      <td>0.517926</td>\n",
    "    </tr>\n",
    "  </tbody>\n",
    "</table>\n",
    "</div>"
   ]
  },
  {
   "cell_type": "markdown",
   "metadata": {},
   "source": [
    "-- By Mahikshith"
   ]
  },
  {
   "cell_type": "markdown",
   "metadata": {},
   "source": []
  }
 ],
 "metadata": {
  "kernelspec": {
   "display_name": "Python 3",
   "language": "python",
   "name": "python3"
  },
  "language_info": {
   "codemirror_mode": {
    "name": "ipython",
    "version": 3
   },
   "file_extension": ".py",
   "mimetype": "text/x-python",
   "name": "python",
   "nbconvert_exporter": "python",
   "pygments_lexer": "ipython3",
   "version": "3.10.7"
  }
 },
 "nbformat": 4,
 "nbformat_minor": 2
}
