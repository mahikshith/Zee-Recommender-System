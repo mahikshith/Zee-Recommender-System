{
 "cells": [
  {
   "cell_type": "markdown",
   "metadata": {},
   "source": [
    "## ZEE Recommender System\n",
    "\n",
    "Problem statement : \n",
    "\n",
    "Build a recommender system that's going to recommend movies to a user based on ratings given by a user and other users similar to them in order to improve user experience."
   ]
  },
  {
   "cell_type": "code",
   "execution_count": 1,
   "metadata": {},
   "outputs": [],
   "source": [
    "# importing the libraries \n",
    "import pandas as pd\n",
    "import numpy as np\n",
    "import matplotlib.pyplot as plt\n",
    "import seaborn as sns\n",
    "from sklearn.metrics.pairwise import cosine_similarity\n",
    "from sklearn.neighbors import NearestNeighbors \n",
    "import warnings \n",
    "from sklearn.metrics import mean_squared_error,mean_absolute_percentage_error"
   ]
  },
  {
   "cell_type": "code",
   "execution_count": 2,
   "metadata": {},
   "outputs": [],
   "source": [
    "warnings.filterwarnings('ignore')"
   ]
  },
  {
   "cell_type": "code",
   "execution_count": 3,
   "metadata": {},
   "outputs": [],
   "source": [
    "# reading the data \n",
    "\n",
    "movies = pd.read_fwf('zee-movies.dat',encoding='ISO-8859-1')\n",
    "users = pd.read_fwf('zee-users.dat',encoding='ISO-8859-1')\n",
    "reviews = pd.read_fwf('zee-ratings.dat',encoding='ISO-8859-1')"
   ]
  },
  {
   "cell_type": "code",
   "execution_count": 4,
   "metadata": {},
   "outputs": [
    {
     "data": {
      "text/html": [
       "<div>\n",
       "<style scoped>\n",
       "    .dataframe tbody tr th:only-of-type {\n",
       "        vertical-align: middle;\n",
       "    }\n",
       "\n",
       "    .dataframe tbody tr th {\n",
       "        vertical-align: top;\n",
       "    }\n",
       "\n",
       "    .dataframe thead th {\n",
       "        text-align: right;\n",
       "    }\n",
       "</style>\n",
       "<table border=\"1\" class=\"dataframe\">\n",
       "  <thead>\n",
       "    <tr style=\"text-align: right;\">\n",
       "      <th></th>\n",
       "      <th>Movie ID::Title::Genres</th>\n",
       "      <th>Unnamed: 1</th>\n",
       "      <th>Unnamed: 2</th>\n",
       "    </tr>\n",
       "  </thead>\n",
       "  <tbody>\n",
       "    <tr>\n",
       "      <th>0</th>\n",
       "      <td>1::Toy Story (1995)::Animation|Children's|Comedy</td>\n",
       "      <td>NaN</td>\n",
       "      <td>NaN</td>\n",
       "    </tr>\n",
       "    <tr>\n",
       "      <th>1</th>\n",
       "      <td>2::Jumanji (1995)::Adventure|Children's|Fantasy</td>\n",
       "      <td>NaN</td>\n",
       "      <td>NaN</td>\n",
       "    </tr>\n",
       "    <tr>\n",
       "      <th>2</th>\n",
       "      <td>3::Grumpier Old Men (1995)::Comedy|Romance</td>\n",
       "      <td>NaN</td>\n",
       "      <td>NaN</td>\n",
       "    </tr>\n",
       "    <tr>\n",
       "      <th>3</th>\n",
       "      <td>4::Waiting to Exhale (1995)::Comedy|Drama</td>\n",
       "      <td>NaN</td>\n",
       "      <td>NaN</td>\n",
       "    </tr>\n",
       "  </tbody>\n",
       "</table>\n",
       "</div>"
      ],
      "text/plain": [
       "                            Movie ID::Title::Genres Unnamed: 1 Unnamed: 2\n",
       "0  1::Toy Story (1995)::Animation|Children's|Comedy        NaN        NaN\n",
       "1   2::Jumanji (1995)::Adventure|Children's|Fantasy        NaN        NaN\n",
       "2        3::Grumpier Old Men (1995)::Comedy|Romance        NaN        NaN\n",
       "3         4::Waiting to Exhale (1995)::Comedy|Drama        NaN        NaN"
      ]
     },
     "execution_count": 4,
     "metadata": {},
     "output_type": "execute_result"
    }
   ],
   "source": [
    "movies.head(4)"
   ]
  },
  {
   "cell_type": "code",
   "execution_count": 5,
   "metadata": {},
   "outputs": [
    {
     "data": {
      "text/html": [
       "<div>\n",
       "<style scoped>\n",
       "    .dataframe tbody tr th:only-of-type {\n",
       "        vertical-align: middle;\n",
       "    }\n",
       "\n",
       "    .dataframe tbody tr th {\n",
       "        vertical-align: top;\n",
       "    }\n",
       "\n",
       "    .dataframe thead th {\n",
       "        text-align: right;\n",
       "    }\n",
       "</style>\n",
       "<table border=\"1\" class=\"dataframe\">\n",
       "  <thead>\n",
       "    <tr style=\"text-align: right;\">\n",
       "      <th></th>\n",
       "      <th>Movie ID::Title::Genres</th>\n",
       "    </tr>\n",
       "  </thead>\n",
       "  <tbody>\n",
       "    <tr>\n",
       "      <th>0</th>\n",
       "      <td>1::Toy Story (1995)::Animation|Children's|Comedy</td>\n",
       "    </tr>\n",
       "    <tr>\n",
       "      <th>1</th>\n",
       "      <td>2::Jumanji (1995)::Adventure|Children's|Fantasy</td>\n",
       "    </tr>\n",
       "    <tr>\n",
       "      <th>2</th>\n",
       "      <td>3::Grumpier Old Men (1995)::Comedy|Romance</td>\n",
       "    </tr>\n",
       "    <tr>\n",
       "      <th>3</th>\n",
       "      <td>4::Waiting to Exhale (1995)::Comedy|Drama</td>\n",
       "    </tr>\n",
       "  </tbody>\n",
       "</table>\n",
       "</div>"
      ],
      "text/plain": [
       "                            Movie ID::Title::Genres\n",
       "0  1::Toy Story (1995)::Animation|Children's|Comedy\n",
       "1   2::Jumanji (1995)::Adventure|Children's|Fantasy\n",
       "2        3::Grumpier Old Men (1995)::Comedy|Romance\n",
       "3         4::Waiting to Exhale (1995)::Comedy|Drama"
      ]
     },
     "execution_count": 5,
     "metadata": {},
     "output_type": "execute_result"
    }
   ],
   "source": [
    "# drop unnamed columns\n",
    "movies.drop(['Unnamed: 1','Unnamed: 2'],axis=1,inplace=True)\n",
    "movies.head(4)"
   ]
  },
  {
   "cell_type": "code",
   "execution_count": 7,
   "metadata": {},
   "outputs": [],
   "source": [
    "# split the columns and expand into new columns\n",
    "movies = movies['Movie ID::Title::Genres'].str.split('::',expand=True)"
   ]
  },
  {
   "cell_type": "code",
   "execution_count": 9,
   "metadata": {},
   "outputs": [],
   "source": [
    "movies.columns = ['movie_id','title','genres']"
   ]
  },
  {
   "cell_type": "code",
   "execution_count": 11,
   "metadata": {},
   "outputs": [
    {
     "data": {
      "text/html": [
       "<div>\n",
       "<style scoped>\n",
       "    .dataframe tbody tr th:only-of-type {\n",
       "        vertical-align: middle;\n",
       "    }\n",
       "\n",
       "    .dataframe tbody tr th {\n",
       "        vertical-align: top;\n",
       "    }\n",
       "\n",
       "    .dataframe thead th {\n",
       "        text-align: right;\n",
       "    }\n",
       "</style>\n",
       "<table border=\"1\" class=\"dataframe\">\n",
       "  <thead>\n",
       "    <tr style=\"text-align: right;\">\n",
       "      <th></th>\n",
       "      <th>movie_id</th>\n",
       "      <th>title</th>\n",
       "      <th>genres</th>\n",
       "    </tr>\n",
       "  </thead>\n",
       "  <tbody>\n",
       "    <tr>\n",
       "      <th>0</th>\n",
       "      <td>1</td>\n",
       "      <td>Toy Story (1995)</td>\n",
       "      <td>Animation|Children's|Comedy</td>\n",
       "    </tr>\n",
       "    <tr>\n",
       "      <th>1</th>\n",
       "      <td>2</td>\n",
       "      <td>Jumanji (1995)</td>\n",
       "      <td>Adventure|Children's|Fantasy</td>\n",
       "    </tr>\n",
       "    <tr>\n",
       "      <th>2</th>\n",
       "      <td>3</td>\n",
       "      <td>Grumpier Old Men (1995)</td>\n",
       "      <td>Comedy|Romance</td>\n",
       "    </tr>\n",
       "    <tr>\n",
       "      <th>3</th>\n",
       "      <td>4</td>\n",
       "      <td>Waiting to Exhale (1995)</td>\n",
       "      <td>Comedy|Drama</td>\n",
       "    </tr>\n",
       "  </tbody>\n",
       "</table>\n",
       "</div>"
      ],
      "text/plain": [
       "  movie_id                     title                        genres\n",
       "0        1          Toy Story (1995)   Animation|Children's|Comedy\n",
       "1        2            Jumanji (1995)  Adventure|Children's|Fantasy\n",
       "2        3   Grumpier Old Men (1995)                Comedy|Romance\n",
       "3        4  Waiting to Exhale (1995)                  Comedy|Drama"
      ]
     },
     "execution_count": 11,
     "metadata": {},
     "output_type": "execute_result"
    }
   ],
   "source": [
    "movies.head(4)"
   ]
  },
  {
   "cell_type": "code",
   "execution_count": 13,
   "metadata": {},
   "outputs": [
    {
     "data": {
      "text/html": [
       "<div>\n",
       "<style scoped>\n",
       "    .dataframe tbody tr th:only-of-type {\n",
       "        vertical-align: middle;\n",
       "    }\n",
       "\n",
       "    .dataframe tbody tr th {\n",
       "        vertical-align: top;\n",
       "    }\n",
       "\n",
       "    .dataframe thead th {\n",
       "        text-align: right;\n",
       "    }\n",
       "</style>\n",
       "<table border=\"1\" class=\"dataframe\">\n",
       "  <thead>\n",
       "    <tr style=\"text-align: right;\">\n",
       "      <th></th>\n",
       "      <th>user_id</th>\n",
       "      <th>movie_id</th>\n",
       "      <th>rating</th>\n",
       "      <th>timestamp</th>\n",
       "    </tr>\n",
       "  </thead>\n",
       "  <tbody>\n",
       "    <tr>\n",
       "      <th>0</th>\n",
       "      <td>1</td>\n",
       "      <td>1193</td>\n",
       "      <td>5</td>\n",
       "      <td>978300760</td>\n",
       "    </tr>\n",
       "    <tr>\n",
       "      <th>1</th>\n",
       "      <td>1</td>\n",
       "      <td>661</td>\n",
       "      <td>3</td>\n",
       "      <td>978302109</td>\n",
       "    </tr>\n",
       "    <tr>\n",
       "      <th>2</th>\n",
       "      <td>1</td>\n",
       "      <td>914</td>\n",
       "      <td>3</td>\n",
       "      <td>978301968</td>\n",
       "    </tr>\n",
       "    <tr>\n",
       "      <th>3</th>\n",
       "      <td>1</td>\n",
       "      <td>3408</td>\n",
       "      <td>4</td>\n",
       "      <td>978300275</td>\n",
       "    </tr>\n",
       "  </tbody>\n",
       "</table>\n",
       "</div>"
      ],
      "text/plain": [
       "  user_id movie_id rating  timestamp\n",
       "0       1     1193      5  978300760\n",
       "1       1      661      3  978302109\n",
       "2       1      914      3  978301968\n",
       "3       1     3408      4  978300275"
      ]
     },
     "execution_count": 13,
     "metadata": {},
     "output_type": "execute_result"
    }
   ],
   "source": [
    "# splitting the reviews \n",
    "reviews = reviews['UserID::MovieID::Rating::Timestamp'].str.split('::',expand=True)\n",
    "reviews.columns = ['user_id','movie_id','rating','timestamp']\n",
    "reviews.head(4)"
   ]
  },
  {
   "cell_type": "code",
   "execution_count": 15,
   "metadata": {},
   "outputs": [
    {
     "data": {
      "text/html": [
       "<div>\n",
       "<style scoped>\n",
       "    .dataframe tbody tr th:only-of-type {\n",
       "        vertical-align: middle;\n",
       "    }\n",
       "\n",
       "    .dataframe tbody tr th {\n",
       "        vertical-align: top;\n",
       "    }\n",
       "\n",
       "    .dataframe thead th {\n",
       "        text-align: right;\n",
       "    }\n",
       "</style>\n",
       "<table border=\"1\" class=\"dataframe\">\n",
       "  <thead>\n",
       "    <tr style=\"text-align: right;\">\n",
       "      <th></th>\n",
       "      <th>user_id</th>\n",
       "      <th>gender</th>\n",
       "      <th>age</th>\n",
       "      <th>occupation</th>\n",
       "      <th>zip_code</th>\n",
       "    </tr>\n",
       "  </thead>\n",
       "  <tbody>\n",
       "    <tr>\n",
       "      <th>0</th>\n",
       "      <td>1</td>\n",
       "      <td>F</td>\n",
       "      <td>1</td>\n",
       "      <td>10</td>\n",
       "      <td>48067</td>\n",
       "    </tr>\n",
       "    <tr>\n",
       "      <th>1</th>\n",
       "      <td>2</td>\n",
       "      <td>M</td>\n",
       "      <td>56</td>\n",
       "      <td>16</td>\n",
       "      <td>70072</td>\n",
       "    </tr>\n",
       "    <tr>\n",
       "      <th>2</th>\n",
       "      <td>3</td>\n",
       "      <td>M</td>\n",
       "      <td>25</td>\n",
       "      <td>15</td>\n",
       "      <td>55117</td>\n",
       "    </tr>\n",
       "    <tr>\n",
       "      <th>3</th>\n",
       "      <td>4</td>\n",
       "      <td>M</td>\n",
       "      <td>45</td>\n",
       "      <td>7</td>\n",
       "      <td>02460</td>\n",
       "    </tr>\n",
       "  </tbody>\n",
       "</table>\n",
       "</div>"
      ],
      "text/plain": [
       "  user_id gender age occupation zip_code\n",
       "0       1      F   1         10    48067\n",
       "1       2      M  56         16    70072\n",
       "2       3      M  25         15    55117\n",
       "3       4      M  45          7    02460"
      ]
     },
     "execution_count": 15,
     "metadata": {},
     "output_type": "execute_result"
    }
   ],
   "source": [
    "# split users and expand into new columns\n",
    "users = users['UserID::Gender::Age::Occupation::Zip-code'].str.split('::',expand=True)\n",
    "users.columns = ['user_id','gender','age','occupation','zip_code']\n",
    "users.head(4)"
   ]
  },
  {
   "cell_type": "code",
   "execution_count": 19,
   "metadata": {},
   "outputs": [
    {
     "name": "stdout",
     "output_type": "stream",
     "text": [
      "<class 'pandas.core.frame.DataFrame'>\n",
      "RangeIndex: 6040 entries, 0 to 6039\n",
      "Data columns (total 5 columns):\n",
      " #   Column      Non-Null Count  Dtype \n",
      "---  ------      --------------  ----- \n",
      " 0   user_id     6040 non-null   object\n",
      " 1   gender      6040 non-null   object\n",
      " 2   age         6040 non-null   object\n",
      " 3   occupation  6040 non-null   object\n",
      " 4   zip_code    6040 non-null   object\n",
      "dtypes: object(5)\n",
      "memory usage: 236.1+ KB\n"
     ]
    }
   ],
   "source": [
    "users.info()"
   ]
  },
  {
   "cell_type": "code",
   "execution_count": 17,
   "metadata": {},
   "outputs": [
    {
     "data": {
      "text/plain": [
       "25    2096\n",
       "35    1193\n",
       "18    1103\n",
       "45     550\n",
       "50     496\n",
       "56     380\n",
       "1      222\n",
       "Name: age, dtype: int64"
      ]
     },
     "execution_count": 17,
     "metadata": {},
     "output_type": "execute_result"
    }
   ],
   "source": [
    "users[\"age\"].value_counts()"
   ]
  },
  {
   "cell_type": "code",
   "execution_count": 20,
   "metadata": {},
   "outputs": [],
   "source": [
    "users.replace({\"age\" : {\"1\":\"Under 18\",\"18\":\"18-24\",\n",
    "                        \"25\":\"25-34\",\"35\":\"25-34\",\n",
    "                        \"45\":\"45-49\",\"50\":\"50-55\",\"56\":\"56 Above\"}} , inplace = True)\n",
    "\n"
   ]
  },
  {
   "cell_type": "markdown",
   "metadata": {},
   "source": [
    "- Occupation is chosen from the following choices:\n",
    "\n",
    "\t*  0:  \"other\" or not specified\n",
    "\t*  1:  \"academic/educator\"\n",
    "\t*  2:  \"artist\"\n",
    "\t*  3:  \"clerical/admin\"\n",
    "\t*  4:  \"college/grad student\"\n",
    "\t*  5:  \"customer service\"\n",
    "\t*  6:  \"doctor/health care\"\n",
    "\t*  7:  \"executive/managerial\"\n",
    "\t*  8:  \"farmer\"\n",
    "\t*  9:  \"homemaker\"\n",
    "\t* 10:  \"K-12 student\"\n",
    "\t* 11:  \"lawyer\"\n",
    "\t* 12:  \"programmer\"\n",
    "\t* 13:  \"retired\"\n",
    "\t* 14:  \"sales/marketing\"\n",
    "\t* 15:  \"scientist\"\n",
    "\t* 16:  \"self-employed\"\n",
    "\t* 17:  \"technician/engineer\"\n",
    "\t* 18:  \"tradesman/craftsman\"\n",
    "\t* 19:  \"unemployed\"\n",
    "\t* 20:  \"writer\""
   ]
  },
  {
   "cell_type": "code",
   "execution_count": 22,
   "metadata": {},
   "outputs": [],
   "source": [
    "users.replace({\"occupation\": {\n",
    "    \"0\":\"other\",\"1\":\"academic/educator\",\"2\":\"artist\",\"3\":\"clerical/admin\",\n",
    "    \"4\":\"college/grad student\",\"5\":\"customer service\",\"6\":\"doctor/health care\",\n",
    "    \"7\":\"executive/managerial\",\"8\":\"farmer\",\"9\":\"homemaker\",\"10\":\"K-12 student\",\n",
    "    \"11\":\"lawyer\",\"12\":\"programmer\",\"13\":\"retired\",\"14\":\"sales/marketing\",\n",
    "    \"15\":\"scientist\",\"16\":\"self-employed\",\"17\":\"technician/engineer\",\n",
    "    \"18\":\"tradesman/craftsman\",\"19\":\"unemployed\",\"20\":\"writer\"}},inplace=True)\n"
   ]
  },
  {
   "cell_type": "markdown",
   "metadata": {},
   "source": [
    "## Data pre-processing"
   ]
  },
  {
   "cell_type": "code",
   "execution_count": 26,
   "metadata": {},
   "outputs": [
    {
     "name": "stdout",
     "output_type": "stream",
     "text": [
      "(6040, 5) (3883, 3) (1000209, 4)\n"
     ]
    }
   ],
   "source": [
    "print(users.shape , movies.shape , reviews.shape)"
   ]
  },
  {
   "cell_type": "code",
   "execution_count": 28,
   "metadata": {},
   "outputs": [
    {
     "data": {
      "text/plain": [
       "Index(['movie_id', 'title', 'genres'], dtype='object')"
      ]
     },
     "execution_count": 28,
     "metadata": {},
     "output_type": "execute_result"
    }
   ],
   "source": [
    "movies.columns"
   ]
  },
  {
   "cell_type": "code",
   "execution_count": 29,
   "metadata": {},
   "outputs": [
    {
     "data": {
      "text/plain": [
       "Index(['user_id', 'movie_id', 'rating', 'timestamp'], dtype='object')"
      ]
     },
     "execution_count": 29,
     "metadata": {},
     "output_type": "execute_result"
    }
   ],
   "source": [
    "# we can merge movies and reviews\n",
    "reviews.columns"
   ]
  },
  {
   "cell_type": "code",
   "execution_count": 30,
   "metadata": {},
   "outputs": [
    {
     "data": {
      "text/html": [
       "<div>\n",
       "<style scoped>\n",
       "    .dataframe tbody tr th:only-of-type {\n",
       "        vertical-align: middle;\n",
       "    }\n",
       "\n",
       "    .dataframe tbody tr th {\n",
       "        vertical-align: top;\n",
       "    }\n",
       "\n",
       "    .dataframe thead th {\n",
       "        text-align: right;\n",
       "    }\n",
       "</style>\n",
       "<table border=\"1\" class=\"dataframe\">\n",
       "  <thead>\n",
       "    <tr style=\"text-align: right;\">\n",
       "      <th></th>\n",
       "      <th>movie_id</th>\n",
       "      <th>title</th>\n",
       "      <th>genres</th>\n",
       "    </tr>\n",
       "  </thead>\n",
       "  <tbody>\n",
       "    <tr>\n",
       "      <th>0</th>\n",
       "      <td>1</td>\n",
       "      <td>Toy Story (1995)</td>\n",
       "      <td>Animation|Children's|Comedy</td>\n",
       "    </tr>\n",
       "    <tr>\n",
       "      <th>1</th>\n",
       "      <td>2</td>\n",
       "      <td>Jumanji (1995)</td>\n",
       "      <td>Adventure|Children's|Fantasy</td>\n",
       "    </tr>\n",
       "    <tr>\n",
       "      <th>2</th>\n",
       "      <td>3</td>\n",
       "      <td>Grumpier Old Men (1995)</td>\n",
       "      <td>Comedy|Romance</td>\n",
       "    </tr>\n",
       "  </tbody>\n",
       "</table>\n",
       "</div>"
      ],
      "text/plain": [
       "  movie_id                    title                        genres\n",
       "0        1         Toy Story (1995)   Animation|Children's|Comedy\n",
       "1        2           Jumanji (1995)  Adventure|Children's|Fantasy\n",
       "2        3  Grumpier Old Men (1995)                Comedy|Romance"
      ]
     },
     "execution_count": 30,
     "metadata": {},
     "output_type": "execute_result"
    }
   ],
   "source": [
    "movies.head(3)"
   ]
  },
  {
   "cell_type": "code",
   "execution_count": 31,
   "metadata": {},
   "outputs": [
    {
     "data": {
      "text/html": [
       "<div>\n",
       "<style scoped>\n",
       "    .dataframe tbody tr th:only-of-type {\n",
       "        vertical-align: middle;\n",
       "    }\n",
       "\n",
       "    .dataframe tbody tr th {\n",
       "        vertical-align: top;\n",
       "    }\n",
       "\n",
       "    .dataframe thead th {\n",
       "        text-align: right;\n",
       "    }\n",
       "</style>\n",
       "<table border=\"1\" class=\"dataframe\">\n",
       "  <thead>\n",
       "    <tr style=\"text-align: right;\">\n",
       "      <th></th>\n",
       "      <th>movie_id</th>\n",
       "      <th>title</th>\n",
       "      <th>genres</th>\n",
       "      <th>year</th>\n",
       "    </tr>\n",
       "  </thead>\n",
       "  <tbody>\n",
       "    <tr>\n",
       "      <th>0</th>\n",
       "      <td>1</td>\n",
       "      <td>Toy Story (1995)</td>\n",
       "      <td>Animation|Children's|Comedy</td>\n",
       "      <td>1995</td>\n",
       "    </tr>\n",
       "    <tr>\n",
       "      <th>1</th>\n",
       "      <td>2</td>\n",
       "      <td>Jumanji (1995)</td>\n",
       "      <td>Adventure|Children's|Fantasy</td>\n",
       "      <td>1995</td>\n",
       "    </tr>\n",
       "    <tr>\n",
       "      <th>2</th>\n",
       "      <td>3</td>\n",
       "      <td>Grumpier Old Men (1995)</td>\n",
       "      <td>Comedy|Romance</td>\n",
       "      <td>1995</td>\n",
       "    </tr>\n",
       "  </tbody>\n",
       "</table>\n",
       "</div>"
      ],
      "text/plain": [
       "  movie_id                    title                        genres  year\n",
       "0        1         Toy Story (1995)   Animation|Children's|Comedy  1995\n",
       "1        2           Jumanji (1995)  Adventure|Children's|Fantasy  1995\n",
       "2        3  Grumpier Old Men (1995)                Comedy|Romance  1995"
      ]
     },
     "execution_count": 31,
     "metadata": {},
     "output_type": "execute_result"
    }
   ],
   "source": [
    "# extract year from title\n",
    "movies['year'] = movies['title'].str.extract('.*\\((.*)\\).*')\n",
    "movies.head(3)"
   ]
  },
  {
   "cell_type": "code",
   "execution_count": 34,
   "metadata": {},
   "outputs": [],
   "source": [
    "# replace year with empty string and then strip it\n",
    "movies['title'] = movies['title'].str.replace('(\\(\\d\\d\\d\\d\\))', '') \n",
    "movies['title'] = movies['title'].apply(lambda x: x.strip())"
   ]
  },
  {
   "cell_type": "code",
   "execution_count": null,
   "metadata": {},
   "outputs": [],
   "source": [
    "# check if genres contain \"ro\"\n",
    "movies[movies['genres'].str.contains(\"Ro\",na=False)].sample(15)"
   ]
  },
  {
   "cell_type": "code",
   "execution_count": 62,
   "metadata": {},
   "outputs": [
    {
     "data": {
      "text/plain": [
       "Children's|Sci-Fi                                1\n",
       "Action|Sci-Fi|Thriller|Western                   1\n",
       "Adventure|Animation|Children's|Sci               1\n",
       "Children's|Horror                                1\n",
       "Action|Crime|Mystery|Thriller                    1\n",
       "                                                ..\n",
       "Action|Adventure|Children's                      1\n",
       "Action|Adventure|Children's|Fantasy              1\n",
       "Action|Adventure|Sci-Fi|Th                       1\n",
       "Adventure|Animation|Children's|Comedy|Musical    1\n",
       "Drama|Fantas                                     1\n",
       "Name: genres, Length: 188, dtype: int64"
      ]
     },
     "execution_count": 62,
     "metadata": {},
     "output_type": "execute_result"
    }
   ],
   "source": [
    "# movies['genres'].value_counts()[movies['genres'].value_counts() == 1]"
   ]
  },
  {
   "cell_type": "markdown",
   "metadata": {},
   "source": [
    "There are lot of values in  genres column with incomplete text , let's replace them  with original genre"
   ]
  },
  {
   "cell_type": "code",
   "execution_count": 63,
   "metadata": {},
   "outputs": [],
   "source": [
    "df_mov = movies.copy() \n",
    "df_mov.dropna(inplace=True) "
   ]
  },
  {
   "cell_type": "code",
   "execution_count": 64,
   "metadata": {},
   "outputs": [],
   "source": [
    "df_mov['genres'] = df_mov['genres'].str.split('|')"
   ]
  },
  {
   "cell_type": "code",
   "execution_count": 68,
   "metadata": {},
   "outputs": [],
   "source": [
    "df_mov = df_mov.explode('genres')\n"
   ]
  },
  {
   "cell_type": "code",
   "execution_count": null,
   "metadata": {},
   "outputs": [],
   "source": [
    "df_mov[\"genres\"].value_counts()"
   ]
  },
  {
   "cell_type": "markdown",
   "metadata": {},
   "source": [
    "- Genres are pipe-separated and are selected from the following genres:\n",
    "\n",
    "\t* Action\n",
    "\t* Adventure\n",
    "\t* Animation\n",
    "\t* Children's\n",
    "\t* Comedy\n",
    "\t* Crime\n",
    "\t* Documentary\n",
    "\t* Drama\n",
    "\t* Fantasy\n",
    "\t* Film-Noir\n",
    "\t* Horror\n",
    "\t* Musical\n",
    "\t* Mystery\n",
    "\t* Romance\n",
    "\t* Sci-Fi\n",
    "\t* Thriller\n",
    "\t* War\n",
    "\t* Western"
   ]
  },
  {
   "cell_type": "markdown",
   "metadata": {},
   "source": [
    "Manual pre-processing is needed for genre column"
   ]
  },
  {
   "cell_type": "code",
   "execution_count": 73,
   "metadata": {},
   "outputs": [
    {
     "data": {
      "text/html": [
       "<div>\n",
       "<style scoped>\n",
       "    .dataframe tbody tr th:only-of-type {\n",
       "        vertical-align: middle;\n",
       "    }\n",
       "\n",
       "    .dataframe tbody tr th {\n",
       "        vertical-align: top;\n",
       "    }\n",
       "\n",
       "    .dataframe thead th {\n",
       "        text-align: right;\n",
       "    }\n",
       "</style>\n",
       "<table border=\"1\" class=\"dataframe\">\n",
       "  <thead>\n",
       "    <tr style=\"text-align: right;\">\n",
       "      <th></th>\n",
       "      <th>movie_id</th>\n",
       "      <th>title</th>\n",
       "      <th>genres</th>\n",
       "      <th>year</th>\n",
       "    </tr>\n",
       "  </thead>\n",
       "  <tbody>\n",
       "    <tr>\n",
       "      <th>2</th>\n",
       "      <td>3</td>\n",
       "      <td>Grumpier Old Men</td>\n",
       "      <td>Romance</td>\n",
       "      <td>1995</td>\n",
       "    </tr>\n",
       "    <tr>\n",
       "      <th>6</th>\n",
       "      <td>7</td>\n",
       "      <td>Sabrina</td>\n",
       "      <td>Romance</td>\n",
       "      <td>1995</td>\n",
       "    </tr>\n",
       "    <tr>\n",
       "      <th>10</th>\n",
       "      <td>11</td>\n",
       "      <td>American President, The</td>\n",
       "      <td>Romance</td>\n",
       "      <td>1995</td>\n",
       "    </tr>\n",
       "    <tr>\n",
       "      <th>14</th>\n",
       "      <td>15</td>\n",
       "      <td>Cutthroat Island</td>\n",
       "      <td>Romance</td>\n",
       "      <td>1995</td>\n",
       "    </tr>\n",
       "    <tr>\n",
       "      <th>16</th>\n",
       "      <td>17</td>\n",
       "      <td>Sense and Sensibility</td>\n",
       "      <td>Romance</td>\n",
       "      <td>1995</td>\n",
       "    </tr>\n",
       "    <tr>\n",
       "      <th>...</th>\n",
       "      <td>...</td>\n",
       "      <td>...</td>\n",
       "      <td>...</td>\n",
       "      <td>...</td>\n",
       "    </tr>\n",
       "    <tr>\n",
       "      <th>3785</th>\n",
       "      <td>3855</td>\n",
       "      <td>Affair of Love, An (Une Liaison Pornographique)</td>\n",
       "      <td>Rom</td>\n",
       "      <td>1999</td>\n",
       "    </tr>\n",
       "    <tr>\n",
       "      <th>3804</th>\n",
       "      <td>3874</td>\n",
       "      <td>Couch in New York, A</td>\n",
       "      <td>Romance</td>\n",
       "      <td>1996</td>\n",
       "    </tr>\n",
       "    <tr>\n",
       "      <th>3815</th>\n",
       "      <td>3885</td>\n",
       "      <td>Love &amp; Sex</td>\n",
       "      <td>Romance</td>\n",
       "      <td>2000</td>\n",
       "    </tr>\n",
       "    <tr>\n",
       "      <th>3818</th>\n",
       "      <td>3888</td>\n",
       "      <td>Skipped Parts</td>\n",
       "      <td>Romance</td>\n",
       "      <td>2000</td>\n",
       "    </tr>\n",
       "    <tr>\n",
       "      <th>3839</th>\n",
       "      <td>3909</td>\n",
       "      <td>Woman on Top</td>\n",
       "      <td>Romance</td>\n",
       "      <td>2000</td>\n",
       "    </tr>\n",
       "  </tbody>\n",
       "</table>\n",
       "<p>461 rows × 4 columns</p>\n",
       "</div>"
      ],
      "text/plain": [
       "     movie_id                                            title   genres  year\n",
       "2           3                                 Grumpier Old Men  Romance  1995\n",
       "6           7                                          Sabrina  Romance  1995\n",
       "10         11                          American President, The  Romance  1995\n",
       "14         15                                 Cutthroat Island  Romance  1995\n",
       "16         17                            Sense and Sensibility  Romance  1995\n",
       "...       ...                                              ...      ...   ...\n",
       "3785     3855  Affair of Love, An (Une Liaison Pornographique)      Rom  1999\n",
       "3804     3874                             Couch in New York, A  Romance  1996\n",
       "3815     3885                                       Love & Sex  Romance  2000\n",
       "3818     3888                                    Skipped Parts  Romance  2000\n",
       "3839     3909                                     Woman on Top  Romance  2000\n",
       "\n",
       "[461 rows x 4 columns]"
      ]
     },
     "execution_count": 73,
     "metadata": {},
     "output_type": "execute_result"
    }
   ],
   "source": [
    "# check for romance - ro , romance , roman etc \n",
    "df_mov[df_mov[\"genres\"].str.contains(\"Ro\",na=False)]"
   ]
  },
  {
   "cell_type": "code",
   "execution_count": 75,
   "metadata": {},
   "outputs": [
    {
     "data": {
      "text/plain": [
       "Index(['Romance', 'Rom', 'Roman', 'Roma', 'Ro'], dtype='object')"
      ]
     },
     "execution_count": 75,
     "metadata": {},
     "output_type": "execute_result"
    }
   ],
   "source": [
    "df_mov[df_mov[\"genres\"].str.contains(\"Ro\",na=False)][\"genres\"].value_counts().index\n",
    "#romance\n",
    "df_mov['genres'] = df_mov['genres'].replace(['Rom', 'Roman', 'Roma', 'Ro','R'], 'romance')\n",
    "\n",
    "df_mov[df_mov[\"genres\"].str.contains(\"Ch\",na=False)][\"genres\"].value_counts().index\n",
    "#  children\n",
    "df_mov[\"genres\"] = df_mov[\"genres\"].replace([\"Children's\", 'Childre', 'Children', 'Chil', 'Childr', 'Children''Chi'], \"children\")\n",
    "df_mov[df_mov[\"genres\"].str.contains(\"Fan\",na=False)][\"genres\"].value_counts().index\n",
    "# replacing with fantasy\n",
    "df_mov[\"genres\"] = df_mov[\"genres\"].replace(['Fantas', 'Fantas', 'Fantasy','Fant'], 'fantasy')\n",
    "df_mov[df_mov[\"genres\"].str.contains(\"Dr\",na=False)][\"genres\"].value_counts().index\n",
    "#drama\n",
    "df_mov[\"genres\"] = df_mov[\"genres\"].replace(['Dram', 'Dram', 'Drama', 'Dr'], 'drama')\n",
    "# documentary\n",
    "df_mov[df_mov[\"genres\"].str.contains(\"Doc\",na=False)][\"genres\"].value_counts().index\n",
    "df_mov[\"genres\"] = df_mov[\"genres\"].replace(['Documenta', 'Document', 'Docu', 'Documen','Documentary'], 'documentary')\n",
    "df_mov[df_mov[\"genres\"].str.contains(\"Ad\",na=False)][\"genres\"].value_counts().index\n",
    "# replacing with adventure\n",
    "df_mov[\"genres\"] = df_mov[\"genres\"].replace(['Adv', 'Adventu', 'Adventur', 'Advent','Adventure'], 'adventure')\n",
    "\n",
    "df_mov[df_mov[\"genres\"].str.contains(\"An\",na=False)][\"genres\"].value_counts().index\n",
    "# replacing with animation\n",
    "df_mov[\"genres\"] = df_mov[\"genres\"].replace(['Animati', 'Animation'], 'animation')\n",
    "df_mov[df_mov[\"genres\"].str.contains(\"Co\",na=False)][\"genres\"].value_counts().index\n",
    "\n",
    "df_mov[\"genres\"] = df_mov[\"genres\"].replace(['Come', 'Comed', 'Com','Comedy'], 'comedy')\n",
    "df_mov[df_mov[\"genres\"].str.contains(\"Cr\",na=False)][\"genres\"].value_counts().index\n",
    "# replacing with crime\n",
    "df_mov[\"genres\"] = df_mov[\"genres\"].replace(['Cr','Crime','Crim','Crime'], 'crime')\n",
    "\n",
    "# film noir \n",
    "df_mov[df_mov[\"genres\"].str.contains(\"Fi\",na=False)][\"genres\"].value_counts().index\n",
    "\n",
    "df_mov[\"genres\"] = df_mov[\"genres\"].replace(['Fi','Film-Noir'], 'film-noir')\n",
    "# horror\n",
    "df_mov[df_mov[\"genres\"].str.contains(\"Ho\",na=False)][\"genres\"].value_counts().index\n",
    "\n",
    "df_mov[\"genres\"] = df_mov[\"genres\"].replace(['Horror', 'Horro', 'Horr'], 'horror')\n",
    "df_mov[df_mov[\"genres\"].str.contains(\"Mu\",na=False)][\"genres\"].value_counts().index\n",
    "#music\n",
    "df_mov[\"genres\"] = df_mov[\"genres\"].replace(['Musical', 'Music', 'Mus', 'Musical'], 'musical')\n",
    "\n",
    "df_mov[df_mov[\"genres\"].str.contains(\"My\",na=False)][\"genres\"].value_counts().index\n",
    "#mystery\n",
    "df_mov[\"genres\"] = df_mov[\"genres\"].replace(['My', 'Myst', 'Myster','Mystery'], 'mystery')\n",
    "\n",
    "df_mov[df_mov[\"genres\"].str.contains(\"Sci\",na=False)][\"genres\"].value_counts().index\n",
    "# sci-fi\n",
    "df_mov[\"genres\"] = df_mov[\"genres\"].replace(['Sci-Fi', 'Sci-', 'Sci', 'Sci-F'], 'sci-fi')\n",
    "\n",
    "df_mov[df_mov[\"genres\"].str.contains(\"Th\",na=False)][\"genres\"].value_counts().index \n",
    "# thriller\n",
    "df_mov[\"genres\"] = df_mov[\"genres\"].replace(['Thriller', 'Thri', 'Th', 'Thrille'], 'thriller')\n",
    "\n",
    "df_mov[df_mov[\"genres\"].str.contains(\"Wa\",na=False)][\"genres\"].value_counts().index\n",
    "# war\n",
    "df_mov[\"genres\"] = df_mov[\"genres\"].replace(['War', 'Wa'], 'war')\n",
    "\n",
    "df_mov[df_mov[\"genres\"].str.contains(\"We\",na=False)][\"genres\"].value_counts().index\n",
    "# western\n",
    "df_mov[\"genres\"] = df_mov[\"genres\"].replace(['Western', 'Wester', 'We'], 'western')\n",
    "\n",
    "df_mov[df_mov[\"genres\"].str.contains(\"Ac\",na=False)][\"genres\"].value_counts().index\n",
    "# action\n",
    "df_mov[\"genres\"] = df_mov[\"genres\"].replace(['Action', 'Ac','Acti'], 'action')\n",
    "\n",
    "df_mov[\"genres\"] = df_mov[\"genres\"].replace([\"Children's\", 'Childre', 'Children', 'Chil', 'Childr', 'Children','Chi',\"Children'\"], \"children\")\n",
    "df_mov[\"genres\"] = df_mov[\"genres\"].replace(['Romance','romance'],'romance')\n",
    "\n",
    "# everything else with na   \n",
    "df_mov[\"genres\"] = df_mov[\"genres\"].replace(['D', 'S', 'A', 'F',''], 'na')"
   ]
  },
  {
   "cell_type": "code",
   "execution_count": null,
   "metadata": {},
   "outputs": [],
   "source": []
  }
 ],
 "metadata": {
  "kernelspec": {
   "display_name": "Python 3",
   "language": "python",
   "name": "python3"
  },
  "language_info": {
   "codemirror_mode": {
    "name": "ipython",
    "version": 3
   },
   "file_extension": ".py",
   "mimetype": "text/x-python",
   "name": "python",
   "nbconvert_exporter": "python",
   "pygments_lexer": "ipython3",
   "version": "3.10.7"
  }
 },
 "nbformat": 4,
 "nbformat_minor": 2
}
